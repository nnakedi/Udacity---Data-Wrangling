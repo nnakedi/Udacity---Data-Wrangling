{
 "cells": [
  {
   "cell_type": "markdown",
   "metadata": {
    "pycharm": {
     "name": "#%% md\n"
    }
   },
   "source": [
    "\n",
    "# Project: Data Wrangling\n",
    "\n",
    "\n",
    "### Objective:\n",
    "wrangle WeRateDogs Twitter data to create interesting and trustworthy analyses and visualizations. The Twitter archive is great, but it only contains very basic tweet information. Additional gathering, then assessing and cleaning is required for \"Wow!\"-worthy analyses and visualizations.\n",
    "\n",
    "<b>Analyst:</b> Neo Nakedi\n",
    "\n"
   ]
  },
  {
   "cell_type": "markdown",
   "metadata": {
    "pycharm": {
     "name": "#%% md\n"
    }
   },
   "source": [
    "## Step 1: Gathering Data"
   ]
  },
  {
   "cell_type": "code",
   "execution_count": 1,
   "metadata": {
    "pycharm": {
     "name": "#%%\n"
    }
   },
   "outputs": [],
   "source": [
    "#Import python libraries\n",
    "import pandas as pd\n",
    "import requests\n",
    "import numpy as np\n",
    "import os\n",
    "import tweepy\n",
    "import matplotlib.pyplot as plt\n",
    "import json\n",
    "from tweepy import OAuthHandler\n",
    "from timeit import default_timer as timer\n",
    "\n",
    "#Set options\n",
    "pd.options.display.float_format = '{:.2f}'.format #Supress scientific notation and use 2 decimals\n",
    "%matplotlib inline\n"
   ]
  },
  {
   "cell_type": "markdown",
   "metadata": {
    "pycharm": {
     "name": "#%% md\n"
    }
   },
   "source": [
    "### 1.0 Import Twitter archive list\n",
    "> Dataframe of Tweet ids that will be used with the Tweepy API, to extract Tweets"
   ]
  },
  {
   "cell_type": "code",
   "execution_count": 2,
   "metadata": {
    "pycharm": {
     "name": "#%%\n"
    }
   },
   "outputs": [],
   "source": [
    "df_arctweets=pd.read_csv('twitter-archive-enhanced.csv')"
   ]
  },
  {
   "cell_type": "code",
   "execution_count": 3,
   "metadata": {
    "pycharm": {
     "name": "#%%\n"
    }
   },
   "outputs": [
    {
     "data": {
      "text/plain": "             tweet_id  in_reply_to_status_id  in_reply_to_user_id  \\\n0  892420643555336193                    NaN                  NaN   \n1  892177421306343426                    NaN                  NaN   \n2  891815181378084864                    NaN                  NaN   \n3  891689557279858688                    NaN                  NaN   \n4  891327558926688256                    NaN                  NaN   \n\n                   timestamp  \\\n0  2017-08-01 16:23:56 +0000   \n1  2017-08-01 00:17:27 +0000   \n2  2017-07-31 00:18:03 +0000   \n3  2017-07-30 15:58:51 +0000   \n4  2017-07-29 16:00:24 +0000   \n\n                                              source  \\\n0  <a href=\"http://twitter.com/download/iphone\" r...   \n1  <a href=\"http://twitter.com/download/iphone\" r...   \n2  <a href=\"http://twitter.com/download/iphone\" r...   \n3  <a href=\"http://twitter.com/download/iphone\" r...   \n4  <a href=\"http://twitter.com/download/iphone\" r...   \n\n                                                text  retweeted_status_id  \\\n0  This is Phineas. He's a mystical boy. Only eve...                  NaN   \n1  This is Tilly. She's just checking pup on you....                  NaN   \n2  This is Archie. He is a rare Norwegian Pouncin...                  NaN   \n3  This is Darla. She commenced a snooze mid meal...                  NaN   \n4  This is Franklin. He would like you to stop ca...                  NaN   \n\n   retweeted_status_user_id retweeted_status_timestamp  \\\n0                       NaN                        NaN   \n1                       NaN                        NaN   \n2                       NaN                        NaN   \n3                       NaN                        NaN   \n4                       NaN                        NaN   \n\n                                       expanded_urls  rating_numerator  \\\n0  https://twitter.com/dog_rates/status/892420643...                13   \n1  https://twitter.com/dog_rates/status/892177421...                13   \n2  https://twitter.com/dog_rates/status/891815181...                12   \n3  https://twitter.com/dog_rates/status/891689557...                13   \n4  https://twitter.com/dog_rates/status/891327558...                12   \n\n   rating_denominator      name doggo floofer pupper puppo  \n0                  10   Phineas  None    None   None  None  \n1                  10     Tilly  None    None   None  None  \n2                  10    Archie  None    None   None  None  \n3                  10     Darla  None    None   None  None  \n4                  10  Franklin  None    None   None  None  ",
      "text/html": "<div>\n<style scoped>\n    .dataframe tbody tr th:only-of-type {\n        vertical-align: middle;\n    }\n\n    .dataframe tbody tr th {\n        vertical-align: top;\n    }\n\n    .dataframe thead th {\n        text-align: right;\n    }\n</style>\n<table border=\"1\" class=\"dataframe\">\n  <thead>\n    <tr style=\"text-align: right;\">\n      <th></th>\n      <th>tweet_id</th>\n      <th>in_reply_to_status_id</th>\n      <th>in_reply_to_user_id</th>\n      <th>timestamp</th>\n      <th>source</th>\n      <th>text</th>\n      <th>retweeted_status_id</th>\n      <th>retweeted_status_user_id</th>\n      <th>retweeted_status_timestamp</th>\n      <th>expanded_urls</th>\n      <th>rating_numerator</th>\n      <th>rating_denominator</th>\n      <th>name</th>\n      <th>doggo</th>\n      <th>floofer</th>\n      <th>pupper</th>\n      <th>puppo</th>\n    </tr>\n  </thead>\n  <tbody>\n    <tr>\n      <th>0</th>\n      <td>892420643555336193</td>\n      <td>NaN</td>\n      <td>NaN</td>\n      <td>2017-08-01 16:23:56 +0000</td>\n      <td>&lt;a href=\"http://twitter.com/download/iphone\" r...</td>\n      <td>This is Phineas. He's a mystical boy. Only eve...</td>\n      <td>NaN</td>\n      <td>NaN</td>\n      <td>NaN</td>\n      <td>https://twitter.com/dog_rates/status/892420643...</td>\n      <td>13</td>\n      <td>10</td>\n      <td>Phineas</td>\n      <td>None</td>\n      <td>None</td>\n      <td>None</td>\n      <td>None</td>\n    </tr>\n    <tr>\n      <th>1</th>\n      <td>892177421306343426</td>\n      <td>NaN</td>\n      <td>NaN</td>\n      <td>2017-08-01 00:17:27 +0000</td>\n      <td>&lt;a href=\"http://twitter.com/download/iphone\" r...</td>\n      <td>This is Tilly. She's just checking pup on you....</td>\n      <td>NaN</td>\n      <td>NaN</td>\n      <td>NaN</td>\n      <td>https://twitter.com/dog_rates/status/892177421...</td>\n      <td>13</td>\n      <td>10</td>\n      <td>Tilly</td>\n      <td>None</td>\n      <td>None</td>\n      <td>None</td>\n      <td>None</td>\n    </tr>\n    <tr>\n      <th>2</th>\n      <td>891815181378084864</td>\n      <td>NaN</td>\n      <td>NaN</td>\n      <td>2017-07-31 00:18:03 +0000</td>\n      <td>&lt;a href=\"http://twitter.com/download/iphone\" r...</td>\n      <td>This is Archie. He is a rare Norwegian Pouncin...</td>\n      <td>NaN</td>\n      <td>NaN</td>\n      <td>NaN</td>\n      <td>https://twitter.com/dog_rates/status/891815181...</td>\n      <td>12</td>\n      <td>10</td>\n      <td>Archie</td>\n      <td>None</td>\n      <td>None</td>\n      <td>None</td>\n      <td>None</td>\n    </tr>\n    <tr>\n      <th>3</th>\n      <td>891689557279858688</td>\n      <td>NaN</td>\n      <td>NaN</td>\n      <td>2017-07-30 15:58:51 +0000</td>\n      <td>&lt;a href=\"http://twitter.com/download/iphone\" r...</td>\n      <td>This is Darla. She commenced a snooze mid meal...</td>\n      <td>NaN</td>\n      <td>NaN</td>\n      <td>NaN</td>\n      <td>https://twitter.com/dog_rates/status/891689557...</td>\n      <td>13</td>\n      <td>10</td>\n      <td>Darla</td>\n      <td>None</td>\n      <td>None</td>\n      <td>None</td>\n      <td>None</td>\n    </tr>\n    <tr>\n      <th>4</th>\n      <td>891327558926688256</td>\n      <td>NaN</td>\n      <td>NaN</td>\n      <td>2017-07-29 16:00:24 +0000</td>\n      <td>&lt;a href=\"http://twitter.com/download/iphone\" r...</td>\n      <td>This is Franklin. He would like you to stop ca...</td>\n      <td>NaN</td>\n      <td>NaN</td>\n      <td>NaN</td>\n      <td>https://twitter.com/dog_rates/status/891327558...</td>\n      <td>12</td>\n      <td>10</td>\n      <td>Franklin</td>\n      <td>None</td>\n      <td>None</td>\n      <td>None</td>\n      <td>None</td>\n    </tr>\n  </tbody>\n</table>\n</div>"
     },
     "execution_count": 3,
     "metadata": {},
     "output_type": "execute_result"
    }
   ],
   "source": [
    "#Check whether data is imported correctly\n",
    "df_arctweets.head()"
   ]
  },
  {
   "cell_type": "code",
   "execution_count": 4,
   "metadata": {
    "pycharm": {
     "name": "#%%\n"
    }
   },
   "outputs": [
    {
     "data": {
      "text/plain": "(2356, 17)"
     },
     "execution_count": 4,
     "metadata": {},
     "output_type": "execute_result"
    }
   ],
   "source": [
    "df_arctweets.shape"
   ]
  },
  {
   "cell_type": "markdown",
   "metadata": {
    "pycharm": {
     "name": "#%% md\n"
    }
   },
   "source": [
    "### 1.1 Download data using code\n",
    "> Download the <i>**image_predictions.tsv**</i> from Udacity's servers.\n",
    "This data contains image predictions (the top three only) alongside each tweet ID, image URL, and the image number that corresponded to the most confident prediction (numbered 1 to 4 since tweets can have up to four images)."
   ]
  },
  {
   "cell_type": "code",
   "execution_count": 5,
   "metadata": {
    "pycharm": {
     "name": "#%%\n"
    }
   },
   "outputs": [],
   "source": [
    "# Define variables for the request and file write\n",
    "url = 'https://d17h27t6h515a5.cloudfront.net/topher/2017/August/599fd2ad_image-predictions/image-predictions.tsv'\n",
    "response = requests.get(url)\n",
    "\n",
    "# Save Tab Separated Values (tsv) data to file in my current working directory\n",
    "with open('image_predictions.tsv', mode='wb') as file:\n",
    "    file.write(response.content)"
   ]
  },
  {
   "cell_type": "code",
   "execution_count": 6,
   "metadata": {
    "pycharm": {
     "name": "#%%\n"
    }
   },
   "outputs": [
    {
     "name": "stdout",
     "output_type": "stream",
     "text": [
      "Files in working directory:\n",
      ".idea\n",
      ".ipynb_checkpoints\n",
      "image_predictions.tsv\n",
      "test.py\n",
      "tweet-json.txt\n",
      "tweet_json.txt\n",
      "twitter-archive-enhanced.csv\n",
      "twitter_archive_master.csv\n",
      "wrangle_act - Copy.ipynb.bak\n",
      "wrangle_act.ipynb\n"
     ]
    }
   ],
   "source": [
    "#List directory to check file\n",
    "print('Files in working directory:')\n",
    "for files in os.listdir():\n",
    "    print(files)"
   ]
  },
  {
   "cell_type": "code",
   "execution_count": 7,
   "metadata": {
    "pycharm": {
     "name": "#%%\n"
    }
   },
   "outputs": [
    {
     "data": {
      "text/plain": "             tweet_id                                          jpg_url  \\\n0  666020888022790149  https://pbs.twimg.com/media/CT4udn0WwAA0aMy.jpg   \n1  666029285002620928  https://pbs.twimg.com/media/CT42GRgUYAA5iDo.jpg   \n\n   img_num                      p1  p1_conf  p1_dog                  p2  \\\n0        1  Welsh_springer_spaniel     0.47    True              collie   \n1        1                 redbone     0.51    True  miniature_pinscher   \n\n   p2_conf  p2_dog                   p3  p3_conf  p3_dog  \n0     0.16    True    Shetland_sheepdog     0.06    True  \n1     0.07    True  Rhodesian_ridgeback     0.07    True  ",
      "text/html": "<div>\n<style scoped>\n    .dataframe tbody tr th:only-of-type {\n        vertical-align: middle;\n    }\n\n    .dataframe tbody tr th {\n        vertical-align: top;\n    }\n\n    .dataframe thead th {\n        text-align: right;\n    }\n</style>\n<table border=\"1\" class=\"dataframe\">\n  <thead>\n    <tr style=\"text-align: right;\">\n      <th></th>\n      <th>tweet_id</th>\n      <th>jpg_url</th>\n      <th>img_num</th>\n      <th>p1</th>\n      <th>p1_conf</th>\n      <th>p1_dog</th>\n      <th>p2</th>\n      <th>p2_conf</th>\n      <th>p2_dog</th>\n      <th>p3</th>\n      <th>p3_conf</th>\n      <th>p3_dog</th>\n    </tr>\n  </thead>\n  <tbody>\n    <tr>\n      <th>0</th>\n      <td>666020888022790149</td>\n      <td>https://pbs.twimg.com/media/CT4udn0WwAA0aMy.jpg</td>\n      <td>1</td>\n      <td>Welsh_springer_spaniel</td>\n      <td>0.47</td>\n      <td>True</td>\n      <td>collie</td>\n      <td>0.16</td>\n      <td>True</td>\n      <td>Shetland_sheepdog</td>\n      <td>0.06</td>\n      <td>True</td>\n    </tr>\n    <tr>\n      <th>1</th>\n      <td>666029285002620928</td>\n      <td>https://pbs.twimg.com/media/CT42GRgUYAA5iDo.jpg</td>\n      <td>1</td>\n      <td>redbone</td>\n      <td>0.51</td>\n      <td>True</td>\n      <td>miniature_pinscher</td>\n      <td>0.07</td>\n      <td>True</td>\n      <td>Rhodesian_ridgeback</td>\n      <td>0.07</td>\n      <td>True</td>\n    </tr>\n  </tbody>\n</table>\n</div>"
     },
     "execution_count": 7,
     "metadata": {},
     "output_type": "execute_result"
    }
   ],
   "source": [
    "#import image_predictions.tsv to check file\n",
    "df_images=pd.read_csv('image_predictions.tsv',sep='\\t')\n",
    "df_images.head(2)"
   ]
  },
  {
   "cell_type": "code",
   "execution_count": 8,
   "metadata": {
    "pycharm": {
     "name": "#%%\n"
    }
   },
   "outputs": [
    {
     "data": {
      "text/plain": "(2075, 12)"
     },
     "execution_count": 8,
     "metadata": {},
     "output_type": "execute_result"
    }
   ],
   "source": [
    "df_images.shape"
   ]
  },
  {
   "cell_type": "markdown",
   "metadata": {
    "pycharm": {
     "name": "#%% md\n"
    }
   },
   "source": [
    "### 1.2 Additional data from the Twitter API\n",
    ">Download the <i>**tweet_json.txt**</i> via Tweepy.\n",
    ">\n",
    ">Gather each tweet's retweet count and favorite (\"like\") count at the minimum.\n",
    ">\n",
    ">Using the tweet IDs in the WeRateDogs Twitter archive, query the Twitter API for each tweet's JSON data using Python's Tweepy library and store each tweet's entire set of JSON data in a file called tweet_json.txt file."
   ]
  },
  {
   "cell_type": "code",
   "execution_count": null,
   "metadata": {
    "pycharm": {
     "name": "#%%\n"
    }
   },
   "outputs": [],
   "source": [
    "\n",
    "# These are hidden to comply with Twitter's API terms and conditions\n",
    "consumer_key = 'BxkC********************************'\n",
    "consumer_secret = '5pL6*****************************'\n",
    "access_token = '710*********************************'\n",
    "access_secret = 'Nv8O*******************************'\n",
    "\n",
    "auth = OAuthHandler(consumer_key, consumer_secret)\n",
    "auth.set_access_token(access_token, access_secret)\n",
    "\n",
    "api = tweepy.API(auth, wait_on_rate_limit=True)\n",
    "\n",
    "\n",
    "# NOTE TO REVIEWER: this student had mobile verification issues so the following\n",
    "# Twitter API code was sent to this student from a Udacity instructor\n",
    "# Tweet IDs for which to gather additional data via Twitter's API\n",
    "tweet_ids = df_arctweets.tweet_id.values\n",
    "len(tweet_ids)\n",
    "\n",
    "# Query Twitter's API for JSON data for each tweet ID in the Twitter archive\n",
    "count = 0\n",
    "fails_dict = {}\n",
    "start = timer()\n",
    "# Save each tweet's returned JSON as a new line in a .txt file\n",
    "with open('tweet_json.txt', 'w') as outfile:\n",
    "    # This loop will likely take 20-30 minutes to run because of Twitter's rate limit\n",
    "    for tweet_id in tweet_ids:\n",
    "        count += 1\n",
    "        print(str(count) + \": \" + str(tweet_id))\n",
    "        try:\n",
    "            tweet = api.get_status(tweet_id, tweet_mode='extended')\n",
    "            print(\"Success\")\n",
    "            json.dump(tweet._json, outfile)\n",
    "            outfile.write('\\n')\n",
    "        except tweepy.errors.TweepyException as e:\n",
    "            print(\"Fail\")\n",
    "            fails_dict[tweet_id] = e\n",
    "            pass\n",
    "end = timer()\n",
    "print(end - start)\n",
    "print(fails_dict)"
   ]
  },
  {
   "cell_type": "markdown",
   "metadata": {
    "pycharm": {
     "name": "#%% md\n"
    }
   },
   "source": [
    "1.2.1 Read JSON file into a pandas dataframe"
   ]
  },
  {
   "cell_type": "code",
   "execution_count": 9,
   "metadata": {
    "pycharm": {
     "name": "#%%\n"
    }
   },
   "outputs": [
    {
     "data": {
      "text/plain": "                 created_at                  id              id_str  \\\n0 2017-08-01 16:23:56+00:00  892420643555336193  892420643555336192   \n1 2017-08-01 00:17:27+00:00  892177421306343426  892177421306343424   \n2 2017-07-31 00:18:03+00:00  891815181378084864  891815181378084864   \n3 2017-07-30 15:58:51+00:00  891689557279858688  891689557279858688   \n4 2017-07-29 16:00:24+00:00  891327558926688256  891327558926688256   \n\n                                           full_text  truncated  \\\n0  This is Phineas. He's a mystical boy. Only eve...      False   \n1  This is Tilly. She's just checking pup on you....      False   \n2  This is Archie. He is a rare Norwegian Pouncin...      False   \n3  This is Darla. She commenced a snooze mid meal...      False   \n4  This is Franklin. He would like you to stop ca...      False   \n\n  display_text_range                                           entities  \\\n0            [0, 85]  {'hashtags': [], 'symbols': [], 'user_mentions...   \n1           [0, 138]  {'hashtags': [], 'symbols': [], 'user_mentions...   \n2           [0, 121]  {'hashtags': [], 'symbols': [], 'user_mentions...   \n3            [0, 79]  {'hashtags': [], 'symbols': [], 'user_mentions...   \n4           [0, 138]  {'hashtags': [{'text': 'BarkWeek', 'indices': ...   \n\n                                   extended_entities  \\\n0  {'media': [{'id': 892420639486877696, 'id_str'...   \n1  {'media': [{'id': 892177413194625024, 'id_str'...   \n2  {'media': [{'id': 891815175371796480, 'id_str'...   \n3  {'media': [{'id': 891689552724799489, 'id_str'...   \n4  {'media': [{'id': 891327551943041024, 'id_str'...   \n\n                                              source  in_reply_to_status_id  \\\n0  <a href=\"http://twitter.com/download/iphone\" r...                    NaN   \n1  <a href=\"http://twitter.com/download/iphone\" r...                    NaN   \n2  <a href=\"http://twitter.com/download/iphone\" r...                    NaN   \n3  <a href=\"http://twitter.com/download/iphone\" r...                    NaN   \n4  <a href=\"http://twitter.com/download/iphone\" r...                    NaN   \n\n   ...  favorite_count  favorited  retweeted possibly_sensitive  \\\n0  ...           39467      False      False               0.00   \n1  ...           33819      False      False               0.00   \n2  ...           25461      False      False               0.00   \n3  ...           42908      False      False               0.00   \n4  ...           41048      False      False               0.00   \n\n  possibly_sensitive_appealable  lang  retweeted_status quoted_status_id  \\\n0                          0.00    en               NaN              NaN   \n1                          0.00    en               NaN              NaN   \n2                          0.00    en               NaN              NaN   \n3                          0.00    en               NaN              NaN   \n4                          0.00    en               NaN              NaN   \n\n   quoted_status_id_str  quoted_status  \n0                   NaN            NaN  \n1                   NaN            NaN  \n2                   NaN            NaN  \n3                   NaN            NaN  \n4                   NaN            NaN  \n\n[5 rows x 31 columns]",
      "text/html": "<div>\n<style scoped>\n    .dataframe tbody tr th:only-of-type {\n        vertical-align: middle;\n    }\n\n    .dataframe tbody tr th {\n        vertical-align: top;\n    }\n\n    .dataframe thead th {\n        text-align: right;\n    }\n</style>\n<table border=\"1\" class=\"dataframe\">\n  <thead>\n    <tr style=\"text-align: right;\">\n      <th></th>\n      <th>created_at</th>\n      <th>id</th>\n      <th>id_str</th>\n      <th>full_text</th>\n      <th>truncated</th>\n      <th>display_text_range</th>\n      <th>entities</th>\n      <th>extended_entities</th>\n      <th>source</th>\n      <th>in_reply_to_status_id</th>\n      <th>...</th>\n      <th>favorite_count</th>\n      <th>favorited</th>\n      <th>retweeted</th>\n      <th>possibly_sensitive</th>\n      <th>possibly_sensitive_appealable</th>\n      <th>lang</th>\n      <th>retweeted_status</th>\n      <th>quoted_status_id</th>\n      <th>quoted_status_id_str</th>\n      <th>quoted_status</th>\n    </tr>\n  </thead>\n  <tbody>\n    <tr>\n      <th>0</th>\n      <td>2017-08-01 16:23:56+00:00</td>\n      <td>892420643555336193</td>\n      <td>892420643555336192</td>\n      <td>This is Phineas. He's a mystical boy. Only eve...</td>\n      <td>False</td>\n      <td>[0, 85]</td>\n      <td>{'hashtags': [], 'symbols': [], 'user_mentions...</td>\n      <td>{'media': [{'id': 892420639486877696, 'id_str'...</td>\n      <td>&lt;a href=\"http://twitter.com/download/iphone\" r...</td>\n      <td>NaN</td>\n      <td>...</td>\n      <td>39467</td>\n      <td>False</td>\n      <td>False</td>\n      <td>0.00</td>\n      <td>0.00</td>\n      <td>en</td>\n      <td>NaN</td>\n      <td>NaN</td>\n      <td>NaN</td>\n      <td>NaN</td>\n    </tr>\n    <tr>\n      <th>1</th>\n      <td>2017-08-01 00:17:27+00:00</td>\n      <td>892177421306343426</td>\n      <td>892177421306343424</td>\n      <td>This is Tilly. She's just checking pup on you....</td>\n      <td>False</td>\n      <td>[0, 138]</td>\n      <td>{'hashtags': [], 'symbols': [], 'user_mentions...</td>\n      <td>{'media': [{'id': 892177413194625024, 'id_str'...</td>\n      <td>&lt;a href=\"http://twitter.com/download/iphone\" r...</td>\n      <td>NaN</td>\n      <td>...</td>\n      <td>33819</td>\n      <td>False</td>\n      <td>False</td>\n      <td>0.00</td>\n      <td>0.00</td>\n      <td>en</td>\n      <td>NaN</td>\n      <td>NaN</td>\n      <td>NaN</td>\n      <td>NaN</td>\n    </tr>\n    <tr>\n      <th>2</th>\n      <td>2017-07-31 00:18:03+00:00</td>\n      <td>891815181378084864</td>\n      <td>891815181378084864</td>\n      <td>This is Archie. He is a rare Norwegian Pouncin...</td>\n      <td>False</td>\n      <td>[0, 121]</td>\n      <td>{'hashtags': [], 'symbols': [], 'user_mentions...</td>\n      <td>{'media': [{'id': 891815175371796480, 'id_str'...</td>\n      <td>&lt;a href=\"http://twitter.com/download/iphone\" r...</td>\n      <td>NaN</td>\n      <td>...</td>\n      <td>25461</td>\n      <td>False</td>\n      <td>False</td>\n      <td>0.00</td>\n      <td>0.00</td>\n      <td>en</td>\n      <td>NaN</td>\n      <td>NaN</td>\n      <td>NaN</td>\n      <td>NaN</td>\n    </tr>\n    <tr>\n      <th>3</th>\n      <td>2017-07-30 15:58:51+00:00</td>\n      <td>891689557279858688</td>\n      <td>891689557279858688</td>\n      <td>This is Darla. She commenced a snooze mid meal...</td>\n      <td>False</td>\n      <td>[0, 79]</td>\n      <td>{'hashtags': [], 'symbols': [], 'user_mentions...</td>\n      <td>{'media': [{'id': 891689552724799489, 'id_str'...</td>\n      <td>&lt;a href=\"http://twitter.com/download/iphone\" r...</td>\n      <td>NaN</td>\n      <td>...</td>\n      <td>42908</td>\n      <td>False</td>\n      <td>False</td>\n      <td>0.00</td>\n      <td>0.00</td>\n      <td>en</td>\n      <td>NaN</td>\n      <td>NaN</td>\n      <td>NaN</td>\n      <td>NaN</td>\n    </tr>\n    <tr>\n      <th>4</th>\n      <td>2017-07-29 16:00:24+00:00</td>\n      <td>891327558926688256</td>\n      <td>891327558926688256</td>\n      <td>This is Franklin. He would like you to stop ca...</td>\n      <td>False</td>\n      <td>[0, 138]</td>\n      <td>{'hashtags': [{'text': 'BarkWeek', 'indices': ...</td>\n      <td>{'media': [{'id': 891327551943041024, 'id_str'...</td>\n      <td>&lt;a href=\"http://twitter.com/download/iphone\" r...</td>\n      <td>NaN</td>\n      <td>...</td>\n      <td>41048</td>\n      <td>False</td>\n      <td>False</td>\n      <td>0.00</td>\n      <td>0.00</td>\n      <td>en</td>\n      <td>NaN</td>\n      <td>NaN</td>\n      <td>NaN</td>\n      <td>NaN</td>\n    </tr>\n  </tbody>\n</table>\n<p>5 rows × 31 columns</p>\n</div>"
     },
     "execution_count": 9,
     "metadata": {},
     "output_type": "execute_result"
    }
   ],
   "source": [
    "df_tweets = pd.read_json('tweet-json.txt', lines=True)\n",
    "\n",
    "df_tweets.head()"
   ]
  },
  {
   "cell_type": "code",
   "execution_count": 10,
   "metadata": {
    "pycharm": {
     "name": "#%%\n"
    }
   },
   "outputs": [
    {
     "data": {
      "text/plain": "(2354, 31)"
     },
     "execution_count": 10,
     "metadata": {},
     "output_type": "execute_result"
    }
   ],
   "source": [
    "df_tweets.shape"
   ]
  },
  {
   "cell_type": "markdown",
   "metadata": {
    "pycharm": {
     "name": "#%% md\n"
    }
   },
   "source": [
    "## Step 2: Assessing Data\n",
    "> Assess all data visually and programmatically\n",
    "\n",
    "> <b>Notes</b>:\n",
    "\n",
    "\n",
    "> - Original ratings (no retweets) that have images. Not all tweets are dog ratings and some are retweets.\n",
    "> - Assess and clean at least 8 quality issues and at least 2 tidiness issues in the datasets.\n",
    "> - Some rating numerators are greater than the denominators does not need to be cleaned. This unique rating system is a big part of the popularity of WeRateDogs.\n",
    "> - Tweets up to August 1st, 2017."
   ]
  },
  {
   "cell_type": "markdown",
   "metadata": {
    "pycharm": {
     "name": "#%% md\n"
    }
   },
   "source": [
    "#### 2.1 Tweepy API Tweets (df_tweets)\n",
    ">\n",
    "\n",
    "<b>Attribute - (Type) - Description</b>\n",
    "1. <b>created_at</b> - (String) - UTC time when this Tweet was created\n",
    "2. <b>id</b> - (Int64) - The integer representation of the unique identifier for this Tweet.\n",
    "3. <b>text</b> - (Str) - The actual UTF-8 text of the status update.\n",
    "4. <b>source</b> - (Str) -\tUtility used to post the Tweet, as an HTML-formatted string.\n",
    "5. <b>retweeted_status</b> - (Str) -\tUsers can amplify the broadcast of Tweets authored by other users by retweeting .\n",
    "6. <b>retweet_count</b> - (Int) -\tNumber of times this Tweet has been retweeted.\n",
    "7. <b>favorite_count</b> - (Int) -\tNullable.Indicates approximately how many times this Tweet has been liked by Twitter users.\n",
    "8. <b>favorited</b> - (Bool) - Nullable.Indicates whether this Tweet has been liked by the authenticating user.\n",
    "9. <b>retweeted</b> - (Bool) - Indicates whether this Tweet has been Retweeted by the authenticating user.\n",
    "\n",
    "<i>Source: https://developer.twitter.com/en/docs/twitter-api/v1/data-dictionary/object-model/tweet </i>\n"
   ]
  },
  {
   "cell_type": "markdown",
   "metadata": {
    "pycharm": {
     "name": "#%% md\n"
    }
   },
   "source": [
    "<b>2.1.1 - Visually assess data</b>"
   ]
  },
  {
   "cell_type": "code",
   "execution_count": 11,
   "metadata": {
    "pycharm": {
     "name": "#%%\n"
    }
   },
   "outputs": [
    {
     "data": {
      "text/plain": "                  created_at                  id              id_str  \\\n0  2017-08-01 16:23:56+00:00  892420643555336193  892420643555336192   \n1  2017-08-01 00:17:27+00:00  892177421306343426  892177421306343424   \n2  2017-07-31 00:18:03+00:00  891815181378084864  891815181378084864   \n3  2017-07-30 15:58:51+00:00  891689557279858688  891689557279858688   \n4  2017-07-29 16:00:24+00:00  891327558926688256  891327558926688256   \n5  2017-07-29 00:08:17+00:00  891087950875897856  891087950875897856   \n6  2017-07-28 16:27:12+00:00  890971913173991426  890971913173991424   \n7  2017-07-28 00:22:40+00:00  890729181411237888  890729181411237888   \n8  2017-07-27 16:25:51+00:00  890609185150312448  890609185150312448   \n9  2017-07-26 15:59:51+00:00  890240255349198849  890240255349198848   \n10 2017-07-26 00:31:25+00:00  890006608113172480  890006608113172480   \n11 2017-07-25 16:11:53+00:00  889880896479866881  889880896479866880   \n12 2017-07-25 01:55:32+00:00  889665388333682689  889665388333682688   \n13 2017-07-25 00:10:02+00:00  889638837579907072  889638837579907072   \n14 2017-07-24 17:02:04+00:00  889531135344209921  889531135344209920   \n15 2017-07-24 00:19:32+00:00  889278841981685760  889278841981685760   \n16 2017-07-23 00:22:39+00:00  888917238123831296  888917238123831296   \n17 2017-07-22 16:56:37+00:00  888804989199671297  888804989199671296   \n18 2017-07-22 00:23:06+00:00  888554962724278272  888554962724278272   \n19 2017-07-20 16:49:33+00:00  888078434458587136  888078434458587136   \n\n                                            full_text  truncated  \\\n0   This is Phineas. He's a mystical boy. Only eve...      False   \n1   This is Tilly. She's just checking pup on you....      False   \n2   This is Archie. He is a rare Norwegian Pouncin...      False   \n3   This is Darla. She commenced a snooze mid meal...      False   \n4   This is Franklin. He would like you to stop ca...      False   \n5   Here we have a majestic great white breaching ...      False   \n6   Meet Jax. He enjoys ice cream so much he gets ...      False   \n7   When you watch your owner call another dog a g...      False   \n8   This is Zoey. She doesn't want to be one of th...      False   \n9   This is Cassie. She is a college pup. Studying...      False   \n10  This is Koda. He is a South Australian decksha...      False   \n11  This is Bruno. He is a service shark. Only get...      False   \n12  Here's a puppo that seems to be on the fence a...      False   \n13  This is Ted. He does his best. Sometimes that'...      False   \n14  This is Stuart. He's sporting his favorite fan...      False   \n15  This is Oliver. You're witnessing one of his m...      False   \n16  This is Jim. He found a fren. Taught him how t...      False   \n17  This is Zeke. He has a new stick. Very proud o...      False   \n18  This is Ralphus. He's powering up. Attempting ...      False   \n19  This is Gerald. He was just told he didn't get...      False   \n\n   display_text_range                                           entities  \\\n0             [0, 85]  {'hashtags': [], 'symbols': [], 'user_mentions...   \n1            [0, 138]  {'hashtags': [], 'symbols': [], 'user_mentions...   \n2            [0, 121]  {'hashtags': [], 'symbols': [], 'user_mentions...   \n3             [0, 79]  {'hashtags': [], 'symbols': [], 'user_mentions...   \n4            [0, 138]  {'hashtags': [{'text': 'BarkWeek', 'indices': ...   \n5            [0, 138]  {'hashtags': [{'text': 'BarkWeek', 'indices': ...   \n6            [0, 140]  {'hashtags': [], 'symbols': [], 'user_mentions...   \n7            [0, 118]  {'hashtags': [], 'symbols': [], 'user_mentions...   \n8            [0, 122]  {'hashtags': [{'text': 'BarkWeek', 'indices': ...   \n9            [0, 133]  {'hashtags': [], 'symbols': [], 'user_mentions...   \n10           [0, 130]  {'hashtags': [{'text': 'BarkWeek', 'indices': ...   \n11           [0, 107]  {'hashtags': [], 'symbols': [], 'user_mentions...   \n12           [0, 106]  {'hashtags': [], 'symbols': [], 'user_mentions...   \n13            [0, 91]  {'hashtags': [], 'symbols': [], 'user_mentions...   \n14           [0, 118]  {'hashtags': [{'text': 'BarkWeek', 'indices': ...   \n15           [0, 138]  {'hashtags': [{'text': 'BarkWeek', 'indices': ...   \n16            [0, 86]  {'hashtags': [], 'symbols': [], 'user_mentions...   \n17           [0, 128]  {'hashtags': [], 'symbols': [], 'user_mentions...   \n18            [0, 87]  {'hashtags': [], 'symbols': [], 'user_mentions...   \n19           [0, 127]  {'hashtags': [], 'symbols': [], 'user_mentions...   \n\n                                    extended_entities  \\\n0   {'media': [{'id': 892420639486877696, 'id_str'...   \n1   {'media': [{'id': 892177413194625024, 'id_str'...   \n2   {'media': [{'id': 891815175371796480, 'id_str'...   \n3   {'media': [{'id': 891689552724799489, 'id_str'...   \n4   {'media': [{'id': 891327551943041024, 'id_str'...   \n5   {'media': [{'id': 891087942176911360, 'id_str'...   \n6   {'media': [{'id': 890971906207338496, 'id_str'...   \n7   {'media': [{'id': 890729118844600320, 'id_str'...   \n8   {'media': [{'id': 890609177319665665, 'id_str'...   \n9   {'media': [{'id': 890240245463175168, 'id_str'...   \n10  {'media': [{'id': 890006600089468928, 'id_str'...   \n11  {'media': [{'id': 889880888800096258, 'id_str'...   \n12  {'media': [{'id': 889665366129029120, 'id_str'...   \n13  {'media': [{'id': 889638825424826374, 'id_str'...   \n14  {'media': [{'id': 889531127467266049, 'id_str'...   \n15  {'media': [{'id': 889278779352338437, 'id_str'...   \n16  {'media': [{'id': 888917229776945152, 'id_str'...   \n17  {'media': [{'id': 888804981515575296, 'id_str'...   \n18  {'media': [{'id': 888554915546542081, 'id_str'...   \n19  {'media': [{'id': 888078426338406400, 'id_str'...   \n\n                                               source  in_reply_to_status_id  \\\n0   <a href=\"http://twitter.com/download/iphone\" r...                    NaN   \n1   <a href=\"http://twitter.com/download/iphone\" r...                    NaN   \n2   <a href=\"http://twitter.com/download/iphone\" r...                    NaN   \n3   <a href=\"http://twitter.com/download/iphone\" r...                    NaN   \n4   <a href=\"http://twitter.com/download/iphone\" r...                    NaN   \n5   <a href=\"http://twitter.com/download/iphone\" r...                    NaN   \n6   <a href=\"http://twitter.com/download/iphone\" r...                    NaN   \n7   <a href=\"http://twitter.com/download/iphone\" r...                    NaN   \n8   <a href=\"http://twitter.com/download/iphone\" r...                    NaN   \n9   <a href=\"http://twitter.com/download/iphone\" r...                    NaN   \n10  <a href=\"http://twitter.com/download/iphone\" r...                    NaN   \n11  <a href=\"http://twitter.com/download/iphone\" r...                    NaN   \n12  <a href=\"http://twitter.com/download/iphone\" r...                    NaN   \n13  <a href=\"http://twitter.com/download/iphone\" r...                    NaN   \n14  <a href=\"http://twitter.com/download/iphone\" r...                    NaN   \n15  <a href=\"http://twitter.com/download/iphone\" r...                    NaN   \n16  <a href=\"http://twitter.com/download/iphone\" r...                    NaN   \n17  <a href=\"http://twitter.com/download/iphone\" r...                    NaN   \n18  <a href=\"http://twitter.com/download/iphone\" r...                    NaN   \n19  <a href=\"http://twitter.com/download/iphone\" r...                    NaN   \n\n    ...  favorite_count  favorited  retweeted possibly_sensitive  \\\n0   ...           39467      False      False               0.00   \n1   ...           33819      False      False               0.00   \n2   ...           25461      False      False               0.00   \n3   ...           42908      False      False               0.00   \n4   ...           41048      False      False               0.00   \n5   ...           20562      False      False               0.00   \n6   ...           12041      False      False               0.00   \n7   ...           56848      False      False               0.00   \n8   ...           28226      False      False               0.00   \n9   ...           32467      False      False               0.00   \n10  ...           31166      False      False               0.00   \n11  ...           28268      False      False               0.00   \n12  ...           38818      False      False               0.00   \n13  ...           27672      False      False               0.00   \n14  ...           15359      False      False               0.00   \n15  ...           25652      False      False               0.00   \n16  ...           29611      False      False               0.00   \n17  ...           26080      False      False               0.00   \n18  ...           20290      False      False               0.00   \n19  ...           22201      False      False               0.00   \n\n   possibly_sensitive_appealable  lang  retweeted_status quoted_status_id  \\\n0                           0.00    en               NaN              NaN   \n1                           0.00    en               NaN              NaN   \n2                           0.00    en               NaN              NaN   \n3                           0.00    en               NaN              NaN   \n4                           0.00    en               NaN              NaN   \n5                           0.00    en               NaN              NaN   \n6                           0.00    en               NaN              NaN   \n7                           0.00    en               NaN              NaN   \n8                           0.00    en               NaN              NaN   \n9                           0.00    en               NaN              NaN   \n10                          0.00    en               NaN              NaN   \n11                          0.00    en               NaN              NaN   \n12                          0.00    en               NaN              NaN   \n13                          0.00    en               NaN              NaN   \n14                          0.00    en               NaN              NaN   \n15                          0.00    en               NaN              NaN   \n16                          0.00    en               NaN              NaN   \n17                          0.00    en               NaN              NaN   \n18                          0.00    en               NaN              NaN   \n19                          0.00    en               NaN              NaN   \n\n    quoted_status_id_str  quoted_status  \n0                    NaN            NaN  \n1                    NaN            NaN  \n2                    NaN            NaN  \n3                    NaN            NaN  \n4                    NaN            NaN  \n5                    NaN            NaN  \n6                    NaN            NaN  \n7                    NaN            NaN  \n8                    NaN            NaN  \n9                    NaN            NaN  \n10                   NaN            NaN  \n11                   NaN            NaN  \n12                   NaN            NaN  \n13                   NaN            NaN  \n14                   NaN            NaN  \n15                   NaN            NaN  \n16                   NaN            NaN  \n17                   NaN            NaN  \n18                   NaN            NaN  \n19                   NaN            NaN  \n\n[20 rows x 31 columns]",
      "text/html": "<div>\n<style scoped>\n    .dataframe tbody tr th:only-of-type {\n        vertical-align: middle;\n    }\n\n    .dataframe tbody tr th {\n        vertical-align: top;\n    }\n\n    .dataframe thead th {\n        text-align: right;\n    }\n</style>\n<table border=\"1\" class=\"dataframe\">\n  <thead>\n    <tr style=\"text-align: right;\">\n      <th></th>\n      <th>created_at</th>\n      <th>id</th>\n      <th>id_str</th>\n      <th>full_text</th>\n      <th>truncated</th>\n      <th>display_text_range</th>\n      <th>entities</th>\n      <th>extended_entities</th>\n      <th>source</th>\n      <th>in_reply_to_status_id</th>\n      <th>...</th>\n      <th>favorite_count</th>\n      <th>favorited</th>\n      <th>retweeted</th>\n      <th>possibly_sensitive</th>\n      <th>possibly_sensitive_appealable</th>\n      <th>lang</th>\n      <th>retweeted_status</th>\n      <th>quoted_status_id</th>\n      <th>quoted_status_id_str</th>\n      <th>quoted_status</th>\n    </tr>\n  </thead>\n  <tbody>\n    <tr>\n      <th>0</th>\n      <td>2017-08-01 16:23:56+00:00</td>\n      <td>892420643555336193</td>\n      <td>892420643555336192</td>\n      <td>This is Phineas. He's a mystical boy. Only eve...</td>\n      <td>False</td>\n      <td>[0, 85]</td>\n      <td>{'hashtags': [], 'symbols': [], 'user_mentions...</td>\n      <td>{'media': [{'id': 892420639486877696, 'id_str'...</td>\n      <td>&lt;a href=\"http://twitter.com/download/iphone\" r...</td>\n      <td>NaN</td>\n      <td>...</td>\n      <td>39467</td>\n      <td>False</td>\n      <td>False</td>\n      <td>0.00</td>\n      <td>0.00</td>\n      <td>en</td>\n      <td>NaN</td>\n      <td>NaN</td>\n      <td>NaN</td>\n      <td>NaN</td>\n    </tr>\n    <tr>\n      <th>1</th>\n      <td>2017-08-01 00:17:27+00:00</td>\n      <td>892177421306343426</td>\n      <td>892177421306343424</td>\n      <td>This is Tilly. She's just checking pup on you....</td>\n      <td>False</td>\n      <td>[0, 138]</td>\n      <td>{'hashtags': [], 'symbols': [], 'user_mentions...</td>\n      <td>{'media': [{'id': 892177413194625024, 'id_str'...</td>\n      <td>&lt;a href=\"http://twitter.com/download/iphone\" r...</td>\n      <td>NaN</td>\n      <td>...</td>\n      <td>33819</td>\n      <td>False</td>\n      <td>False</td>\n      <td>0.00</td>\n      <td>0.00</td>\n      <td>en</td>\n      <td>NaN</td>\n      <td>NaN</td>\n      <td>NaN</td>\n      <td>NaN</td>\n    </tr>\n    <tr>\n      <th>2</th>\n      <td>2017-07-31 00:18:03+00:00</td>\n      <td>891815181378084864</td>\n      <td>891815181378084864</td>\n      <td>This is Archie. He is a rare Norwegian Pouncin...</td>\n      <td>False</td>\n      <td>[0, 121]</td>\n      <td>{'hashtags': [], 'symbols': [], 'user_mentions...</td>\n      <td>{'media': [{'id': 891815175371796480, 'id_str'...</td>\n      <td>&lt;a href=\"http://twitter.com/download/iphone\" r...</td>\n      <td>NaN</td>\n      <td>...</td>\n      <td>25461</td>\n      <td>False</td>\n      <td>False</td>\n      <td>0.00</td>\n      <td>0.00</td>\n      <td>en</td>\n      <td>NaN</td>\n      <td>NaN</td>\n      <td>NaN</td>\n      <td>NaN</td>\n    </tr>\n    <tr>\n      <th>3</th>\n      <td>2017-07-30 15:58:51+00:00</td>\n      <td>891689557279858688</td>\n      <td>891689557279858688</td>\n      <td>This is Darla. She commenced a snooze mid meal...</td>\n      <td>False</td>\n      <td>[0, 79]</td>\n      <td>{'hashtags': [], 'symbols': [], 'user_mentions...</td>\n      <td>{'media': [{'id': 891689552724799489, 'id_str'...</td>\n      <td>&lt;a href=\"http://twitter.com/download/iphone\" r...</td>\n      <td>NaN</td>\n      <td>...</td>\n      <td>42908</td>\n      <td>False</td>\n      <td>False</td>\n      <td>0.00</td>\n      <td>0.00</td>\n      <td>en</td>\n      <td>NaN</td>\n      <td>NaN</td>\n      <td>NaN</td>\n      <td>NaN</td>\n    </tr>\n    <tr>\n      <th>4</th>\n      <td>2017-07-29 16:00:24+00:00</td>\n      <td>891327558926688256</td>\n      <td>891327558926688256</td>\n      <td>This is Franklin. He would like you to stop ca...</td>\n      <td>False</td>\n      <td>[0, 138]</td>\n      <td>{'hashtags': [{'text': 'BarkWeek', 'indices': ...</td>\n      <td>{'media': [{'id': 891327551943041024, 'id_str'...</td>\n      <td>&lt;a href=\"http://twitter.com/download/iphone\" r...</td>\n      <td>NaN</td>\n      <td>...</td>\n      <td>41048</td>\n      <td>False</td>\n      <td>False</td>\n      <td>0.00</td>\n      <td>0.00</td>\n      <td>en</td>\n      <td>NaN</td>\n      <td>NaN</td>\n      <td>NaN</td>\n      <td>NaN</td>\n    </tr>\n    <tr>\n      <th>5</th>\n      <td>2017-07-29 00:08:17+00:00</td>\n      <td>891087950875897856</td>\n      <td>891087950875897856</td>\n      <td>Here we have a majestic great white breaching ...</td>\n      <td>False</td>\n      <td>[0, 138]</td>\n      <td>{'hashtags': [{'text': 'BarkWeek', 'indices': ...</td>\n      <td>{'media': [{'id': 891087942176911360, 'id_str'...</td>\n      <td>&lt;a href=\"http://twitter.com/download/iphone\" r...</td>\n      <td>NaN</td>\n      <td>...</td>\n      <td>20562</td>\n      <td>False</td>\n      <td>False</td>\n      <td>0.00</td>\n      <td>0.00</td>\n      <td>en</td>\n      <td>NaN</td>\n      <td>NaN</td>\n      <td>NaN</td>\n      <td>NaN</td>\n    </tr>\n    <tr>\n      <th>6</th>\n      <td>2017-07-28 16:27:12+00:00</td>\n      <td>890971913173991426</td>\n      <td>890971913173991424</td>\n      <td>Meet Jax. He enjoys ice cream so much he gets ...</td>\n      <td>False</td>\n      <td>[0, 140]</td>\n      <td>{'hashtags': [], 'symbols': [], 'user_mentions...</td>\n      <td>{'media': [{'id': 890971906207338496, 'id_str'...</td>\n      <td>&lt;a href=\"http://twitter.com/download/iphone\" r...</td>\n      <td>NaN</td>\n      <td>...</td>\n      <td>12041</td>\n      <td>False</td>\n      <td>False</td>\n      <td>0.00</td>\n      <td>0.00</td>\n      <td>en</td>\n      <td>NaN</td>\n      <td>NaN</td>\n      <td>NaN</td>\n      <td>NaN</td>\n    </tr>\n    <tr>\n      <th>7</th>\n      <td>2017-07-28 00:22:40+00:00</td>\n      <td>890729181411237888</td>\n      <td>890729181411237888</td>\n      <td>When you watch your owner call another dog a g...</td>\n      <td>False</td>\n      <td>[0, 118]</td>\n      <td>{'hashtags': [], 'symbols': [], 'user_mentions...</td>\n      <td>{'media': [{'id': 890729118844600320, 'id_str'...</td>\n      <td>&lt;a href=\"http://twitter.com/download/iphone\" r...</td>\n      <td>NaN</td>\n      <td>...</td>\n      <td>56848</td>\n      <td>False</td>\n      <td>False</td>\n      <td>0.00</td>\n      <td>0.00</td>\n      <td>en</td>\n      <td>NaN</td>\n      <td>NaN</td>\n      <td>NaN</td>\n      <td>NaN</td>\n    </tr>\n    <tr>\n      <th>8</th>\n      <td>2017-07-27 16:25:51+00:00</td>\n      <td>890609185150312448</td>\n      <td>890609185150312448</td>\n      <td>This is Zoey. She doesn't want to be one of th...</td>\n      <td>False</td>\n      <td>[0, 122]</td>\n      <td>{'hashtags': [{'text': 'BarkWeek', 'indices': ...</td>\n      <td>{'media': [{'id': 890609177319665665, 'id_str'...</td>\n      <td>&lt;a href=\"http://twitter.com/download/iphone\" r...</td>\n      <td>NaN</td>\n      <td>...</td>\n      <td>28226</td>\n      <td>False</td>\n      <td>False</td>\n      <td>0.00</td>\n      <td>0.00</td>\n      <td>en</td>\n      <td>NaN</td>\n      <td>NaN</td>\n      <td>NaN</td>\n      <td>NaN</td>\n    </tr>\n    <tr>\n      <th>9</th>\n      <td>2017-07-26 15:59:51+00:00</td>\n      <td>890240255349198849</td>\n      <td>890240255349198848</td>\n      <td>This is Cassie. She is a college pup. Studying...</td>\n      <td>False</td>\n      <td>[0, 133]</td>\n      <td>{'hashtags': [], 'symbols': [], 'user_mentions...</td>\n      <td>{'media': [{'id': 890240245463175168, 'id_str'...</td>\n      <td>&lt;a href=\"http://twitter.com/download/iphone\" r...</td>\n      <td>NaN</td>\n      <td>...</td>\n      <td>32467</td>\n      <td>False</td>\n      <td>False</td>\n      <td>0.00</td>\n      <td>0.00</td>\n      <td>en</td>\n      <td>NaN</td>\n      <td>NaN</td>\n      <td>NaN</td>\n      <td>NaN</td>\n    </tr>\n    <tr>\n      <th>10</th>\n      <td>2017-07-26 00:31:25+00:00</td>\n      <td>890006608113172480</td>\n      <td>890006608113172480</td>\n      <td>This is Koda. He is a South Australian decksha...</td>\n      <td>False</td>\n      <td>[0, 130]</td>\n      <td>{'hashtags': [{'text': 'BarkWeek', 'indices': ...</td>\n      <td>{'media': [{'id': 890006600089468928, 'id_str'...</td>\n      <td>&lt;a href=\"http://twitter.com/download/iphone\" r...</td>\n      <td>NaN</td>\n      <td>...</td>\n      <td>31166</td>\n      <td>False</td>\n      <td>False</td>\n      <td>0.00</td>\n      <td>0.00</td>\n      <td>en</td>\n      <td>NaN</td>\n      <td>NaN</td>\n      <td>NaN</td>\n      <td>NaN</td>\n    </tr>\n    <tr>\n      <th>11</th>\n      <td>2017-07-25 16:11:53+00:00</td>\n      <td>889880896479866881</td>\n      <td>889880896479866880</td>\n      <td>This is Bruno. He is a service shark. Only get...</td>\n      <td>False</td>\n      <td>[0, 107]</td>\n      <td>{'hashtags': [], 'symbols': [], 'user_mentions...</td>\n      <td>{'media': [{'id': 889880888800096258, 'id_str'...</td>\n      <td>&lt;a href=\"http://twitter.com/download/iphone\" r...</td>\n      <td>NaN</td>\n      <td>...</td>\n      <td>28268</td>\n      <td>False</td>\n      <td>False</td>\n      <td>0.00</td>\n      <td>0.00</td>\n      <td>en</td>\n      <td>NaN</td>\n      <td>NaN</td>\n      <td>NaN</td>\n      <td>NaN</td>\n    </tr>\n    <tr>\n      <th>12</th>\n      <td>2017-07-25 01:55:32+00:00</td>\n      <td>889665388333682689</td>\n      <td>889665388333682688</td>\n      <td>Here's a puppo that seems to be on the fence a...</td>\n      <td>False</td>\n      <td>[0, 106]</td>\n      <td>{'hashtags': [], 'symbols': [], 'user_mentions...</td>\n      <td>{'media': [{'id': 889665366129029120, 'id_str'...</td>\n      <td>&lt;a href=\"http://twitter.com/download/iphone\" r...</td>\n      <td>NaN</td>\n      <td>...</td>\n      <td>38818</td>\n      <td>False</td>\n      <td>False</td>\n      <td>0.00</td>\n      <td>0.00</td>\n      <td>en</td>\n      <td>NaN</td>\n      <td>NaN</td>\n      <td>NaN</td>\n      <td>NaN</td>\n    </tr>\n    <tr>\n      <th>13</th>\n      <td>2017-07-25 00:10:02+00:00</td>\n      <td>889638837579907072</td>\n      <td>889638837579907072</td>\n      <td>This is Ted. He does his best. Sometimes that'...</td>\n      <td>False</td>\n      <td>[0, 91]</td>\n      <td>{'hashtags': [], 'symbols': [], 'user_mentions...</td>\n      <td>{'media': [{'id': 889638825424826374, 'id_str'...</td>\n      <td>&lt;a href=\"http://twitter.com/download/iphone\" r...</td>\n      <td>NaN</td>\n      <td>...</td>\n      <td>27672</td>\n      <td>False</td>\n      <td>False</td>\n      <td>0.00</td>\n      <td>0.00</td>\n      <td>en</td>\n      <td>NaN</td>\n      <td>NaN</td>\n      <td>NaN</td>\n      <td>NaN</td>\n    </tr>\n    <tr>\n      <th>14</th>\n      <td>2017-07-24 17:02:04+00:00</td>\n      <td>889531135344209921</td>\n      <td>889531135344209920</td>\n      <td>This is Stuart. He's sporting his favorite fan...</td>\n      <td>False</td>\n      <td>[0, 118]</td>\n      <td>{'hashtags': [{'text': 'BarkWeek', 'indices': ...</td>\n      <td>{'media': [{'id': 889531127467266049, 'id_str'...</td>\n      <td>&lt;a href=\"http://twitter.com/download/iphone\" r...</td>\n      <td>NaN</td>\n      <td>...</td>\n      <td>15359</td>\n      <td>False</td>\n      <td>False</td>\n      <td>0.00</td>\n      <td>0.00</td>\n      <td>en</td>\n      <td>NaN</td>\n      <td>NaN</td>\n      <td>NaN</td>\n      <td>NaN</td>\n    </tr>\n    <tr>\n      <th>15</th>\n      <td>2017-07-24 00:19:32+00:00</td>\n      <td>889278841981685760</td>\n      <td>889278841981685760</td>\n      <td>This is Oliver. You're witnessing one of his m...</td>\n      <td>False</td>\n      <td>[0, 138]</td>\n      <td>{'hashtags': [{'text': 'BarkWeek', 'indices': ...</td>\n      <td>{'media': [{'id': 889278779352338437, 'id_str'...</td>\n      <td>&lt;a href=\"http://twitter.com/download/iphone\" r...</td>\n      <td>NaN</td>\n      <td>...</td>\n      <td>25652</td>\n      <td>False</td>\n      <td>False</td>\n      <td>0.00</td>\n      <td>0.00</td>\n      <td>en</td>\n      <td>NaN</td>\n      <td>NaN</td>\n      <td>NaN</td>\n      <td>NaN</td>\n    </tr>\n    <tr>\n      <th>16</th>\n      <td>2017-07-23 00:22:39+00:00</td>\n      <td>888917238123831296</td>\n      <td>888917238123831296</td>\n      <td>This is Jim. He found a fren. Taught him how t...</td>\n      <td>False</td>\n      <td>[0, 86]</td>\n      <td>{'hashtags': [], 'symbols': [], 'user_mentions...</td>\n      <td>{'media': [{'id': 888917229776945152, 'id_str'...</td>\n      <td>&lt;a href=\"http://twitter.com/download/iphone\" r...</td>\n      <td>NaN</td>\n      <td>...</td>\n      <td>29611</td>\n      <td>False</td>\n      <td>False</td>\n      <td>0.00</td>\n      <td>0.00</td>\n      <td>en</td>\n      <td>NaN</td>\n      <td>NaN</td>\n      <td>NaN</td>\n      <td>NaN</td>\n    </tr>\n    <tr>\n      <th>17</th>\n      <td>2017-07-22 16:56:37+00:00</td>\n      <td>888804989199671297</td>\n      <td>888804989199671296</td>\n      <td>This is Zeke. He has a new stick. Very proud o...</td>\n      <td>False</td>\n      <td>[0, 128]</td>\n      <td>{'hashtags': [], 'symbols': [], 'user_mentions...</td>\n      <td>{'media': [{'id': 888804981515575296, 'id_str'...</td>\n      <td>&lt;a href=\"http://twitter.com/download/iphone\" r...</td>\n      <td>NaN</td>\n      <td>...</td>\n      <td>26080</td>\n      <td>False</td>\n      <td>False</td>\n      <td>0.00</td>\n      <td>0.00</td>\n      <td>en</td>\n      <td>NaN</td>\n      <td>NaN</td>\n      <td>NaN</td>\n      <td>NaN</td>\n    </tr>\n    <tr>\n      <th>18</th>\n      <td>2017-07-22 00:23:06+00:00</td>\n      <td>888554962724278272</td>\n      <td>888554962724278272</td>\n      <td>This is Ralphus. He's powering up. Attempting ...</td>\n      <td>False</td>\n      <td>[0, 87]</td>\n      <td>{'hashtags': [], 'symbols': [], 'user_mentions...</td>\n      <td>{'media': [{'id': 888554915546542081, 'id_str'...</td>\n      <td>&lt;a href=\"http://twitter.com/download/iphone\" r...</td>\n      <td>NaN</td>\n      <td>...</td>\n      <td>20290</td>\n      <td>False</td>\n      <td>False</td>\n      <td>0.00</td>\n      <td>0.00</td>\n      <td>en</td>\n      <td>NaN</td>\n      <td>NaN</td>\n      <td>NaN</td>\n      <td>NaN</td>\n    </tr>\n    <tr>\n      <th>19</th>\n      <td>2017-07-20 16:49:33+00:00</td>\n      <td>888078434458587136</td>\n      <td>888078434458587136</td>\n      <td>This is Gerald. He was just told he didn't get...</td>\n      <td>False</td>\n      <td>[0, 127]</td>\n      <td>{'hashtags': [], 'symbols': [], 'user_mentions...</td>\n      <td>{'media': [{'id': 888078426338406400, 'id_str'...</td>\n      <td>&lt;a href=\"http://twitter.com/download/iphone\" r...</td>\n      <td>NaN</td>\n      <td>...</td>\n      <td>22201</td>\n      <td>False</td>\n      <td>False</td>\n      <td>0.00</td>\n      <td>0.00</td>\n      <td>en</td>\n      <td>NaN</td>\n      <td>NaN</td>\n      <td>NaN</td>\n      <td>NaN</td>\n    </tr>\n  </tbody>\n</table>\n<p>20 rows × 31 columns</p>\n</div>"
     },
     "execution_count": 11,
     "metadata": {},
     "output_type": "execute_result"
    }
   ],
   "source": [
    "df_tweets.head(20)"
   ]
  },
  {
   "cell_type": "code",
   "execution_count": 12,
   "metadata": {
    "pycharm": {
     "name": "#%%\n"
    }
   },
   "outputs": [
    {
     "data": {
      "text/plain": "                    created_at                  id              id_str  \\\n2334 2015-11-16 15:14:19+00:00  666273097616637952  666273097616637952   \n2335 2015-11-16 14:57:41+00:00  666268910803644416  666268910803644416   \n2336 2015-11-16 04:02:55+00:00  666104133288665088  666104133288665088   \n2337 2015-11-16 03:55:04+00:00  666102155909144576  666102155909144576   \n2338 2015-11-16 03:44:34+00:00  666099513787052032  666099513787052032   \n2339 2015-11-16 03:22:39+00:00  666094000022159362  666094000022159360   \n2340 2015-11-16 02:38:37+00:00  666082916733198337  666082916733198336   \n2341 2015-11-16 01:59:36+00:00  666073100786774016  666073100786774016   \n2342 2015-11-16 01:52:02+00:00  666071193221509120  666071193221509120   \n2343 2015-11-16 01:22:45+00:00  666063827256086533  666063827256086528   \n2344 2015-11-16 01:01:59+00:00  666058600524156928  666058600524156928   \n2345 2015-11-16 00:55:59+00:00  666057090499244032  666057090499244032   \n2346 2015-11-16 00:49:46+00:00  666055525042405380  666055525042405376   \n2347 2015-11-16 00:35:11+00:00  666051853826850816  666051853826850816   \n2348 2015-11-16 00:30:50+00:00  666050758794694657  666050758794694656   \n2349 2015-11-16 00:24:50+00:00  666049248165822465  666049248165822464   \n2350 2015-11-16 00:04:52+00:00  666044226329800704  666044226329800704   \n2351 2015-11-15 23:21:54+00:00  666033412701032449  666033412701032448   \n2352 2015-11-15 23:05:30+00:00  666029285002620928  666029285002620928   \n2353 2015-11-15 22:32:08+00:00  666020888022790149  666020888022790144   \n\n                                              full_text  truncated  \\\n2334     Can take selfies 11/10 https://t.co/ws2AMaNwPW      False   \n2335  Very concerned about fellow dog trapped in com...      False   \n2336  Not familiar with this breed. No tail (weird)....      False   \n2337  Oh my. Here you are seeing an Adobe Setter giv...      False   \n2338  Can stand on stump for what seems like a while...      False   \n2339  This appears to be a Mongolian Presbyterian mi...      False   \n2340  Here we have a well-established sunblockerspan...      False   \n2341  Let's hope this flight isn't Malaysian (lol). ...      False   \n2342  Here we have a northern speckled Rhododendron....      False   \n2343  This is the happiest dog you will ever see. Ve...      False   \n2344  Here is the Rand Paul of retrievers folks! He'...      False   \n2345  My oh my. This is a rare blond Canadian terrie...      False   \n2346  Here is a Siberian heavily armored polar bear ...      False   \n2347  This is an odd dog. Hard on the outside but lo...      False   \n2348  This is a truly beautiful English Wilson Staff...      False   \n2349  Here we have a 1949 1st generation vulpix. Enj...      False   \n2350  This is a purebred Piers Morgan. Loves to Netf...      False   \n2351  Here is a very happy pup. Big fan of well-main...      False   \n2352  This is a western brown Mitsubishi terrier. Up...      False   \n2353  Here we have a Japanese Irish Setter. Lost eye...      False   \n\n     display_text_range                                           entities  \\\n2334            [0, 46]  {'hashtags': [], 'symbols': [], 'user_mentions...   \n2335            [0, 82]  {'hashtags': [], 'symbols': [], 'user_mentions...   \n2336           [0, 134]  {'hashtags': [], 'symbols': [], 'user_mentions...   \n2337           [0, 128]  {'hashtags': [], 'symbols': [], 'user_mentions...   \n2338           [0, 140]  {'hashtags': [], 'symbols': [], 'user_mentions...   \n2339           [0, 132]  {'hashtags': [], 'symbols': [], 'user_mentions...   \n2340           [0, 125]  {'hashtags': [], 'symbols': [], 'user_mentions...   \n2341           [0, 137]  {'hashtags': [], 'symbols': [], 'user_mentions...   \n2342           [0, 137]  {'hashtags': [], 'symbols': [], 'user_mentions...   \n2343           [0, 107]  {'hashtags': [], 'symbols': [], 'user_mentions...   \n2344           [0, 135]  {'hashtags': [], 'symbols': [], 'user_mentions...   \n2345           [0, 124]  {'hashtags': [], 'symbols': [], 'user_mentions...   \n2346           [0, 140]  {'hashtags': [], 'symbols': [], 'user_mentions...   \n2347           [0, 138]  {'hashtags': [], 'symbols': [], 'user_mentions...   \n2348           [0, 140]  {'hashtags': [], 'symbols': [], 'user_mentions...   \n2349           [0, 120]  {'hashtags': [], 'symbols': [], 'user_mentions...   \n2350           [0, 137]  {'hashtags': [], 'symbols': [], 'user_mentions...   \n2351           [0, 130]  {'hashtags': [], 'symbols': [], 'user_mentions...   \n2352           [0, 139]  {'hashtags': [], 'symbols': [], 'user_mentions...   \n2353           [0, 131]  {'hashtags': [], 'symbols': [], 'user_mentions...   \n\n                                      extended_entities  \\\n2334  {'media': [{'id': 666273081518768128, 'id_str'...   \n2335  {'media': [{'id': 666268904428277760, 'id_str'...   \n2336  {'media': [{'id': 666104129232740352, 'id_str'...   \n2337  {'media': [{'id': 666102150364286977, 'id_str'...   \n2338  {'media': [{'id': 666099505364733952, 'id_str'...   \n2339  {'media': [{'id': 666093996847063040, 'id_str'...   \n2340  {'media': [{'id': 666082912819875840, 'id_str'...   \n2341  {'media': [{'id': 666073098362486784, 'id_str'...   \n2342  {'media': [{'id': 666071190449033216, 'id_str'...   \n2343  {'media': [{'id': 666063820255862784, 'id_str'...   \n2344  {'media': [{'id': 666058597072306176, 'id_str'...   \n2345  {'media': [{'id': 666057085227016192, 'id_str'...   \n2346  {'media': [{'id': 666055517517848576, 'id_str'...   \n2347  {'media': [{'id': 666051848592334848, 'id_str'...   \n2348  {'media': [{'id': 666050754986266625, 'id_str'...   \n2349  {'media': [{'id': 666049244999131136, 'id_str'...   \n2350  {'media': [{'id': 666044217047650304, 'id_str'...   \n2351  {'media': [{'id': 666033409081393153, 'id_str'...   \n2352  {'media': [{'id': 666029276303482880, 'id_str'...   \n2353  {'media': [{'id': 666020881337073664, 'id_str'...   \n\n                                                 source  \\\n2334  <a href=\"http://twitter.com/download/iphone\" r...   \n2335  <a href=\"http://twitter.com/download/iphone\" r...   \n2336  <a href=\"http://twitter.com/download/iphone\" r...   \n2337  <a href=\"http://twitter.com/download/iphone\" r...   \n2338  <a href=\"http://twitter.com/download/iphone\" r...   \n2339  <a href=\"http://twitter.com/download/iphone\" r...   \n2340  <a href=\"http://twitter.com/download/iphone\" r...   \n2341  <a href=\"http://twitter.com/download/iphone\" r...   \n2342  <a href=\"http://twitter.com/download/iphone\" r...   \n2343  <a href=\"http://twitter.com/download/iphone\" r...   \n2344  <a href=\"http://twitter.com/download/iphone\" r...   \n2345  <a href=\"http://twitter.com/download/iphone\" r...   \n2346  <a href=\"http://twitter.com/download/iphone\" r...   \n2347  <a href=\"http://twitter.com/download/iphone\" r...   \n2348  <a href=\"http://twitter.com/download/iphone\" r...   \n2349  <a href=\"http://twitter.com/download/iphone\" r...   \n2350  <a href=\"http://twitter.com/download/iphone\" r...   \n2351  <a href=\"http://twitter.com/download/iphone\" r...   \n2352  <a href=\"http://twitter.com/download/iphone\" r...   \n2353  <a href=\"http://twitter.com/download/iphone\" r...   \n\n      in_reply_to_status_id  ...  favorite_count  favorited  retweeted  \\\n2334                    NaN  ...             184      False      False   \n2335                    NaN  ...             108      False      False   \n2336                    NaN  ...           14765      False      False   \n2337                    NaN  ...              81      False      False   \n2338                    NaN  ...             164      False      False   \n2339                    NaN  ...             169      False      False   \n2340                    NaN  ...             121      False      False   \n2341                    NaN  ...             335      False      False   \n2342                    NaN  ...             154      False      False   \n2343                    NaN  ...             496      False      False   \n2344                    NaN  ...             115      False      False   \n2345                    NaN  ...             304      False      False   \n2346                    NaN  ...             448      False      False   \n2347                    NaN  ...            1253      False      False   \n2348                    NaN  ...             136      False      False   \n2349                    NaN  ...             111      False      False   \n2350                    NaN  ...             311      False      False   \n2351                    NaN  ...             128      False      False   \n2352                    NaN  ...             132      False      False   \n2353                    NaN  ...            2535      False      False   \n\n     possibly_sensitive possibly_sensitive_appealable  lang  retweeted_status  \\\n2334               0.00                          0.00    en               NaN   \n2335               0.00                          0.00    en               NaN   \n2336               0.00                          0.00    en               NaN   \n2337               0.00                          0.00    en               NaN   \n2338               0.00                          0.00    en               NaN   \n2339               0.00                          0.00    en               NaN   \n2340               0.00                          0.00    en               NaN   \n2341               0.00                          0.00    en               NaN   \n2342               0.00                          0.00    en               NaN   \n2343               0.00                          0.00    en               NaN   \n2344               0.00                          0.00    en               NaN   \n2345               0.00                          0.00    en               NaN   \n2346               0.00                          0.00    en               NaN   \n2347               0.00                          0.00    en               NaN   \n2348               0.00                          0.00    en               NaN   \n2349               0.00                          0.00    en               NaN   \n2350               0.00                          0.00    en               NaN   \n2351               0.00                          0.00    en               NaN   \n2352               0.00                          0.00    en               NaN   \n2353               0.00                          0.00    en               NaN   \n\n     quoted_status_id  quoted_status_id_str  quoted_status  \n2334              NaN                   NaN            NaN  \n2335              NaN                   NaN            NaN  \n2336              NaN                   NaN            NaN  \n2337              NaN                   NaN            NaN  \n2338              NaN                   NaN            NaN  \n2339              NaN                   NaN            NaN  \n2340              NaN                   NaN            NaN  \n2341              NaN                   NaN            NaN  \n2342              NaN                   NaN            NaN  \n2343              NaN                   NaN            NaN  \n2344              NaN                   NaN            NaN  \n2345              NaN                   NaN            NaN  \n2346              NaN                   NaN            NaN  \n2347              NaN                   NaN            NaN  \n2348              NaN                   NaN            NaN  \n2349              NaN                   NaN            NaN  \n2350              NaN                   NaN            NaN  \n2351              NaN                   NaN            NaN  \n2352              NaN                   NaN            NaN  \n2353              NaN                   NaN            NaN  \n\n[20 rows x 31 columns]",
      "text/html": "<div>\n<style scoped>\n    .dataframe tbody tr th:only-of-type {\n        vertical-align: middle;\n    }\n\n    .dataframe tbody tr th {\n        vertical-align: top;\n    }\n\n    .dataframe thead th {\n        text-align: right;\n    }\n</style>\n<table border=\"1\" class=\"dataframe\">\n  <thead>\n    <tr style=\"text-align: right;\">\n      <th></th>\n      <th>created_at</th>\n      <th>id</th>\n      <th>id_str</th>\n      <th>full_text</th>\n      <th>truncated</th>\n      <th>display_text_range</th>\n      <th>entities</th>\n      <th>extended_entities</th>\n      <th>source</th>\n      <th>in_reply_to_status_id</th>\n      <th>...</th>\n      <th>favorite_count</th>\n      <th>favorited</th>\n      <th>retweeted</th>\n      <th>possibly_sensitive</th>\n      <th>possibly_sensitive_appealable</th>\n      <th>lang</th>\n      <th>retweeted_status</th>\n      <th>quoted_status_id</th>\n      <th>quoted_status_id_str</th>\n      <th>quoted_status</th>\n    </tr>\n  </thead>\n  <tbody>\n    <tr>\n      <th>2334</th>\n      <td>2015-11-16 15:14:19+00:00</td>\n      <td>666273097616637952</td>\n      <td>666273097616637952</td>\n      <td>Can take selfies 11/10 https://t.co/ws2AMaNwPW</td>\n      <td>False</td>\n      <td>[0, 46]</td>\n      <td>{'hashtags': [], 'symbols': [], 'user_mentions...</td>\n      <td>{'media': [{'id': 666273081518768128, 'id_str'...</td>\n      <td>&lt;a href=\"http://twitter.com/download/iphone\" r...</td>\n      <td>NaN</td>\n      <td>...</td>\n      <td>184</td>\n      <td>False</td>\n      <td>False</td>\n      <td>0.00</td>\n      <td>0.00</td>\n      <td>en</td>\n      <td>NaN</td>\n      <td>NaN</td>\n      <td>NaN</td>\n      <td>NaN</td>\n    </tr>\n    <tr>\n      <th>2335</th>\n      <td>2015-11-16 14:57:41+00:00</td>\n      <td>666268910803644416</td>\n      <td>666268910803644416</td>\n      <td>Very concerned about fellow dog trapped in com...</td>\n      <td>False</td>\n      <td>[0, 82]</td>\n      <td>{'hashtags': [], 'symbols': [], 'user_mentions...</td>\n      <td>{'media': [{'id': 666268904428277760, 'id_str'...</td>\n      <td>&lt;a href=\"http://twitter.com/download/iphone\" r...</td>\n      <td>NaN</td>\n      <td>...</td>\n      <td>108</td>\n      <td>False</td>\n      <td>False</td>\n      <td>0.00</td>\n      <td>0.00</td>\n      <td>en</td>\n      <td>NaN</td>\n      <td>NaN</td>\n      <td>NaN</td>\n      <td>NaN</td>\n    </tr>\n    <tr>\n      <th>2336</th>\n      <td>2015-11-16 04:02:55+00:00</td>\n      <td>666104133288665088</td>\n      <td>666104133288665088</td>\n      <td>Not familiar with this breed. No tail (weird)....</td>\n      <td>False</td>\n      <td>[0, 134]</td>\n      <td>{'hashtags': [], 'symbols': [], 'user_mentions...</td>\n      <td>{'media': [{'id': 666104129232740352, 'id_str'...</td>\n      <td>&lt;a href=\"http://twitter.com/download/iphone\" r...</td>\n      <td>NaN</td>\n      <td>...</td>\n      <td>14765</td>\n      <td>False</td>\n      <td>False</td>\n      <td>0.00</td>\n      <td>0.00</td>\n      <td>en</td>\n      <td>NaN</td>\n      <td>NaN</td>\n      <td>NaN</td>\n      <td>NaN</td>\n    </tr>\n    <tr>\n      <th>2337</th>\n      <td>2015-11-16 03:55:04+00:00</td>\n      <td>666102155909144576</td>\n      <td>666102155909144576</td>\n      <td>Oh my. Here you are seeing an Adobe Setter giv...</td>\n      <td>False</td>\n      <td>[0, 128]</td>\n      <td>{'hashtags': [], 'symbols': [], 'user_mentions...</td>\n      <td>{'media': [{'id': 666102150364286977, 'id_str'...</td>\n      <td>&lt;a href=\"http://twitter.com/download/iphone\" r...</td>\n      <td>NaN</td>\n      <td>...</td>\n      <td>81</td>\n      <td>False</td>\n      <td>False</td>\n      <td>0.00</td>\n      <td>0.00</td>\n      <td>en</td>\n      <td>NaN</td>\n      <td>NaN</td>\n      <td>NaN</td>\n      <td>NaN</td>\n    </tr>\n    <tr>\n      <th>2338</th>\n      <td>2015-11-16 03:44:34+00:00</td>\n      <td>666099513787052032</td>\n      <td>666099513787052032</td>\n      <td>Can stand on stump for what seems like a while...</td>\n      <td>False</td>\n      <td>[0, 140]</td>\n      <td>{'hashtags': [], 'symbols': [], 'user_mentions...</td>\n      <td>{'media': [{'id': 666099505364733952, 'id_str'...</td>\n      <td>&lt;a href=\"http://twitter.com/download/iphone\" r...</td>\n      <td>NaN</td>\n      <td>...</td>\n      <td>164</td>\n      <td>False</td>\n      <td>False</td>\n      <td>0.00</td>\n      <td>0.00</td>\n      <td>en</td>\n      <td>NaN</td>\n      <td>NaN</td>\n      <td>NaN</td>\n      <td>NaN</td>\n    </tr>\n    <tr>\n      <th>2339</th>\n      <td>2015-11-16 03:22:39+00:00</td>\n      <td>666094000022159362</td>\n      <td>666094000022159360</td>\n      <td>This appears to be a Mongolian Presbyterian mi...</td>\n      <td>False</td>\n      <td>[0, 132]</td>\n      <td>{'hashtags': [], 'symbols': [], 'user_mentions...</td>\n      <td>{'media': [{'id': 666093996847063040, 'id_str'...</td>\n      <td>&lt;a href=\"http://twitter.com/download/iphone\" r...</td>\n      <td>NaN</td>\n      <td>...</td>\n      <td>169</td>\n      <td>False</td>\n      <td>False</td>\n      <td>0.00</td>\n      <td>0.00</td>\n      <td>en</td>\n      <td>NaN</td>\n      <td>NaN</td>\n      <td>NaN</td>\n      <td>NaN</td>\n    </tr>\n    <tr>\n      <th>2340</th>\n      <td>2015-11-16 02:38:37+00:00</td>\n      <td>666082916733198337</td>\n      <td>666082916733198336</td>\n      <td>Here we have a well-established sunblockerspan...</td>\n      <td>False</td>\n      <td>[0, 125]</td>\n      <td>{'hashtags': [], 'symbols': [], 'user_mentions...</td>\n      <td>{'media': [{'id': 666082912819875840, 'id_str'...</td>\n      <td>&lt;a href=\"http://twitter.com/download/iphone\" r...</td>\n      <td>NaN</td>\n      <td>...</td>\n      <td>121</td>\n      <td>False</td>\n      <td>False</td>\n      <td>0.00</td>\n      <td>0.00</td>\n      <td>en</td>\n      <td>NaN</td>\n      <td>NaN</td>\n      <td>NaN</td>\n      <td>NaN</td>\n    </tr>\n    <tr>\n      <th>2341</th>\n      <td>2015-11-16 01:59:36+00:00</td>\n      <td>666073100786774016</td>\n      <td>666073100786774016</td>\n      <td>Let's hope this flight isn't Malaysian (lol). ...</td>\n      <td>False</td>\n      <td>[0, 137]</td>\n      <td>{'hashtags': [], 'symbols': [], 'user_mentions...</td>\n      <td>{'media': [{'id': 666073098362486784, 'id_str'...</td>\n      <td>&lt;a href=\"http://twitter.com/download/iphone\" r...</td>\n      <td>NaN</td>\n      <td>...</td>\n      <td>335</td>\n      <td>False</td>\n      <td>False</td>\n      <td>0.00</td>\n      <td>0.00</td>\n      <td>en</td>\n      <td>NaN</td>\n      <td>NaN</td>\n      <td>NaN</td>\n      <td>NaN</td>\n    </tr>\n    <tr>\n      <th>2342</th>\n      <td>2015-11-16 01:52:02+00:00</td>\n      <td>666071193221509120</td>\n      <td>666071193221509120</td>\n      <td>Here we have a northern speckled Rhododendron....</td>\n      <td>False</td>\n      <td>[0, 137]</td>\n      <td>{'hashtags': [], 'symbols': [], 'user_mentions...</td>\n      <td>{'media': [{'id': 666071190449033216, 'id_str'...</td>\n      <td>&lt;a href=\"http://twitter.com/download/iphone\" r...</td>\n      <td>NaN</td>\n      <td>...</td>\n      <td>154</td>\n      <td>False</td>\n      <td>False</td>\n      <td>0.00</td>\n      <td>0.00</td>\n      <td>en</td>\n      <td>NaN</td>\n      <td>NaN</td>\n      <td>NaN</td>\n      <td>NaN</td>\n    </tr>\n    <tr>\n      <th>2343</th>\n      <td>2015-11-16 01:22:45+00:00</td>\n      <td>666063827256086533</td>\n      <td>666063827256086528</td>\n      <td>This is the happiest dog you will ever see. Ve...</td>\n      <td>False</td>\n      <td>[0, 107]</td>\n      <td>{'hashtags': [], 'symbols': [], 'user_mentions...</td>\n      <td>{'media': [{'id': 666063820255862784, 'id_str'...</td>\n      <td>&lt;a href=\"http://twitter.com/download/iphone\" r...</td>\n      <td>NaN</td>\n      <td>...</td>\n      <td>496</td>\n      <td>False</td>\n      <td>False</td>\n      <td>0.00</td>\n      <td>0.00</td>\n      <td>en</td>\n      <td>NaN</td>\n      <td>NaN</td>\n      <td>NaN</td>\n      <td>NaN</td>\n    </tr>\n    <tr>\n      <th>2344</th>\n      <td>2015-11-16 01:01:59+00:00</td>\n      <td>666058600524156928</td>\n      <td>666058600524156928</td>\n      <td>Here is the Rand Paul of retrievers folks! He'...</td>\n      <td>False</td>\n      <td>[0, 135]</td>\n      <td>{'hashtags': [], 'symbols': [], 'user_mentions...</td>\n      <td>{'media': [{'id': 666058597072306176, 'id_str'...</td>\n      <td>&lt;a href=\"http://twitter.com/download/iphone\" r...</td>\n      <td>NaN</td>\n      <td>...</td>\n      <td>115</td>\n      <td>False</td>\n      <td>False</td>\n      <td>0.00</td>\n      <td>0.00</td>\n      <td>en</td>\n      <td>NaN</td>\n      <td>NaN</td>\n      <td>NaN</td>\n      <td>NaN</td>\n    </tr>\n    <tr>\n      <th>2345</th>\n      <td>2015-11-16 00:55:59+00:00</td>\n      <td>666057090499244032</td>\n      <td>666057090499244032</td>\n      <td>My oh my. This is a rare blond Canadian terrie...</td>\n      <td>False</td>\n      <td>[0, 124]</td>\n      <td>{'hashtags': [], 'symbols': [], 'user_mentions...</td>\n      <td>{'media': [{'id': 666057085227016192, 'id_str'...</td>\n      <td>&lt;a href=\"http://twitter.com/download/iphone\" r...</td>\n      <td>NaN</td>\n      <td>...</td>\n      <td>304</td>\n      <td>False</td>\n      <td>False</td>\n      <td>0.00</td>\n      <td>0.00</td>\n      <td>en</td>\n      <td>NaN</td>\n      <td>NaN</td>\n      <td>NaN</td>\n      <td>NaN</td>\n    </tr>\n    <tr>\n      <th>2346</th>\n      <td>2015-11-16 00:49:46+00:00</td>\n      <td>666055525042405380</td>\n      <td>666055525042405376</td>\n      <td>Here is a Siberian heavily armored polar bear ...</td>\n      <td>False</td>\n      <td>[0, 140]</td>\n      <td>{'hashtags': [], 'symbols': [], 'user_mentions...</td>\n      <td>{'media': [{'id': 666055517517848576, 'id_str'...</td>\n      <td>&lt;a href=\"http://twitter.com/download/iphone\" r...</td>\n      <td>NaN</td>\n      <td>...</td>\n      <td>448</td>\n      <td>False</td>\n      <td>False</td>\n      <td>0.00</td>\n      <td>0.00</td>\n      <td>en</td>\n      <td>NaN</td>\n      <td>NaN</td>\n      <td>NaN</td>\n      <td>NaN</td>\n    </tr>\n    <tr>\n      <th>2347</th>\n      <td>2015-11-16 00:35:11+00:00</td>\n      <td>666051853826850816</td>\n      <td>666051853826850816</td>\n      <td>This is an odd dog. Hard on the outside but lo...</td>\n      <td>False</td>\n      <td>[0, 138]</td>\n      <td>{'hashtags': [], 'symbols': [], 'user_mentions...</td>\n      <td>{'media': [{'id': 666051848592334848, 'id_str'...</td>\n      <td>&lt;a href=\"http://twitter.com/download/iphone\" r...</td>\n      <td>NaN</td>\n      <td>...</td>\n      <td>1253</td>\n      <td>False</td>\n      <td>False</td>\n      <td>0.00</td>\n      <td>0.00</td>\n      <td>en</td>\n      <td>NaN</td>\n      <td>NaN</td>\n      <td>NaN</td>\n      <td>NaN</td>\n    </tr>\n    <tr>\n      <th>2348</th>\n      <td>2015-11-16 00:30:50+00:00</td>\n      <td>666050758794694657</td>\n      <td>666050758794694656</td>\n      <td>This is a truly beautiful English Wilson Staff...</td>\n      <td>False</td>\n      <td>[0, 140]</td>\n      <td>{'hashtags': [], 'symbols': [], 'user_mentions...</td>\n      <td>{'media': [{'id': 666050754986266625, 'id_str'...</td>\n      <td>&lt;a href=\"http://twitter.com/download/iphone\" r...</td>\n      <td>NaN</td>\n      <td>...</td>\n      <td>136</td>\n      <td>False</td>\n      <td>False</td>\n      <td>0.00</td>\n      <td>0.00</td>\n      <td>en</td>\n      <td>NaN</td>\n      <td>NaN</td>\n      <td>NaN</td>\n      <td>NaN</td>\n    </tr>\n    <tr>\n      <th>2349</th>\n      <td>2015-11-16 00:24:50+00:00</td>\n      <td>666049248165822465</td>\n      <td>666049248165822464</td>\n      <td>Here we have a 1949 1st generation vulpix. Enj...</td>\n      <td>False</td>\n      <td>[0, 120]</td>\n      <td>{'hashtags': [], 'symbols': [], 'user_mentions...</td>\n      <td>{'media': [{'id': 666049244999131136, 'id_str'...</td>\n      <td>&lt;a href=\"http://twitter.com/download/iphone\" r...</td>\n      <td>NaN</td>\n      <td>...</td>\n      <td>111</td>\n      <td>False</td>\n      <td>False</td>\n      <td>0.00</td>\n      <td>0.00</td>\n      <td>en</td>\n      <td>NaN</td>\n      <td>NaN</td>\n      <td>NaN</td>\n      <td>NaN</td>\n    </tr>\n    <tr>\n      <th>2350</th>\n      <td>2015-11-16 00:04:52+00:00</td>\n      <td>666044226329800704</td>\n      <td>666044226329800704</td>\n      <td>This is a purebred Piers Morgan. Loves to Netf...</td>\n      <td>False</td>\n      <td>[0, 137]</td>\n      <td>{'hashtags': [], 'symbols': [], 'user_mentions...</td>\n      <td>{'media': [{'id': 666044217047650304, 'id_str'...</td>\n      <td>&lt;a href=\"http://twitter.com/download/iphone\" r...</td>\n      <td>NaN</td>\n      <td>...</td>\n      <td>311</td>\n      <td>False</td>\n      <td>False</td>\n      <td>0.00</td>\n      <td>0.00</td>\n      <td>en</td>\n      <td>NaN</td>\n      <td>NaN</td>\n      <td>NaN</td>\n      <td>NaN</td>\n    </tr>\n    <tr>\n      <th>2351</th>\n      <td>2015-11-15 23:21:54+00:00</td>\n      <td>666033412701032449</td>\n      <td>666033412701032448</td>\n      <td>Here is a very happy pup. Big fan of well-main...</td>\n      <td>False</td>\n      <td>[0, 130]</td>\n      <td>{'hashtags': [], 'symbols': [], 'user_mentions...</td>\n      <td>{'media': [{'id': 666033409081393153, 'id_str'...</td>\n      <td>&lt;a href=\"http://twitter.com/download/iphone\" r...</td>\n      <td>NaN</td>\n      <td>...</td>\n      <td>128</td>\n      <td>False</td>\n      <td>False</td>\n      <td>0.00</td>\n      <td>0.00</td>\n      <td>en</td>\n      <td>NaN</td>\n      <td>NaN</td>\n      <td>NaN</td>\n      <td>NaN</td>\n    </tr>\n    <tr>\n      <th>2352</th>\n      <td>2015-11-15 23:05:30+00:00</td>\n      <td>666029285002620928</td>\n      <td>666029285002620928</td>\n      <td>This is a western brown Mitsubishi terrier. Up...</td>\n      <td>False</td>\n      <td>[0, 139]</td>\n      <td>{'hashtags': [], 'symbols': [], 'user_mentions...</td>\n      <td>{'media': [{'id': 666029276303482880, 'id_str'...</td>\n      <td>&lt;a href=\"http://twitter.com/download/iphone\" r...</td>\n      <td>NaN</td>\n      <td>...</td>\n      <td>132</td>\n      <td>False</td>\n      <td>False</td>\n      <td>0.00</td>\n      <td>0.00</td>\n      <td>en</td>\n      <td>NaN</td>\n      <td>NaN</td>\n      <td>NaN</td>\n      <td>NaN</td>\n    </tr>\n    <tr>\n      <th>2353</th>\n      <td>2015-11-15 22:32:08+00:00</td>\n      <td>666020888022790149</td>\n      <td>666020888022790144</td>\n      <td>Here we have a Japanese Irish Setter. Lost eye...</td>\n      <td>False</td>\n      <td>[0, 131]</td>\n      <td>{'hashtags': [], 'symbols': [], 'user_mentions...</td>\n      <td>{'media': [{'id': 666020881337073664, 'id_str'...</td>\n      <td>&lt;a href=\"http://twitter.com/download/iphone\" r...</td>\n      <td>NaN</td>\n      <td>...</td>\n      <td>2535</td>\n      <td>False</td>\n      <td>False</td>\n      <td>0.00</td>\n      <td>0.00</td>\n      <td>en</td>\n      <td>NaN</td>\n      <td>NaN</td>\n      <td>NaN</td>\n      <td>NaN</td>\n    </tr>\n  </tbody>\n</table>\n<p>20 rows × 31 columns</p>\n</div>"
     },
     "execution_count": 12,
     "metadata": {},
     "output_type": "execute_result"
    }
   ],
   "source": [
    "df_tweets.tail(20)"
   ]
  },
  {
   "cell_type": "markdown",
   "metadata": {
    "pycharm": {
     "name": "#%% md\n"
    }
   },
   "source": [
    "<b>2.1.2 - Visual observations</b>\n",
    "Viewed in Pandas & Excel\n",
    "> 1. Some fields such as extended entities, source, entities etc, contain python dictionaries, lists and html tags.\n",
    ">\n",
    "> 2. There are some confusing columns that appear to be the same such as 'retweeted' and 'tweet status',\n",
    ">  id and id_str is a duplicate column, the only difference is the data type\n",
    "> 3. A number of columns contain null values ('NaN)"
   ]
  },
  {
   "cell_type": "markdown",
   "source": [
    "<b>2.1.3 - Programmatically assess JSON Tweets(df_tweets) dataset</b>\n",
    "We will look at the following characteristics:\n",
    "> 1. Information of the dataframe to identify data types\n",
    "> 2. Missing data - count nulls\n",
    "> 3. Statistics (describe df) to identify mean, min and max. Outliers\n",
    "> 4. Check for duplicates\n",
    "> 5. Date/time"
   ],
   "metadata": {
    "collapsed": false,
    "pycharm": {
     "name": "#%% md\n"
    }
   }
  },
  {
   "cell_type": "markdown",
   "source": [
    "1. Information of the dataframe to identify data types"
   ],
   "metadata": {
    "collapsed": false,
    "pycharm": {
     "name": "#%% md\n"
    }
   }
  },
  {
   "cell_type": "code",
   "execution_count": 13,
   "outputs": [
    {
     "name": "stdout",
     "output_type": "stream",
     "text": [
      "<class 'pandas.core.frame.DataFrame'>\n",
      "RangeIndex: 2354 entries, 0 to 2353\n",
      "Data columns (total 31 columns):\n",
      " #   Column                         Non-Null Count  Dtype              \n",
      "---  ------                         --------------  -----              \n",
      " 0   created_at                     2354 non-null   datetime64[ns, UTC]\n",
      " 1   id                             2354 non-null   int64              \n",
      " 2   id_str                         2354 non-null   int64              \n",
      " 3   full_text                      2354 non-null   object             \n",
      " 4   truncated                      2354 non-null   bool               \n",
      " 5   display_text_range             2354 non-null   object             \n",
      " 6   entities                       2354 non-null   object             \n",
      " 7   extended_entities              2073 non-null   object             \n",
      " 8   source                         2354 non-null   object             \n",
      " 9   in_reply_to_status_id          78 non-null     float64            \n",
      " 10  in_reply_to_status_id_str      78 non-null     float64            \n",
      " 11  in_reply_to_user_id            78 non-null     float64            \n",
      " 12  in_reply_to_user_id_str        78 non-null     float64            \n",
      " 13  in_reply_to_screen_name        78 non-null     object             \n",
      " 14  user                           2354 non-null   object             \n",
      " 15  geo                            0 non-null      float64            \n",
      " 16  coordinates                    0 non-null      float64            \n",
      " 17  place                          1 non-null      object             \n",
      " 18  contributors                   0 non-null      float64            \n",
      " 19  is_quote_status                2354 non-null   bool               \n",
      " 20  retweet_count                  2354 non-null   int64              \n",
      " 21  favorite_count                 2354 non-null   int64              \n",
      " 22  favorited                      2354 non-null   bool               \n",
      " 23  retweeted                      2354 non-null   bool               \n",
      " 24  possibly_sensitive             2211 non-null   float64            \n",
      " 25  possibly_sensitive_appealable  2211 non-null   float64            \n",
      " 26  lang                           2354 non-null   object             \n",
      " 27  retweeted_status               179 non-null    object             \n",
      " 28  quoted_status_id               29 non-null     float64            \n",
      " 29  quoted_status_id_str           29 non-null     float64            \n",
      " 30  quoted_status                  28 non-null     object             \n",
      "dtypes: bool(4), datetime64[ns, UTC](1), float64(11), int64(4), object(11)\n",
      "memory usage: 505.9+ KB\n"
     ]
    }
   ],
   "source": [
    "df_tweets.info()"
   ],
   "metadata": {
    "collapsed": false,
    "pycharm": {
     "name": "#%%\n"
    }
   }
  },
  {
   "cell_type": "markdown",
   "source": [
    "<b>Observations:</b>\n",
    "- Most fields have null values which cannot be filled.\n",
    "- These fields are not important for analysis, therefore no need to drop the rows because they have important data"
   ],
   "metadata": {
    "collapsed": false,
    "pycharm": {
     "name": "#%% md\n"
    }
   }
  },
  {
   "cell_type": "markdown",
   "source": [],
   "metadata": {
    "collapsed": false,
    "pycharm": {
     "name": "#%% md\n"
    }
   }
  },
  {
   "cell_type": "markdown",
   "source": [
    "2. Missing data - count nulls"
   ],
   "metadata": {
    "collapsed": false,
    "pycharm": {
     "name": "#%% md\n"
    }
   }
  },
  {
   "cell_type": "code",
   "execution_count": 14,
   "outputs": [
    {
     "data": {
      "text/plain": "geo                              2354\ncoordinates                      2354\ncontributors                     2354\nplace                            2353\nquoted_status                    2326\nquoted_status_id_str             2325\nquoted_status_id                 2325\nin_reply_to_status_id            2276\nin_reply_to_status_id_str        2276\nin_reply_to_user_id              2276\nin_reply_to_user_id_str          2276\nin_reply_to_screen_name          2276\nretweeted_status                 2175\nextended_entities                 281\npossibly_sensitive_appealable     143\npossibly_sensitive                143\ndisplay_text_range                  0\nfavorite_count                      0\nlang                                0\nretweeted                           0\nfavorited                           0\nid_str                              0\nretweet_count                       0\nis_quote_status                     0\nentities                            0\nfull_text                           0\ntruncated                           0\nid                                  0\nuser                                0\nsource                              0\ncreated_at                          0\ndtype: int64"
     },
     "execution_count": 14,
     "metadata": {},
     "output_type": "execute_result"
    }
   ],
   "source": [
    "df_tweets.isna().sum().sort_values(ascending=False)"
   ],
   "metadata": {
    "collapsed": false,
    "pycharm": {
     "name": "#%%\n"
    }
   }
  },
  {
   "cell_type": "markdown",
   "source": [
    "<b>Observations:</b>\n",
    "- The null values do not appear to be an issue for now"
   ],
   "metadata": {
    "collapsed": false,
    "pycharm": {
     "name": "#%% md\n"
    }
   }
  },
  {
   "cell_type": "markdown",
   "source": [
    "3. Statistics (describe df) to identify mean, min and max. Outliers"
   ],
   "metadata": {
    "collapsed": false,
    "pycharm": {
     "name": "#%% md\n"
    }
   }
  },
  {
   "cell_type": "code",
   "execution_count": 15,
   "outputs": [
    {
     "data": {
      "text/plain": "                         id                id_str  in_reply_to_status_id  \\\ncount               2354.00               2354.00                  78.00   \nmean  742697816435063552.00 742697816435063552.00  745507917855750656.00   \nstd    68528120712910648.00  68528120712910648.00   75824920044192880.00   \nmin   666020888022790144.00 666020888022790144.00  665814696700723200.00   \n25%   678397510244808704.00 678397510244808704.00  675741911993464832.00   \n50%   719459571111233536.00 719459571111233536.00  703870840226598912.00   \n75%   799305849241918464.00 799305849241918464.00  825780371286566912.00   \nmax   892420643555336192.00 892420643555336192.00  886266357075128320.00   \n\n       in_reply_to_status_id_str   in_reply_to_user_id  \\\ncount                      78.00                 78.00   \nmean       745507917855750656.00  20141706360873208.00   \nstd         75824920044192880.00 125279666255236320.00   \nmin        665814696700723200.00           11856342.00   \n25%        675741911993464832.00          308637448.75   \n50%        703870840226598912.00         4196983835.00   \n75%        825780371286566912.00         4196983835.00   \nmax        886266357075128320.00 840547864354918400.00   \n\n       in_reply_to_user_id_str  geo  coordinates  contributors  retweet_count  \\\ncount                    78.00 0.00         0.00          0.00        2354.00   \nmean      20141706360873208.00  NaN          NaN           NaN        3164.80   \nstd      125279666255236320.00  NaN          NaN           NaN        5284.77   \nmin                11856342.00  NaN          NaN           NaN           0.00   \n25%               308637448.75  NaN          NaN           NaN         624.50   \n50%              4196983835.00  NaN          NaN           NaN        1473.50   \n75%              4196983835.00  NaN          NaN           NaN        3652.00   \nmax      840547864354918400.00  NaN          NaN           NaN       79515.00   \n\n       favorite_count  possibly_sensitive  possibly_sensitive_appealable  \\\ncount         2354.00             2211.00                        2211.00   \nmean          8080.97                0.00                           0.00   \nstd          11814.77                0.00                           0.00   \nmin              0.00                0.00                           0.00   \n25%           1415.00                0.00                           0.00   \n50%           3603.50                0.00                           0.00   \n75%          10122.25                0.00                           0.00   \nmax         132810.00                0.00                           0.00   \n\n           quoted_status_id  quoted_status_id_str  \ncount                 29.00                 29.00  \nmean  816268554633332608.00 816268554633332608.00  \nstd    61641605265675568.00  61641605265675568.00  \nmin   672108316018024448.00 672108316018024448.00  \n25%   788818328538099712.00 788818328538099712.00  \n50%   834086676934836224.00 834086676934836224.00  \n75%   866458718883467264.00 866458718883467264.00  \nmax   886053434075471872.00 886053434075471872.00  ",
      "text/html": "<div>\n<style scoped>\n    .dataframe tbody tr th:only-of-type {\n        vertical-align: middle;\n    }\n\n    .dataframe tbody tr th {\n        vertical-align: top;\n    }\n\n    .dataframe thead th {\n        text-align: right;\n    }\n</style>\n<table border=\"1\" class=\"dataframe\">\n  <thead>\n    <tr style=\"text-align: right;\">\n      <th></th>\n      <th>id</th>\n      <th>id_str</th>\n      <th>in_reply_to_status_id</th>\n      <th>in_reply_to_status_id_str</th>\n      <th>in_reply_to_user_id</th>\n      <th>in_reply_to_user_id_str</th>\n      <th>geo</th>\n      <th>coordinates</th>\n      <th>contributors</th>\n      <th>retweet_count</th>\n      <th>favorite_count</th>\n      <th>possibly_sensitive</th>\n      <th>possibly_sensitive_appealable</th>\n      <th>quoted_status_id</th>\n      <th>quoted_status_id_str</th>\n    </tr>\n  </thead>\n  <tbody>\n    <tr>\n      <th>count</th>\n      <td>2354.00</td>\n      <td>2354.00</td>\n      <td>78.00</td>\n      <td>78.00</td>\n      <td>78.00</td>\n      <td>78.00</td>\n      <td>0.00</td>\n      <td>0.00</td>\n      <td>0.00</td>\n      <td>2354.00</td>\n      <td>2354.00</td>\n      <td>2211.00</td>\n      <td>2211.00</td>\n      <td>29.00</td>\n      <td>29.00</td>\n    </tr>\n    <tr>\n      <th>mean</th>\n      <td>742697816435063552.00</td>\n      <td>742697816435063552.00</td>\n      <td>745507917855750656.00</td>\n      <td>745507917855750656.00</td>\n      <td>20141706360873208.00</td>\n      <td>20141706360873208.00</td>\n      <td>NaN</td>\n      <td>NaN</td>\n      <td>NaN</td>\n      <td>3164.80</td>\n      <td>8080.97</td>\n      <td>0.00</td>\n      <td>0.00</td>\n      <td>816268554633332608.00</td>\n      <td>816268554633332608.00</td>\n    </tr>\n    <tr>\n      <th>std</th>\n      <td>68528120712910648.00</td>\n      <td>68528120712910648.00</td>\n      <td>75824920044192880.00</td>\n      <td>75824920044192880.00</td>\n      <td>125279666255236320.00</td>\n      <td>125279666255236320.00</td>\n      <td>NaN</td>\n      <td>NaN</td>\n      <td>NaN</td>\n      <td>5284.77</td>\n      <td>11814.77</td>\n      <td>0.00</td>\n      <td>0.00</td>\n      <td>61641605265675568.00</td>\n      <td>61641605265675568.00</td>\n    </tr>\n    <tr>\n      <th>min</th>\n      <td>666020888022790144.00</td>\n      <td>666020888022790144.00</td>\n      <td>665814696700723200.00</td>\n      <td>665814696700723200.00</td>\n      <td>11856342.00</td>\n      <td>11856342.00</td>\n      <td>NaN</td>\n      <td>NaN</td>\n      <td>NaN</td>\n      <td>0.00</td>\n      <td>0.00</td>\n      <td>0.00</td>\n      <td>0.00</td>\n      <td>672108316018024448.00</td>\n      <td>672108316018024448.00</td>\n    </tr>\n    <tr>\n      <th>25%</th>\n      <td>678397510244808704.00</td>\n      <td>678397510244808704.00</td>\n      <td>675741911993464832.00</td>\n      <td>675741911993464832.00</td>\n      <td>308637448.75</td>\n      <td>308637448.75</td>\n      <td>NaN</td>\n      <td>NaN</td>\n      <td>NaN</td>\n      <td>624.50</td>\n      <td>1415.00</td>\n      <td>0.00</td>\n      <td>0.00</td>\n      <td>788818328538099712.00</td>\n      <td>788818328538099712.00</td>\n    </tr>\n    <tr>\n      <th>50%</th>\n      <td>719459571111233536.00</td>\n      <td>719459571111233536.00</td>\n      <td>703870840226598912.00</td>\n      <td>703870840226598912.00</td>\n      <td>4196983835.00</td>\n      <td>4196983835.00</td>\n      <td>NaN</td>\n      <td>NaN</td>\n      <td>NaN</td>\n      <td>1473.50</td>\n      <td>3603.50</td>\n      <td>0.00</td>\n      <td>0.00</td>\n      <td>834086676934836224.00</td>\n      <td>834086676934836224.00</td>\n    </tr>\n    <tr>\n      <th>75%</th>\n      <td>799305849241918464.00</td>\n      <td>799305849241918464.00</td>\n      <td>825780371286566912.00</td>\n      <td>825780371286566912.00</td>\n      <td>4196983835.00</td>\n      <td>4196983835.00</td>\n      <td>NaN</td>\n      <td>NaN</td>\n      <td>NaN</td>\n      <td>3652.00</td>\n      <td>10122.25</td>\n      <td>0.00</td>\n      <td>0.00</td>\n      <td>866458718883467264.00</td>\n      <td>866458718883467264.00</td>\n    </tr>\n    <tr>\n      <th>max</th>\n      <td>892420643555336192.00</td>\n      <td>892420643555336192.00</td>\n      <td>886266357075128320.00</td>\n      <td>886266357075128320.00</td>\n      <td>840547864354918400.00</td>\n      <td>840547864354918400.00</td>\n      <td>NaN</td>\n      <td>NaN</td>\n      <td>NaN</td>\n      <td>79515.00</td>\n      <td>132810.00</td>\n      <td>0.00</td>\n      <td>0.00</td>\n      <td>886053434075471872.00</td>\n      <td>886053434075471872.00</td>\n    </tr>\n  </tbody>\n</table>\n</div>"
     },
     "execution_count": 15,
     "metadata": {},
     "output_type": "execute_result"
    }
   ],
   "source": [
    "df_tweets.describe()"
   ],
   "metadata": {
    "collapsed": false,
    "pycharm": {
     "name": "#%%\n"
    }
   }
  },
  {
   "cell_type": "markdown",
   "source": [
    "<b>Observations:</b>\n",
    "- No issues identified from statistics"
   ],
   "metadata": {
    "collapsed": false,
    "pycharm": {
     "name": "#%% md\n"
    }
   }
  },
  {
   "cell_type": "markdown",
   "source": [
    "4. Check for duplicates"
   ],
   "metadata": {
    "collapsed": false,
    "pycharm": {
     "name": "#%% md\n"
    }
   }
  },
  {
   "cell_type": "code",
   "execution_count": 16,
   "outputs": [
    {
     "data": {
      "text/plain": "0"
     },
     "execution_count": 16,
     "metadata": {},
     "output_type": "execute_result"
    }
   ],
   "source": [
    "df_tweets['id'].duplicated().sum()"
   ],
   "metadata": {
    "collapsed": false,
    "pycharm": {
     "name": "#%%\n"
    }
   }
  },
  {
   "cell_type": "markdown",
   "source": [
    "<b>Observations:</b>\n",
    "> - No duplicates identified"
   ],
   "metadata": {
    "collapsed": false,
    "pycharm": {
     "name": "#%% md\n"
    }
   }
  },
  {
   "cell_type": "markdown",
   "source": [
    "5. Date/time assessment"
   ],
   "metadata": {
    "collapsed": false,
    "pycharm": {
     "name": "#%% md\n"
    }
   }
  },
  {
   "cell_type": "code",
   "execution_count": 17,
   "outputs": [
    {
     "data": {
      "text/plain": "day\nMonday       384\nTuesday      356\nWednesday    353\nFriday       332\nThursday     326\nSaturday     309\nSunday       294\nName: id, dtype: int64"
     },
     "execution_count": 17,
     "metadata": {},
     "output_type": "execute_result"
    }
   ],
   "source": [
    "#Create day of the week column\n",
    "df_tweets['day']=df_tweets['created_at'].dt.day_name()\n",
    "\n",
    "df_tweets.groupby('day')['id'].count().sort_values(ascending=False)"
   ],
   "metadata": {
    "collapsed": false,
    "pycharm": {
     "name": "#%%\n"
    }
   }
  },
  {
   "cell_type": "code",
   "execution_count": 18,
   "outputs": [
    {
     "data": {
      "text/plain": "year\n2016    1182\n2015     690\n2017     482\nName: id, dtype: int64"
     },
     "execution_count": 18,
     "metadata": {},
     "output_type": "execute_result"
    }
   ],
   "source": [
    "#Create Year column\n",
    "df_tweets['year']=df_tweets['created_at'].dt.year\n",
    "df_tweets.groupby('year')['id'].count().sort_values(ascending=False)"
   ],
   "metadata": {
    "collapsed": false,
    "pycharm": {
     "name": "#%%\n"
    }
   }
  },
  {
   "cell_type": "markdown",
   "source": [
    "<b>Observations:</b>\n",
    "> - All days of the week are represented in the dataset\n",
    "> - Dataset covers tweets over a period of 3 years"
   ],
   "metadata": {
    "collapsed": false,
    "pycharm": {
     "name": "#%% md\n"
    }
   }
  },
  {
   "cell_type": "markdown",
   "metadata": {
    "pycharm": {
     "name": "#%% md\n"
    }
   },
   "source": [
    "#### 2.2 Image predictions dataset (df_images)\n",
    "><b>2.2.1 - Visually assess data</b>"
   ]
  },
  {
   "cell_type": "code",
   "execution_count": 19,
   "metadata": {
    "pycharm": {
     "name": "#%%\n"
    }
   },
   "outputs": [
    {
     "data": {
      "text/plain": "              tweet_id                                          jpg_url  \\\n0   666020888022790149  https://pbs.twimg.com/media/CT4udn0WwAA0aMy.jpg   \n1   666029285002620928  https://pbs.twimg.com/media/CT42GRgUYAA5iDo.jpg   \n2   666033412701032449  https://pbs.twimg.com/media/CT4521TWwAEvMyu.jpg   \n3   666044226329800704  https://pbs.twimg.com/media/CT5Dr8HUEAA-lEu.jpg   \n4   666049248165822465  https://pbs.twimg.com/media/CT5IQmsXIAAKY4A.jpg   \n5   666050758794694657  https://pbs.twimg.com/media/CT5Jof1WUAEuVxN.jpg   \n6   666051853826850816  https://pbs.twimg.com/media/CT5KoJ1WoAAJash.jpg   \n7   666055525042405380  https://pbs.twimg.com/media/CT5N9tpXIAAifs1.jpg   \n8   666057090499244032  https://pbs.twimg.com/media/CT5PY90WoAAQGLo.jpg   \n9   666058600524156928  https://pbs.twimg.com/media/CT5Qw94XAAA_2dP.jpg   \n10  666063827256086533  https://pbs.twimg.com/media/CT5Vg_wXIAAXfnj.jpg   \n11  666071193221509120  https://pbs.twimg.com/media/CT5cN_3WEAAlOoZ.jpg   \n12  666073100786774016  https://pbs.twimg.com/media/CT5d9DZXAAALcwe.jpg   \n13  666082916733198337  https://pbs.twimg.com/media/CT5m4VGWEAAtKc8.jpg   \n14  666094000022159362  https://pbs.twimg.com/media/CT5w9gUW4AAsBNN.jpg   \n15  666099513787052032  https://pbs.twimg.com/media/CT51-JJUEAA6hV8.jpg   \n16  666102155909144576  https://pbs.twimg.com/media/CT54YGiWUAEZnoK.jpg   \n17  666104133288665088  https://pbs.twimg.com/media/CT56LSZWoAAlJj2.jpg   \n18  666268910803644416  https://pbs.twimg.com/media/CT8QCd1WEAADXws.jpg   \n19  666273097616637952  https://pbs.twimg.com/media/CT8T1mtUwAA3aqm.jpg   \n\n    img_num                      p1  p1_conf  p1_dog                  p2  \\\n0         1  Welsh_springer_spaniel     0.47    True              collie   \n1         1                 redbone     0.51    True  miniature_pinscher   \n2         1         German_shepherd     0.60    True            malinois   \n3         1     Rhodesian_ridgeback     0.41    True             redbone   \n4         1      miniature_pinscher     0.56    True          Rottweiler   \n5         1    Bernese_mountain_dog     0.65    True    English_springer   \n6         1              box_turtle     0.93   False          mud_turtle   \n7         1                    chow     0.69    True     Tibetan_mastiff   \n8         1           shopping_cart     0.96   False     shopping_basket   \n9         1        miniature_poodle     0.20    True            komondor   \n10        1        golden_retriever     0.78    True     Tibetan_mastiff   \n11        1           Gordon_setter     0.50    True   Yorkshire_terrier   \n12        1            Walker_hound     0.26    True    English_foxhound   \n13        1                     pug     0.49    True        bull_mastiff   \n14        1              bloodhound     0.20    True     German_shepherd   \n15        1                   Lhasa     0.58    True            Shih-Tzu   \n16        1          English_setter     0.30    True        Newfoundland   \n17        1                     hen     0.97   False                cock   \n18        1        desktop_computer     0.09   False                desk   \n19        1       Italian_greyhound     0.18    True         toy_terrier   \n\n    p2_conf  p2_dog                           p3  p3_conf  p3_dog  \n0      0.16    True            Shetland_sheepdog     0.06    True  \n1      0.07    True          Rhodesian_ridgeback     0.07    True  \n2      0.14    True                   bloodhound     0.12    True  \n3      0.36    True           miniature_pinscher     0.22    True  \n4      0.24    True                     Doberman     0.15    True  \n5      0.26    True   Greater_Swiss_Mountain_dog     0.02    True  \n6      0.05   False                     terrapin     0.02   False  \n7      0.06    True                     fur_coat     0.05   False  \n8      0.01   False             golden_retriever     0.01    True  \n9      0.19    True  soft-coated_wheaten_terrier     0.08    True  \n10     0.09    True           Labrador_retriever     0.07    True  \n11     0.17    True                     Pekinese     0.11    True  \n12     0.18    True                 Ibizan_hound     0.10    True  \n13     0.40    True               French_bulldog     0.05    True  \n14     0.08    True                     malinois     0.08    True  \n15     0.17    True               Dandie_Dinmont     0.09    True  \n16     0.15    True                       borzoi     0.13    True  \n17     0.03   False                    partridge     0.00   False  \n18     0.09   False                     bookcase     0.08   False  \n19     0.11    True                      basenji     0.11    True  ",
      "text/html": "<div>\n<style scoped>\n    .dataframe tbody tr th:only-of-type {\n        vertical-align: middle;\n    }\n\n    .dataframe tbody tr th {\n        vertical-align: top;\n    }\n\n    .dataframe thead th {\n        text-align: right;\n    }\n</style>\n<table border=\"1\" class=\"dataframe\">\n  <thead>\n    <tr style=\"text-align: right;\">\n      <th></th>\n      <th>tweet_id</th>\n      <th>jpg_url</th>\n      <th>img_num</th>\n      <th>p1</th>\n      <th>p1_conf</th>\n      <th>p1_dog</th>\n      <th>p2</th>\n      <th>p2_conf</th>\n      <th>p2_dog</th>\n      <th>p3</th>\n      <th>p3_conf</th>\n      <th>p3_dog</th>\n    </tr>\n  </thead>\n  <tbody>\n    <tr>\n      <th>0</th>\n      <td>666020888022790149</td>\n      <td>https://pbs.twimg.com/media/CT4udn0WwAA0aMy.jpg</td>\n      <td>1</td>\n      <td>Welsh_springer_spaniel</td>\n      <td>0.47</td>\n      <td>True</td>\n      <td>collie</td>\n      <td>0.16</td>\n      <td>True</td>\n      <td>Shetland_sheepdog</td>\n      <td>0.06</td>\n      <td>True</td>\n    </tr>\n    <tr>\n      <th>1</th>\n      <td>666029285002620928</td>\n      <td>https://pbs.twimg.com/media/CT42GRgUYAA5iDo.jpg</td>\n      <td>1</td>\n      <td>redbone</td>\n      <td>0.51</td>\n      <td>True</td>\n      <td>miniature_pinscher</td>\n      <td>0.07</td>\n      <td>True</td>\n      <td>Rhodesian_ridgeback</td>\n      <td>0.07</td>\n      <td>True</td>\n    </tr>\n    <tr>\n      <th>2</th>\n      <td>666033412701032449</td>\n      <td>https://pbs.twimg.com/media/CT4521TWwAEvMyu.jpg</td>\n      <td>1</td>\n      <td>German_shepherd</td>\n      <td>0.60</td>\n      <td>True</td>\n      <td>malinois</td>\n      <td>0.14</td>\n      <td>True</td>\n      <td>bloodhound</td>\n      <td>0.12</td>\n      <td>True</td>\n    </tr>\n    <tr>\n      <th>3</th>\n      <td>666044226329800704</td>\n      <td>https://pbs.twimg.com/media/CT5Dr8HUEAA-lEu.jpg</td>\n      <td>1</td>\n      <td>Rhodesian_ridgeback</td>\n      <td>0.41</td>\n      <td>True</td>\n      <td>redbone</td>\n      <td>0.36</td>\n      <td>True</td>\n      <td>miniature_pinscher</td>\n      <td>0.22</td>\n      <td>True</td>\n    </tr>\n    <tr>\n      <th>4</th>\n      <td>666049248165822465</td>\n      <td>https://pbs.twimg.com/media/CT5IQmsXIAAKY4A.jpg</td>\n      <td>1</td>\n      <td>miniature_pinscher</td>\n      <td>0.56</td>\n      <td>True</td>\n      <td>Rottweiler</td>\n      <td>0.24</td>\n      <td>True</td>\n      <td>Doberman</td>\n      <td>0.15</td>\n      <td>True</td>\n    </tr>\n    <tr>\n      <th>5</th>\n      <td>666050758794694657</td>\n      <td>https://pbs.twimg.com/media/CT5Jof1WUAEuVxN.jpg</td>\n      <td>1</td>\n      <td>Bernese_mountain_dog</td>\n      <td>0.65</td>\n      <td>True</td>\n      <td>English_springer</td>\n      <td>0.26</td>\n      <td>True</td>\n      <td>Greater_Swiss_Mountain_dog</td>\n      <td>0.02</td>\n      <td>True</td>\n    </tr>\n    <tr>\n      <th>6</th>\n      <td>666051853826850816</td>\n      <td>https://pbs.twimg.com/media/CT5KoJ1WoAAJash.jpg</td>\n      <td>1</td>\n      <td>box_turtle</td>\n      <td>0.93</td>\n      <td>False</td>\n      <td>mud_turtle</td>\n      <td>0.05</td>\n      <td>False</td>\n      <td>terrapin</td>\n      <td>0.02</td>\n      <td>False</td>\n    </tr>\n    <tr>\n      <th>7</th>\n      <td>666055525042405380</td>\n      <td>https://pbs.twimg.com/media/CT5N9tpXIAAifs1.jpg</td>\n      <td>1</td>\n      <td>chow</td>\n      <td>0.69</td>\n      <td>True</td>\n      <td>Tibetan_mastiff</td>\n      <td>0.06</td>\n      <td>True</td>\n      <td>fur_coat</td>\n      <td>0.05</td>\n      <td>False</td>\n    </tr>\n    <tr>\n      <th>8</th>\n      <td>666057090499244032</td>\n      <td>https://pbs.twimg.com/media/CT5PY90WoAAQGLo.jpg</td>\n      <td>1</td>\n      <td>shopping_cart</td>\n      <td>0.96</td>\n      <td>False</td>\n      <td>shopping_basket</td>\n      <td>0.01</td>\n      <td>False</td>\n      <td>golden_retriever</td>\n      <td>0.01</td>\n      <td>True</td>\n    </tr>\n    <tr>\n      <th>9</th>\n      <td>666058600524156928</td>\n      <td>https://pbs.twimg.com/media/CT5Qw94XAAA_2dP.jpg</td>\n      <td>1</td>\n      <td>miniature_poodle</td>\n      <td>0.20</td>\n      <td>True</td>\n      <td>komondor</td>\n      <td>0.19</td>\n      <td>True</td>\n      <td>soft-coated_wheaten_terrier</td>\n      <td>0.08</td>\n      <td>True</td>\n    </tr>\n    <tr>\n      <th>10</th>\n      <td>666063827256086533</td>\n      <td>https://pbs.twimg.com/media/CT5Vg_wXIAAXfnj.jpg</td>\n      <td>1</td>\n      <td>golden_retriever</td>\n      <td>0.78</td>\n      <td>True</td>\n      <td>Tibetan_mastiff</td>\n      <td>0.09</td>\n      <td>True</td>\n      <td>Labrador_retriever</td>\n      <td>0.07</td>\n      <td>True</td>\n    </tr>\n    <tr>\n      <th>11</th>\n      <td>666071193221509120</td>\n      <td>https://pbs.twimg.com/media/CT5cN_3WEAAlOoZ.jpg</td>\n      <td>1</td>\n      <td>Gordon_setter</td>\n      <td>0.50</td>\n      <td>True</td>\n      <td>Yorkshire_terrier</td>\n      <td>0.17</td>\n      <td>True</td>\n      <td>Pekinese</td>\n      <td>0.11</td>\n      <td>True</td>\n    </tr>\n    <tr>\n      <th>12</th>\n      <td>666073100786774016</td>\n      <td>https://pbs.twimg.com/media/CT5d9DZXAAALcwe.jpg</td>\n      <td>1</td>\n      <td>Walker_hound</td>\n      <td>0.26</td>\n      <td>True</td>\n      <td>English_foxhound</td>\n      <td>0.18</td>\n      <td>True</td>\n      <td>Ibizan_hound</td>\n      <td>0.10</td>\n      <td>True</td>\n    </tr>\n    <tr>\n      <th>13</th>\n      <td>666082916733198337</td>\n      <td>https://pbs.twimg.com/media/CT5m4VGWEAAtKc8.jpg</td>\n      <td>1</td>\n      <td>pug</td>\n      <td>0.49</td>\n      <td>True</td>\n      <td>bull_mastiff</td>\n      <td>0.40</td>\n      <td>True</td>\n      <td>French_bulldog</td>\n      <td>0.05</td>\n      <td>True</td>\n    </tr>\n    <tr>\n      <th>14</th>\n      <td>666094000022159362</td>\n      <td>https://pbs.twimg.com/media/CT5w9gUW4AAsBNN.jpg</td>\n      <td>1</td>\n      <td>bloodhound</td>\n      <td>0.20</td>\n      <td>True</td>\n      <td>German_shepherd</td>\n      <td>0.08</td>\n      <td>True</td>\n      <td>malinois</td>\n      <td>0.08</td>\n      <td>True</td>\n    </tr>\n    <tr>\n      <th>15</th>\n      <td>666099513787052032</td>\n      <td>https://pbs.twimg.com/media/CT51-JJUEAA6hV8.jpg</td>\n      <td>1</td>\n      <td>Lhasa</td>\n      <td>0.58</td>\n      <td>True</td>\n      <td>Shih-Tzu</td>\n      <td>0.17</td>\n      <td>True</td>\n      <td>Dandie_Dinmont</td>\n      <td>0.09</td>\n      <td>True</td>\n    </tr>\n    <tr>\n      <th>16</th>\n      <td>666102155909144576</td>\n      <td>https://pbs.twimg.com/media/CT54YGiWUAEZnoK.jpg</td>\n      <td>1</td>\n      <td>English_setter</td>\n      <td>0.30</td>\n      <td>True</td>\n      <td>Newfoundland</td>\n      <td>0.15</td>\n      <td>True</td>\n      <td>borzoi</td>\n      <td>0.13</td>\n      <td>True</td>\n    </tr>\n    <tr>\n      <th>17</th>\n      <td>666104133288665088</td>\n      <td>https://pbs.twimg.com/media/CT56LSZWoAAlJj2.jpg</td>\n      <td>1</td>\n      <td>hen</td>\n      <td>0.97</td>\n      <td>False</td>\n      <td>cock</td>\n      <td>0.03</td>\n      <td>False</td>\n      <td>partridge</td>\n      <td>0.00</td>\n      <td>False</td>\n    </tr>\n    <tr>\n      <th>18</th>\n      <td>666268910803644416</td>\n      <td>https://pbs.twimg.com/media/CT8QCd1WEAADXws.jpg</td>\n      <td>1</td>\n      <td>desktop_computer</td>\n      <td>0.09</td>\n      <td>False</td>\n      <td>desk</td>\n      <td>0.09</td>\n      <td>False</td>\n      <td>bookcase</td>\n      <td>0.08</td>\n      <td>False</td>\n    </tr>\n    <tr>\n      <th>19</th>\n      <td>666273097616637952</td>\n      <td>https://pbs.twimg.com/media/CT8T1mtUwAA3aqm.jpg</td>\n      <td>1</td>\n      <td>Italian_greyhound</td>\n      <td>0.18</td>\n      <td>True</td>\n      <td>toy_terrier</td>\n      <td>0.11</td>\n      <td>True</td>\n      <td>basenji</td>\n      <td>0.11</td>\n      <td>True</td>\n    </tr>\n  </tbody>\n</table>\n</div>"
     },
     "execution_count": 19,
     "metadata": {},
     "output_type": "execute_result"
    }
   ],
   "source": [
    "df_images.head(20)"
   ]
  },
  {
   "cell_type": "code",
   "execution_count": 20,
   "metadata": {
    "pycharm": {
     "name": "#%%\n"
    }
   },
   "outputs": [
    {
     "data": {
      "text/plain": "                tweet_id                                            jpg_url  \\\n2055  888202515573088257    https://pbs.twimg.com/media/DFDw2tyUQAAAFke.jpg   \n2056  888554962724278272    https://pbs.twimg.com/media/DFTH_O-UQAACu20.jpg   \n2057  888804989199671297    https://pbs.twimg.com/media/DFWra-3VYAA2piG.jpg   \n2058  888917238123831296    https://pbs.twimg.com/media/DFYRgsOUQAARGhO.jpg   \n2059  889278841981685760  https://pbs.twimg.com/ext_tw_video_thumb/88927...   \n2060  889531135344209921    https://pbs.twimg.com/media/DFg_2PVW0AEHN3p.jpg   \n2061  889638837579907072    https://pbs.twimg.com/media/DFihzFfXsAYGDPR.jpg   \n2062  889665388333682689    https://pbs.twimg.com/media/DFi579UWsAAatzw.jpg   \n2063  889880896479866881    https://pbs.twimg.com/media/DFl99B1WsAITKsg.jpg   \n2064  890006608113172480    https://pbs.twimg.com/media/DFnwSY4WAAAMliS.jpg   \n2065  890240255349198849    https://pbs.twimg.com/media/DFrEyVuW0AAO3t9.jpg   \n2066  890609185150312448    https://pbs.twimg.com/media/DFwUU__XcAEpyXI.jpg   \n2067  890729181411237888    https://pbs.twimg.com/media/DFyBahAVwAAhUTd.jpg   \n2068  890971913173991426    https://pbs.twimg.com/media/DF1eOmZXUAALUcq.jpg   \n2069  891087950875897856    https://pbs.twimg.com/media/DF3HwyEWsAABqE6.jpg   \n2070  891327558926688256    https://pbs.twimg.com/media/DF6hr6BUMAAzZgT.jpg   \n2071  891689557279858688    https://pbs.twimg.com/media/DF_q7IAWsAEuuN8.jpg   \n2072  891815181378084864    https://pbs.twimg.com/media/DGBdLU1WsAANxJ9.jpg   \n2073  892177421306343426    https://pbs.twimg.com/media/DGGmoV4XsAAUL6n.jpg   \n2074  892420643555336193    https://pbs.twimg.com/media/DGKD1-bXoAAIAUK.jpg   \n\n      img_num                        p1  p1_conf  p1_dog                   p2  \\\n2055        2                  Pembroke     0.81    True  Rhodesian_ridgeback   \n2056        3            Siberian_husky     0.70    True           Eskimo_dog   \n2057        1          golden_retriever     0.47    True   Labrador_retriever   \n2058        1          golden_retriever     0.71    True      Tibetan_mastiff   \n2059        1                   whippet     0.63    True               borzoi   \n2060        1          golden_retriever     0.95    True   Labrador_retriever   \n2061        1            French_bulldog     0.99    True                boxer   \n2062        1                  Pembroke     0.97    True             Cardigan   \n2063        1            French_bulldog     0.38    True   Labrador_retriever   \n2064        1                   Samoyed     0.96    True           Pomeranian   \n2065        1                  Pembroke     0.51    True             Cardigan   \n2066        1             Irish_terrier     0.49    True         Irish_setter   \n2067        2                Pomeranian     0.57    True           Eskimo_dog   \n2068        1               Appenzeller     0.34    True        Border_collie   \n2069        1  Chesapeake_Bay_retriever     0.43    True        Irish_terrier   \n2070        2                    basset     0.56    True     English_springer   \n2071        1               paper_towel     0.17   False   Labrador_retriever   \n2072        1                 Chihuahua     0.72    True             malamute   \n2073        1                 Chihuahua     0.32    True             Pekinese   \n2074        1                    orange     0.10   False                bagel   \n\n      p2_conf  p2_dog                           p3  p3_conf  p3_dog  \n2055     0.05    True                       beagle     0.04    True  \n2056     0.17    True                     malamute     0.11    True  \n2057     0.18    True               English_setter     0.07    True  \n2058     0.12    True           Labrador_retriever     0.11    True  \n2059     0.19    True                       Saluki     0.03    True  \n2060     0.01    True                      redbone     0.01    True  \n2061     0.00    True    Staffordshire_bullterrier     0.00    True  \n2062     0.03    True                      basenji     0.00    True  \n2063     0.15    True                       muzzle     0.08   False  \n2064     0.01    True                         chow     0.01    True  \n2065     0.45    True                    Chihuahua     0.03    True  \n2066     0.19    True     Chesapeake_Bay_retriever     0.12    True  \n2067     0.18    True                     Pembroke     0.08    True  \n2068     0.20    True                    ice_lolly     0.19   False  \n2069     0.12    True              Indian_elephant     0.08   False  \n2070     0.23    True  German_short-haired_pointer     0.18    True  \n2071     0.17    True                      spatula     0.04   False  \n2072     0.08    True                       kelpie     0.03    True  \n2073     0.09    True                     papillon     0.07    True  \n2074     0.09   False                       banana     0.08   False  ",
      "text/html": "<div>\n<style scoped>\n    .dataframe tbody tr th:only-of-type {\n        vertical-align: middle;\n    }\n\n    .dataframe tbody tr th {\n        vertical-align: top;\n    }\n\n    .dataframe thead th {\n        text-align: right;\n    }\n</style>\n<table border=\"1\" class=\"dataframe\">\n  <thead>\n    <tr style=\"text-align: right;\">\n      <th></th>\n      <th>tweet_id</th>\n      <th>jpg_url</th>\n      <th>img_num</th>\n      <th>p1</th>\n      <th>p1_conf</th>\n      <th>p1_dog</th>\n      <th>p2</th>\n      <th>p2_conf</th>\n      <th>p2_dog</th>\n      <th>p3</th>\n      <th>p3_conf</th>\n      <th>p3_dog</th>\n    </tr>\n  </thead>\n  <tbody>\n    <tr>\n      <th>2055</th>\n      <td>888202515573088257</td>\n      <td>https://pbs.twimg.com/media/DFDw2tyUQAAAFke.jpg</td>\n      <td>2</td>\n      <td>Pembroke</td>\n      <td>0.81</td>\n      <td>True</td>\n      <td>Rhodesian_ridgeback</td>\n      <td>0.05</td>\n      <td>True</td>\n      <td>beagle</td>\n      <td>0.04</td>\n      <td>True</td>\n    </tr>\n    <tr>\n      <th>2056</th>\n      <td>888554962724278272</td>\n      <td>https://pbs.twimg.com/media/DFTH_O-UQAACu20.jpg</td>\n      <td>3</td>\n      <td>Siberian_husky</td>\n      <td>0.70</td>\n      <td>True</td>\n      <td>Eskimo_dog</td>\n      <td>0.17</td>\n      <td>True</td>\n      <td>malamute</td>\n      <td>0.11</td>\n      <td>True</td>\n    </tr>\n    <tr>\n      <th>2057</th>\n      <td>888804989199671297</td>\n      <td>https://pbs.twimg.com/media/DFWra-3VYAA2piG.jpg</td>\n      <td>1</td>\n      <td>golden_retriever</td>\n      <td>0.47</td>\n      <td>True</td>\n      <td>Labrador_retriever</td>\n      <td>0.18</td>\n      <td>True</td>\n      <td>English_setter</td>\n      <td>0.07</td>\n      <td>True</td>\n    </tr>\n    <tr>\n      <th>2058</th>\n      <td>888917238123831296</td>\n      <td>https://pbs.twimg.com/media/DFYRgsOUQAARGhO.jpg</td>\n      <td>1</td>\n      <td>golden_retriever</td>\n      <td>0.71</td>\n      <td>True</td>\n      <td>Tibetan_mastiff</td>\n      <td>0.12</td>\n      <td>True</td>\n      <td>Labrador_retriever</td>\n      <td>0.11</td>\n      <td>True</td>\n    </tr>\n    <tr>\n      <th>2059</th>\n      <td>889278841981685760</td>\n      <td>https://pbs.twimg.com/ext_tw_video_thumb/88927...</td>\n      <td>1</td>\n      <td>whippet</td>\n      <td>0.63</td>\n      <td>True</td>\n      <td>borzoi</td>\n      <td>0.19</td>\n      <td>True</td>\n      <td>Saluki</td>\n      <td>0.03</td>\n      <td>True</td>\n    </tr>\n    <tr>\n      <th>2060</th>\n      <td>889531135344209921</td>\n      <td>https://pbs.twimg.com/media/DFg_2PVW0AEHN3p.jpg</td>\n      <td>1</td>\n      <td>golden_retriever</td>\n      <td>0.95</td>\n      <td>True</td>\n      <td>Labrador_retriever</td>\n      <td>0.01</td>\n      <td>True</td>\n      <td>redbone</td>\n      <td>0.01</td>\n      <td>True</td>\n    </tr>\n    <tr>\n      <th>2061</th>\n      <td>889638837579907072</td>\n      <td>https://pbs.twimg.com/media/DFihzFfXsAYGDPR.jpg</td>\n      <td>1</td>\n      <td>French_bulldog</td>\n      <td>0.99</td>\n      <td>True</td>\n      <td>boxer</td>\n      <td>0.00</td>\n      <td>True</td>\n      <td>Staffordshire_bullterrier</td>\n      <td>0.00</td>\n      <td>True</td>\n    </tr>\n    <tr>\n      <th>2062</th>\n      <td>889665388333682689</td>\n      <td>https://pbs.twimg.com/media/DFi579UWsAAatzw.jpg</td>\n      <td>1</td>\n      <td>Pembroke</td>\n      <td>0.97</td>\n      <td>True</td>\n      <td>Cardigan</td>\n      <td>0.03</td>\n      <td>True</td>\n      <td>basenji</td>\n      <td>0.00</td>\n      <td>True</td>\n    </tr>\n    <tr>\n      <th>2063</th>\n      <td>889880896479866881</td>\n      <td>https://pbs.twimg.com/media/DFl99B1WsAITKsg.jpg</td>\n      <td>1</td>\n      <td>French_bulldog</td>\n      <td>0.38</td>\n      <td>True</td>\n      <td>Labrador_retriever</td>\n      <td>0.15</td>\n      <td>True</td>\n      <td>muzzle</td>\n      <td>0.08</td>\n      <td>False</td>\n    </tr>\n    <tr>\n      <th>2064</th>\n      <td>890006608113172480</td>\n      <td>https://pbs.twimg.com/media/DFnwSY4WAAAMliS.jpg</td>\n      <td>1</td>\n      <td>Samoyed</td>\n      <td>0.96</td>\n      <td>True</td>\n      <td>Pomeranian</td>\n      <td>0.01</td>\n      <td>True</td>\n      <td>chow</td>\n      <td>0.01</td>\n      <td>True</td>\n    </tr>\n    <tr>\n      <th>2065</th>\n      <td>890240255349198849</td>\n      <td>https://pbs.twimg.com/media/DFrEyVuW0AAO3t9.jpg</td>\n      <td>1</td>\n      <td>Pembroke</td>\n      <td>0.51</td>\n      <td>True</td>\n      <td>Cardigan</td>\n      <td>0.45</td>\n      <td>True</td>\n      <td>Chihuahua</td>\n      <td>0.03</td>\n      <td>True</td>\n    </tr>\n    <tr>\n      <th>2066</th>\n      <td>890609185150312448</td>\n      <td>https://pbs.twimg.com/media/DFwUU__XcAEpyXI.jpg</td>\n      <td>1</td>\n      <td>Irish_terrier</td>\n      <td>0.49</td>\n      <td>True</td>\n      <td>Irish_setter</td>\n      <td>0.19</td>\n      <td>True</td>\n      <td>Chesapeake_Bay_retriever</td>\n      <td>0.12</td>\n      <td>True</td>\n    </tr>\n    <tr>\n      <th>2067</th>\n      <td>890729181411237888</td>\n      <td>https://pbs.twimg.com/media/DFyBahAVwAAhUTd.jpg</td>\n      <td>2</td>\n      <td>Pomeranian</td>\n      <td>0.57</td>\n      <td>True</td>\n      <td>Eskimo_dog</td>\n      <td>0.18</td>\n      <td>True</td>\n      <td>Pembroke</td>\n      <td>0.08</td>\n      <td>True</td>\n    </tr>\n    <tr>\n      <th>2068</th>\n      <td>890971913173991426</td>\n      <td>https://pbs.twimg.com/media/DF1eOmZXUAALUcq.jpg</td>\n      <td>1</td>\n      <td>Appenzeller</td>\n      <td>0.34</td>\n      <td>True</td>\n      <td>Border_collie</td>\n      <td>0.20</td>\n      <td>True</td>\n      <td>ice_lolly</td>\n      <td>0.19</td>\n      <td>False</td>\n    </tr>\n    <tr>\n      <th>2069</th>\n      <td>891087950875897856</td>\n      <td>https://pbs.twimg.com/media/DF3HwyEWsAABqE6.jpg</td>\n      <td>1</td>\n      <td>Chesapeake_Bay_retriever</td>\n      <td>0.43</td>\n      <td>True</td>\n      <td>Irish_terrier</td>\n      <td>0.12</td>\n      <td>True</td>\n      <td>Indian_elephant</td>\n      <td>0.08</td>\n      <td>False</td>\n    </tr>\n    <tr>\n      <th>2070</th>\n      <td>891327558926688256</td>\n      <td>https://pbs.twimg.com/media/DF6hr6BUMAAzZgT.jpg</td>\n      <td>2</td>\n      <td>basset</td>\n      <td>0.56</td>\n      <td>True</td>\n      <td>English_springer</td>\n      <td>0.23</td>\n      <td>True</td>\n      <td>German_short-haired_pointer</td>\n      <td>0.18</td>\n      <td>True</td>\n    </tr>\n    <tr>\n      <th>2071</th>\n      <td>891689557279858688</td>\n      <td>https://pbs.twimg.com/media/DF_q7IAWsAEuuN8.jpg</td>\n      <td>1</td>\n      <td>paper_towel</td>\n      <td>0.17</td>\n      <td>False</td>\n      <td>Labrador_retriever</td>\n      <td>0.17</td>\n      <td>True</td>\n      <td>spatula</td>\n      <td>0.04</td>\n      <td>False</td>\n    </tr>\n    <tr>\n      <th>2072</th>\n      <td>891815181378084864</td>\n      <td>https://pbs.twimg.com/media/DGBdLU1WsAANxJ9.jpg</td>\n      <td>1</td>\n      <td>Chihuahua</td>\n      <td>0.72</td>\n      <td>True</td>\n      <td>malamute</td>\n      <td>0.08</td>\n      <td>True</td>\n      <td>kelpie</td>\n      <td>0.03</td>\n      <td>True</td>\n    </tr>\n    <tr>\n      <th>2073</th>\n      <td>892177421306343426</td>\n      <td>https://pbs.twimg.com/media/DGGmoV4XsAAUL6n.jpg</td>\n      <td>1</td>\n      <td>Chihuahua</td>\n      <td>0.32</td>\n      <td>True</td>\n      <td>Pekinese</td>\n      <td>0.09</td>\n      <td>True</td>\n      <td>papillon</td>\n      <td>0.07</td>\n      <td>True</td>\n    </tr>\n    <tr>\n      <th>2074</th>\n      <td>892420643555336193</td>\n      <td>https://pbs.twimg.com/media/DGKD1-bXoAAIAUK.jpg</td>\n      <td>1</td>\n      <td>orange</td>\n      <td>0.10</td>\n      <td>False</td>\n      <td>bagel</td>\n      <td>0.09</td>\n      <td>False</td>\n      <td>banana</td>\n      <td>0.08</td>\n      <td>False</td>\n    </tr>\n  </tbody>\n</table>\n</div>"
     },
     "execution_count": 20,
     "metadata": {},
     "output_type": "execute_result"
    }
   ],
   "source": [
    "df_images.tail(20)"
   ]
  },
  {
   "cell_type": "markdown",
   "metadata": {
    "pycharm": {
     "name": "#%% md\n"
    }
   },
   "source": [
    "<b>2.2.2 - Visual observations</b>\n",
    "Viewed in Pandas & Excel\n",
    "> 1. Some tweets has more than 1 image but one jpg_url. Expected two jpg_urls.\n",
    "> 2. Sentence case appears to be inconsistent in 'P1, P2, P3'. This will cause issues with grouping, since some items are Caps with\n",
    "> underscores. Naming convention is inconsistent.\n",
    "> 3. Some images do not contain dogs, they contain fruits, which could mean that some of the tweets could come from a different source\n",
    "> other than WeRateDogs."
   ]
  },
  {
   "cell_type": "markdown",
   "metadata": {
    "pycharm": {
     "name": "#%% md\n"
    }
   },
   "source": [
    "<b>2.2.3 - Programmatically assess Image Prediction dataset</b>\n",
    "We will look at the following characteristics:\n",
    "> 1. Information of the dataframe to identify data types\n",
    "> 2. Missing data - count nulls\n",
    "> 3. Tweet images that are not dogs\n",
    "> 4. Statistics (describe df) to identify mean, min and max. Outliers\n",
    "> 5. Look for potential duplicates\n",
    "> 6. Look at the shape of the dataframe\n",
    "> 7. Items that are out of scope or does not meet requires (eg. Retweets)"
   ]
  },
  {
   "cell_type": "markdown",
   "metadata": {
    "pycharm": {
     "name": "#%% md\n"
    }
   },
   "source": [
    "1 - Information of the dataframe to identify data types"
   ]
  },
  {
   "cell_type": "code",
   "execution_count": 21,
   "metadata": {
    "pycharm": {
     "name": "#%%\n"
    }
   },
   "outputs": [
    {
     "name": "stdout",
     "output_type": "stream",
     "text": [
      "<class 'pandas.core.frame.DataFrame'>\n",
      "RangeIndex: 2075 entries, 0 to 2074\n",
      "Data columns (total 12 columns):\n",
      " #   Column    Non-Null Count  Dtype  \n",
      "---  ------    --------------  -----  \n",
      " 0   tweet_id  2075 non-null   int64  \n",
      " 1   jpg_url   2075 non-null   object \n",
      " 2   img_num   2075 non-null   int64  \n",
      " 3   p1        2075 non-null   object \n",
      " 4   p1_conf   2075 non-null   float64\n",
      " 5   p1_dog    2075 non-null   bool   \n",
      " 6   p2        2075 non-null   object \n",
      " 7   p2_conf   2075 non-null   float64\n",
      " 8   p2_dog    2075 non-null   bool   \n",
      " 9   p3        2075 non-null   object \n",
      " 10  p3_conf   2075 non-null   float64\n",
      " 11  p3_dog    2075 non-null   bool   \n",
      "dtypes: bool(3), float64(3), int64(2), object(4)\n",
      "memory usage: 152.1+ KB\n"
     ]
    }
   ],
   "source": [
    "df_images.info()"
   ]
  },
  {
   "cell_type": "markdown",
   "metadata": {
    "pycharm": {
     "name": "#%% md\n"
    }
   },
   "source": [
    "<b>Observations:</b>\n",
    "- Datatypes appear to meet expectations, no issues noted"
   ]
  },
  {
   "cell_type": "markdown",
   "metadata": {
    "pycharm": {
     "name": "#%% md\n"
    }
   },
   "source": [
    "2 - Missing data - nulls & blanks"
   ]
  },
  {
   "cell_type": "code",
   "execution_count": 22,
   "metadata": {
    "pycharm": {
     "name": "#%%\n"
    }
   },
   "outputs": [
    {
     "data": {
      "text/plain": "tweet_id    0\njpg_url     0\nimg_num     0\np1          0\np1_conf     0\np1_dog      0\np2          0\np2_conf     0\np2_dog      0\np3          0\np3_conf     0\np3_dog      0\ndtype: int64"
     },
     "execution_count": 22,
     "metadata": {},
     "output_type": "execute_result"
    }
   ],
   "source": [
    "df_images.isna().sum()"
   ]
  },
  {
   "cell_type": "markdown",
   "metadata": {
    "pycharm": {
     "name": "#%% md\n"
    }
   },
   "source": [
    "<b>Observations:</b>\n",
    "- No missing values, nothing to fill or drop."
   ]
  },
  {
   "cell_type": "markdown",
   "metadata": {
    "pycharm": {
     "name": "#%% md\n"
    }
   },
   "source": [
    "3 - Tweet images that are not dogs"
   ]
  },
  {
   "cell_type": "code",
   "execution_count": 23,
   "outputs": [
    {
     "name": "stdout",
     "output_type": "stream",
     "text": [
      "Number of tweets with no dogs predicted:  324\n"
     ]
    }
   ],
   "source": [
    "print('Number of tweets with no dogs predicted: ',\n",
    "      df_images.query('p1_dog == False & p2_dog == False & p3_dog == False')['tweet_id'].count())"
   ],
   "metadata": {
    "collapsed": false,
    "pycharm": {
     "name": "#%%\n"
    }
   }
  },
  {
   "cell_type": "code",
   "execution_count": 24,
   "outputs": [
    {
     "name": "stdout",
     "output_type": "stream",
     "text": [
      "p1\n",
      "golden_retriever      150\n",
      "Labrador_retriever    100\n",
      "Pembroke               89\n",
      "Chihuahua              83\n",
      "pug                    57\n",
      "chow                   44\n",
      "Samoyed                43\n",
      "toy_poodle             39\n",
      "Pomeranian             38\n",
      "cocker_spaniel         30\n",
      "Name: tweet_id, dtype: int64\n",
      "p2\n",
      "Labrador_retriever          104\n",
      "golden_retriever             92\n",
      "Cardigan                     73\n",
      "Chihuahua                    44\n",
      "Pomeranian                   42\n",
      "French_bulldog               41\n",
      "Chesapeake_Bay_retriever     41\n",
      "toy_poodle                   37\n",
      "cocker_spaniel               34\n",
      "Siberian_husky               33\n",
      "Name: tweet_id, dtype: int64\n",
      "p3\n",
      "Labrador_retriever           79\n",
      "Chihuahua                    58\n",
      "golden_retriever             48\n",
      "Eskimo_dog                   38\n",
      "kelpie                       35\n",
      "kuvasz                       34\n",
      "Staffordshire_bullterrier    32\n",
      "chow                         32\n",
      "cocker_spaniel               31\n",
      "beagle                       31\n",
      "Name: tweet_id, dtype: int64\n"
     ]
    }
   ],
   "source": [
    "breeds = ['p1', 'p2', 'p3']\n",
    "for i, breeds in enumerate(breeds):\n",
    "    print(df_images.groupby([breeds])['tweet_id'].count().sort_values(ascending=False).head(10))"
   ],
   "metadata": {
    "collapsed": false,
    "pycharm": {
     "name": "#%%\n"
    }
   }
  },
  {
   "cell_type": "markdown",
   "source": [
    "\n",
    "<b>Observations:</b>\n",
    "- Dogs with high distribution should yield higher confidence predictions"
   ],
   "metadata": {
    "collapsed": false,
    "pycharm": {
     "name": "#%% md\n"
    }
   }
  },
  {
   "cell_type": "markdown",
   "metadata": {
    "pycharm": {
     "name": "#%% md\n"
    }
   },
   "source": [
    "4 - Statistics (Describe)"
   ]
  },
  {
   "cell_type": "code",
   "execution_count": 25,
   "metadata": {
    "pycharm": {
     "name": "#%%\n"
    }
   },
   "outputs": [
    {
     "data": {
      "text/plain": "                   tweet_id  img_num  p1_conf  p2_conf  p3_conf\ncount               2075.00  2075.00  2075.00  2075.00  2075.00\nmean  738451357852539008.00     1.20     0.59     0.13     0.06\nstd    67852033330235656.00     0.56     0.27     0.10     0.05\nmin   666020888022790144.00     1.00     0.04     0.00     0.00\n25%   676483507139540992.00     1.00     0.36     0.05     0.02\n50%   711998809858043904.00     1.00     0.59     0.12     0.05\n75%   793203448525178880.00     1.00     0.84     0.20     0.09\nmax   892420643555336192.00     4.00     1.00     0.49     0.27",
      "text/html": "<div>\n<style scoped>\n    .dataframe tbody tr th:only-of-type {\n        vertical-align: middle;\n    }\n\n    .dataframe tbody tr th {\n        vertical-align: top;\n    }\n\n    .dataframe thead th {\n        text-align: right;\n    }\n</style>\n<table border=\"1\" class=\"dataframe\">\n  <thead>\n    <tr style=\"text-align: right;\">\n      <th></th>\n      <th>tweet_id</th>\n      <th>img_num</th>\n      <th>p1_conf</th>\n      <th>p2_conf</th>\n      <th>p3_conf</th>\n    </tr>\n  </thead>\n  <tbody>\n    <tr>\n      <th>count</th>\n      <td>2075.00</td>\n      <td>2075.00</td>\n      <td>2075.00</td>\n      <td>2075.00</td>\n      <td>2075.00</td>\n    </tr>\n    <tr>\n      <th>mean</th>\n      <td>738451357852539008.00</td>\n      <td>1.20</td>\n      <td>0.59</td>\n      <td>0.13</td>\n      <td>0.06</td>\n    </tr>\n    <tr>\n      <th>std</th>\n      <td>67852033330235656.00</td>\n      <td>0.56</td>\n      <td>0.27</td>\n      <td>0.10</td>\n      <td>0.05</td>\n    </tr>\n    <tr>\n      <th>min</th>\n      <td>666020888022790144.00</td>\n      <td>1.00</td>\n      <td>0.04</td>\n      <td>0.00</td>\n      <td>0.00</td>\n    </tr>\n    <tr>\n      <th>25%</th>\n      <td>676483507139540992.00</td>\n      <td>1.00</td>\n      <td>0.36</td>\n      <td>0.05</td>\n      <td>0.02</td>\n    </tr>\n    <tr>\n      <th>50%</th>\n      <td>711998809858043904.00</td>\n      <td>1.00</td>\n      <td>0.59</td>\n      <td>0.12</td>\n      <td>0.05</td>\n    </tr>\n    <tr>\n      <th>75%</th>\n      <td>793203448525178880.00</td>\n      <td>1.00</td>\n      <td>0.84</td>\n      <td>0.20</td>\n      <td>0.09</td>\n    </tr>\n    <tr>\n      <th>max</th>\n      <td>892420643555336192.00</td>\n      <td>4.00</td>\n      <td>1.00</td>\n      <td>0.49</td>\n      <td>0.27</td>\n    </tr>\n  </tbody>\n</table>\n</div>"
     },
     "execution_count": 25,
     "metadata": {},
     "output_type": "execute_result"
    }
   ],
   "source": [
    "df_images.describe()"
   ]
  },
  {
   "cell_type": "markdown",
   "metadata": {
    "pycharm": {
     "name": "#%% md\n"
    }
   },
   "source": [
    "<b>Observations:</b>\n",
    "- 324 tweets do not contain any dog images or AI failed to identify the dog\n",
    "- Max number of images for a single tweet is 4. It is not clear which of the 4 images was used for prediction\n",
    "- The data does not indicate which image was assessed, if more than one image was available"
   ]
  },
  {
   "cell_type": "markdown",
   "source": [
    "5 - Look for duplicates"
   ],
   "metadata": {
    "collapsed": false,
    "pycharm": {
     "name": "#%% md\n"
    }
   }
  },
  {
   "cell_type": "code",
   "execution_count": 26,
   "outputs": [
    {
     "data": {
      "text/plain": "0"
     },
     "execution_count": 26,
     "metadata": {},
     "output_type": "execute_result"
    }
   ],
   "source": [
    "df_images['tweet_id'].duplicated().sum()"
   ],
   "metadata": {
    "collapsed": false,
    "pycharm": {
     "name": "#%%\n"
    }
   }
  },
  {
   "cell_type": "code",
   "execution_count": 27,
   "outputs": [
    {
     "data": {
      "text/plain": "66"
     },
     "execution_count": 27,
     "metadata": {},
     "output_type": "execute_result"
    }
   ],
   "source": [
    "df_images['jpg_url'].duplicated().sum()"
   ],
   "metadata": {
    "collapsed": false,
    "pycharm": {
     "name": "#%%\n"
    }
   }
  },
  {
   "cell_type": "markdown",
   "source": [
    "<b>Observations:</b>\n",
    "- There are no duplicate tweets.\n",
    "- There are duplicate image urls under unique tweet ids, this is unexpected.\n",
    "- This means might indicate that there are retweets in this dataset, but no retweet flag"
   ],
   "metadata": {
    "collapsed": false,
    "pycharm": {
     "name": "#%% md\n"
    }
   }
  },
  {
   "cell_type": "markdown",
   "source": [
    "#### 2.3 Twitter Archive (df_arctweets)\n",
    "><b>2.3.1 - Visually assess data</b>"
   ],
   "metadata": {
    "collapsed": false,
    "pycharm": {
     "name": "#%% md\n"
    }
   }
  },
  {
   "cell_type": "code",
   "execution_count": 28,
   "outputs": [
    {
     "data": {
      "text/plain": "              tweet_id  in_reply_to_status_id  in_reply_to_user_id  \\\n0   892420643555336193                    NaN                  NaN   \n1   892177421306343426                    NaN                  NaN   \n2   891815181378084864                    NaN                  NaN   \n3   891689557279858688                    NaN                  NaN   \n4   891327558926688256                    NaN                  NaN   \n5   891087950875897856                    NaN                  NaN   \n6   890971913173991426                    NaN                  NaN   \n7   890729181411237888                    NaN                  NaN   \n8   890609185150312448                    NaN                  NaN   \n9   890240255349198849                    NaN                  NaN   \n10  890006608113172480                    NaN                  NaN   \n11  889880896479866881                    NaN                  NaN   \n12  889665388333682689                    NaN                  NaN   \n13  889638837579907072                    NaN                  NaN   \n14  889531135344209921                    NaN                  NaN   \n15  889278841981685760                    NaN                  NaN   \n16  888917238123831296                    NaN                  NaN   \n17  888804989199671297                    NaN                  NaN   \n18  888554962724278272                    NaN                  NaN   \n19  888202515573088257                    NaN                  NaN   \n\n                    timestamp  \\\n0   2017-08-01 16:23:56 +0000   \n1   2017-08-01 00:17:27 +0000   \n2   2017-07-31 00:18:03 +0000   \n3   2017-07-30 15:58:51 +0000   \n4   2017-07-29 16:00:24 +0000   \n5   2017-07-29 00:08:17 +0000   \n6   2017-07-28 16:27:12 +0000   \n7   2017-07-28 00:22:40 +0000   \n8   2017-07-27 16:25:51 +0000   \n9   2017-07-26 15:59:51 +0000   \n10  2017-07-26 00:31:25 +0000   \n11  2017-07-25 16:11:53 +0000   \n12  2017-07-25 01:55:32 +0000   \n13  2017-07-25 00:10:02 +0000   \n14  2017-07-24 17:02:04 +0000   \n15  2017-07-24 00:19:32 +0000   \n16  2017-07-23 00:22:39 +0000   \n17  2017-07-22 16:56:37 +0000   \n18  2017-07-22 00:23:06 +0000   \n19  2017-07-21 01:02:36 +0000   \n\n                                               source  \\\n0   <a href=\"http://twitter.com/download/iphone\" r...   \n1   <a href=\"http://twitter.com/download/iphone\" r...   \n2   <a href=\"http://twitter.com/download/iphone\" r...   \n3   <a href=\"http://twitter.com/download/iphone\" r...   \n4   <a href=\"http://twitter.com/download/iphone\" r...   \n5   <a href=\"http://twitter.com/download/iphone\" r...   \n6   <a href=\"http://twitter.com/download/iphone\" r...   \n7   <a href=\"http://twitter.com/download/iphone\" r...   \n8   <a href=\"http://twitter.com/download/iphone\" r...   \n9   <a href=\"http://twitter.com/download/iphone\" r...   \n10  <a href=\"http://twitter.com/download/iphone\" r...   \n11  <a href=\"http://twitter.com/download/iphone\" r...   \n12  <a href=\"http://twitter.com/download/iphone\" r...   \n13  <a href=\"http://twitter.com/download/iphone\" r...   \n14  <a href=\"http://twitter.com/download/iphone\" r...   \n15  <a href=\"http://twitter.com/download/iphone\" r...   \n16  <a href=\"http://twitter.com/download/iphone\" r...   \n17  <a href=\"http://twitter.com/download/iphone\" r...   \n18  <a href=\"http://twitter.com/download/iphone\" r...   \n19  <a href=\"http://twitter.com/download/iphone\" r...   \n\n                                                 text   retweeted_status_id  \\\n0   This is Phineas. He's a mystical boy. Only eve...                   NaN   \n1   This is Tilly. She's just checking pup on you....                   NaN   \n2   This is Archie. He is a rare Norwegian Pouncin...                   NaN   \n3   This is Darla. She commenced a snooze mid meal...                   NaN   \n4   This is Franklin. He would like you to stop ca...                   NaN   \n5   Here we have a majestic great white breaching ...                   NaN   \n6   Meet Jax. He enjoys ice cream so much he gets ...                   NaN   \n7   When you watch your owner call another dog a g...                   NaN   \n8   This is Zoey. She doesn't want to be one of th...                   NaN   \n9   This is Cassie. She is a college pup. Studying...                   NaN   \n10  This is Koda. He is a South Australian decksha...                   NaN   \n11  This is Bruno. He is a service shark. Only get...                   NaN   \n12  Here's a puppo that seems to be on the fence a...                   NaN   \n13  This is Ted. He does his best. Sometimes that'...                   NaN   \n14  This is Stuart. He's sporting his favorite fan...                   NaN   \n15  This is Oliver. You're witnessing one of his m...                   NaN   \n16  This is Jim. He found a fren. Taught him how t...                   NaN   \n17  This is Zeke. He has a new stick. Very proud o...                   NaN   \n18  This is Ralphus. He's powering up. Attempting ...                   NaN   \n19  RT @dog_rates: This is Canela. She attempted s... 887473957103951872.00   \n\n    retweeted_status_user_id retweeted_status_timestamp  \\\n0                        NaN                        NaN   \n1                        NaN                        NaN   \n2                        NaN                        NaN   \n3                        NaN                        NaN   \n4                        NaN                        NaN   \n5                        NaN                        NaN   \n6                        NaN                        NaN   \n7                        NaN                        NaN   \n8                        NaN                        NaN   \n9                        NaN                        NaN   \n10                       NaN                        NaN   \n11                       NaN                        NaN   \n12                       NaN                        NaN   \n13                       NaN                        NaN   \n14                       NaN                        NaN   \n15                       NaN                        NaN   \n16                       NaN                        NaN   \n17                       NaN                        NaN   \n18                       NaN                        NaN   \n19             4196983835.00  2017-07-19 00:47:34 +0000   \n\n                                        expanded_urls  rating_numerator  \\\n0   https://twitter.com/dog_rates/status/892420643...                13   \n1   https://twitter.com/dog_rates/status/892177421...                13   \n2   https://twitter.com/dog_rates/status/891815181...                12   \n3   https://twitter.com/dog_rates/status/891689557...                13   \n4   https://twitter.com/dog_rates/status/891327558...                12   \n5   https://twitter.com/dog_rates/status/891087950...                13   \n6   https://gofundme.com/ydvmve-surgery-for-jax,ht...                13   \n7   https://twitter.com/dog_rates/status/890729181...                13   \n8   https://twitter.com/dog_rates/status/890609185...                13   \n9   https://twitter.com/dog_rates/status/890240255...                14   \n10  https://twitter.com/dog_rates/status/890006608...                13   \n11  https://twitter.com/dog_rates/status/889880896...                13   \n12  https://twitter.com/dog_rates/status/889665388...                13   \n13  https://twitter.com/dog_rates/status/889638837...                12   \n14  https://twitter.com/dog_rates/status/889531135...                13   \n15  https://twitter.com/dog_rates/status/889278841...                13   \n16  https://twitter.com/dog_rates/status/888917238...                12   \n17  https://twitter.com/dog_rates/status/888804989...                13   \n18  https://twitter.com/dog_rates/status/888554962...                13   \n19  https://twitter.com/dog_rates/status/887473957...                13   \n\n    rating_denominator      name  doggo floofer pupper  puppo  \n0                   10   Phineas   None    None   None   None  \n1                   10     Tilly   None    None   None   None  \n2                   10    Archie   None    None   None   None  \n3                   10     Darla   None    None   None   None  \n4                   10  Franklin   None    None   None   None  \n5                   10      None   None    None   None   None  \n6                   10       Jax   None    None   None   None  \n7                   10      None   None    None   None   None  \n8                   10      Zoey   None    None   None   None  \n9                   10    Cassie  doggo    None   None   None  \n10                  10      Koda   None    None   None   None  \n11                  10     Bruno   None    None   None   None  \n12                  10      None   None    None   None  puppo  \n13                  10       Ted   None    None   None   None  \n14                  10    Stuart   None    None   None  puppo  \n15                  10    Oliver   None    None   None   None  \n16                  10       Jim   None    None   None   None  \n17                  10      Zeke   None    None   None   None  \n18                  10   Ralphus   None    None   None   None  \n19                  10    Canela   None    None   None   None  ",
      "text/html": "<div>\n<style scoped>\n    .dataframe tbody tr th:only-of-type {\n        vertical-align: middle;\n    }\n\n    .dataframe tbody tr th {\n        vertical-align: top;\n    }\n\n    .dataframe thead th {\n        text-align: right;\n    }\n</style>\n<table border=\"1\" class=\"dataframe\">\n  <thead>\n    <tr style=\"text-align: right;\">\n      <th></th>\n      <th>tweet_id</th>\n      <th>in_reply_to_status_id</th>\n      <th>in_reply_to_user_id</th>\n      <th>timestamp</th>\n      <th>source</th>\n      <th>text</th>\n      <th>retweeted_status_id</th>\n      <th>retweeted_status_user_id</th>\n      <th>retweeted_status_timestamp</th>\n      <th>expanded_urls</th>\n      <th>rating_numerator</th>\n      <th>rating_denominator</th>\n      <th>name</th>\n      <th>doggo</th>\n      <th>floofer</th>\n      <th>pupper</th>\n      <th>puppo</th>\n    </tr>\n  </thead>\n  <tbody>\n    <tr>\n      <th>0</th>\n      <td>892420643555336193</td>\n      <td>NaN</td>\n      <td>NaN</td>\n      <td>2017-08-01 16:23:56 +0000</td>\n      <td>&lt;a href=\"http://twitter.com/download/iphone\" r...</td>\n      <td>This is Phineas. He's a mystical boy. Only eve...</td>\n      <td>NaN</td>\n      <td>NaN</td>\n      <td>NaN</td>\n      <td>https://twitter.com/dog_rates/status/892420643...</td>\n      <td>13</td>\n      <td>10</td>\n      <td>Phineas</td>\n      <td>None</td>\n      <td>None</td>\n      <td>None</td>\n      <td>None</td>\n    </tr>\n    <tr>\n      <th>1</th>\n      <td>892177421306343426</td>\n      <td>NaN</td>\n      <td>NaN</td>\n      <td>2017-08-01 00:17:27 +0000</td>\n      <td>&lt;a href=\"http://twitter.com/download/iphone\" r...</td>\n      <td>This is Tilly. She's just checking pup on you....</td>\n      <td>NaN</td>\n      <td>NaN</td>\n      <td>NaN</td>\n      <td>https://twitter.com/dog_rates/status/892177421...</td>\n      <td>13</td>\n      <td>10</td>\n      <td>Tilly</td>\n      <td>None</td>\n      <td>None</td>\n      <td>None</td>\n      <td>None</td>\n    </tr>\n    <tr>\n      <th>2</th>\n      <td>891815181378084864</td>\n      <td>NaN</td>\n      <td>NaN</td>\n      <td>2017-07-31 00:18:03 +0000</td>\n      <td>&lt;a href=\"http://twitter.com/download/iphone\" r...</td>\n      <td>This is Archie. He is a rare Norwegian Pouncin...</td>\n      <td>NaN</td>\n      <td>NaN</td>\n      <td>NaN</td>\n      <td>https://twitter.com/dog_rates/status/891815181...</td>\n      <td>12</td>\n      <td>10</td>\n      <td>Archie</td>\n      <td>None</td>\n      <td>None</td>\n      <td>None</td>\n      <td>None</td>\n    </tr>\n    <tr>\n      <th>3</th>\n      <td>891689557279858688</td>\n      <td>NaN</td>\n      <td>NaN</td>\n      <td>2017-07-30 15:58:51 +0000</td>\n      <td>&lt;a href=\"http://twitter.com/download/iphone\" r...</td>\n      <td>This is Darla. She commenced a snooze mid meal...</td>\n      <td>NaN</td>\n      <td>NaN</td>\n      <td>NaN</td>\n      <td>https://twitter.com/dog_rates/status/891689557...</td>\n      <td>13</td>\n      <td>10</td>\n      <td>Darla</td>\n      <td>None</td>\n      <td>None</td>\n      <td>None</td>\n      <td>None</td>\n    </tr>\n    <tr>\n      <th>4</th>\n      <td>891327558926688256</td>\n      <td>NaN</td>\n      <td>NaN</td>\n      <td>2017-07-29 16:00:24 +0000</td>\n      <td>&lt;a href=\"http://twitter.com/download/iphone\" r...</td>\n      <td>This is Franklin. He would like you to stop ca...</td>\n      <td>NaN</td>\n      <td>NaN</td>\n      <td>NaN</td>\n      <td>https://twitter.com/dog_rates/status/891327558...</td>\n      <td>12</td>\n      <td>10</td>\n      <td>Franklin</td>\n      <td>None</td>\n      <td>None</td>\n      <td>None</td>\n      <td>None</td>\n    </tr>\n    <tr>\n      <th>5</th>\n      <td>891087950875897856</td>\n      <td>NaN</td>\n      <td>NaN</td>\n      <td>2017-07-29 00:08:17 +0000</td>\n      <td>&lt;a href=\"http://twitter.com/download/iphone\" r...</td>\n      <td>Here we have a majestic great white breaching ...</td>\n      <td>NaN</td>\n      <td>NaN</td>\n      <td>NaN</td>\n      <td>https://twitter.com/dog_rates/status/891087950...</td>\n      <td>13</td>\n      <td>10</td>\n      <td>None</td>\n      <td>None</td>\n      <td>None</td>\n      <td>None</td>\n      <td>None</td>\n    </tr>\n    <tr>\n      <th>6</th>\n      <td>890971913173991426</td>\n      <td>NaN</td>\n      <td>NaN</td>\n      <td>2017-07-28 16:27:12 +0000</td>\n      <td>&lt;a href=\"http://twitter.com/download/iphone\" r...</td>\n      <td>Meet Jax. He enjoys ice cream so much he gets ...</td>\n      <td>NaN</td>\n      <td>NaN</td>\n      <td>NaN</td>\n      <td>https://gofundme.com/ydvmve-surgery-for-jax,ht...</td>\n      <td>13</td>\n      <td>10</td>\n      <td>Jax</td>\n      <td>None</td>\n      <td>None</td>\n      <td>None</td>\n      <td>None</td>\n    </tr>\n    <tr>\n      <th>7</th>\n      <td>890729181411237888</td>\n      <td>NaN</td>\n      <td>NaN</td>\n      <td>2017-07-28 00:22:40 +0000</td>\n      <td>&lt;a href=\"http://twitter.com/download/iphone\" r...</td>\n      <td>When you watch your owner call another dog a g...</td>\n      <td>NaN</td>\n      <td>NaN</td>\n      <td>NaN</td>\n      <td>https://twitter.com/dog_rates/status/890729181...</td>\n      <td>13</td>\n      <td>10</td>\n      <td>None</td>\n      <td>None</td>\n      <td>None</td>\n      <td>None</td>\n      <td>None</td>\n    </tr>\n    <tr>\n      <th>8</th>\n      <td>890609185150312448</td>\n      <td>NaN</td>\n      <td>NaN</td>\n      <td>2017-07-27 16:25:51 +0000</td>\n      <td>&lt;a href=\"http://twitter.com/download/iphone\" r...</td>\n      <td>This is Zoey. She doesn't want to be one of th...</td>\n      <td>NaN</td>\n      <td>NaN</td>\n      <td>NaN</td>\n      <td>https://twitter.com/dog_rates/status/890609185...</td>\n      <td>13</td>\n      <td>10</td>\n      <td>Zoey</td>\n      <td>None</td>\n      <td>None</td>\n      <td>None</td>\n      <td>None</td>\n    </tr>\n    <tr>\n      <th>9</th>\n      <td>890240255349198849</td>\n      <td>NaN</td>\n      <td>NaN</td>\n      <td>2017-07-26 15:59:51 +0000</td>\n      <td>&lt;a href=\"http://twitter.com/download/iphone\" r...</td>\n      <td>This is Cassie. She is a college pup. Studying...</td>\n      <td>NaN</td>\n      <td>NaN</td>\n      <td>NaN</td>\n      <td>https://twitter.com/dog_rates/status/890240255...</td>\n      <td>14</td>\n      <td>10</td>\n      <td>Cassie</td>\n      <td>doggo</td>\n      <td>None</td>\n      <td>None</td>\n      <td>None</td>\n    </tr>\n    <tr>\n      <th>10</th>\n      <td>890006608113172480</td>\n      <td>NaN</td>\n      <td>NaN</td>\n      <td>2017-07-26 00:31:25 +0000</td>\n      <td>&lt;a href=\"http://twitter.com/download/iphone\" r...</td>\n      <td>This is Koda. He is a South Australian decksha...</td>\n      <td>NaN</td>\n      <td>NaN</td>\n      <td>NaN</td>\n      <td>https://twitter.com/dog_rates/status/890006608...</td>\n      <td>13</td>\n      <td>10</td>\n      <td>Koda</td>\n      <td>None</td>\n      <td>None</td>\n      <td>None</td>\n      <td>None</td>\n    </tr>\n    <tr>\n      <th>11</th>\n      <td>889880896479866881</td>\n      <td>NaN</td>\n      <td>NaN</td>\n      <td>2017-07-25 16:11:53 +0000</td>\n      <td>&lt;a href=\"http://twitter.com/download/iphone\" r...</td>\n      <td>This is Bruno. He is a service shark. Only get...</td>\n      <td>NaN</td>\n      <td>NaN</td>\n      <td>NaN</td>\n      <td>https://twitter.com/dog_rates/status/889880896...</td>\n      <td>13</td>\n      <td>10</td>\n      <td>Bruno</td>\n      <td>None</td>\n      <td>None</td>\n      <td>None</td>\n      <td>None</td>\n    </tr>\n    <tr>\n      <th>12</th>\n      <td>889665388333682689</td>\n      <td>NaN</td>\n      <td>NaN</td>\n      <td>2017-07-25 01:55:32 +0000</td>\n      <td>&lt;a href=\"http://twitter.com/download/iphone\" r...</td>\n      <td>Here's a puppo that seems to be on the fence a...</td>\n      <td>NaN</td>\n      <td>NaN</td>\n      <td>NaN</td>\n      <td>https://twitter.com/dog_rates/status/889665388...</td>\n      <td>13</td>\n      <td>10</td>\n      <td>None</td>\n      <td>None</td>\n      <td>None</td>\n      <td>None</td>\n      <td>puppo</td>\n    </tr>\n    <tr>\n      <th>13</th>\n      <td>889638837579907072</td>\n      <td>NaN</td>\n      <td>NaN</td>\n      <td>2017-07-25 00:10:02 +0000</td>\n      <td>&lt;a href=\"http://twitter.com/download/iphone\" r...</td>\n      <td>This is Ted. He does his best. Sometimes that'...</td>\n      <td>NaN</td>\n      <td>NaN</td>\n      <td>NaN</td>\n      <td>https://twitter.com/dog_rates/status/889638837...</td>\n      <td>12</td>\n      <td>10</td>\n      <td>Ted</td>\n      <td>None</td>\n      <td>None</td>\n      <td>None</td>\n      <td>None</td>\n    </tr>\n    <tr>\n      <th>14</th>\n      <td>889531135344209921</td>\n      <td>NaN</td>\n      <td>NaN</td>\n      <td>2017-07-24 17:02:04 +0000</td>\n      <td>&lt;a href=\"http://twitter.com/download/iphone\" r...</td>\n      <td>This is Stuart. He's sporting his favorite fan...</td>\n      <td>NaN</td>\n      <td>NaN</td>\n      <td>NaN</td>\n      <td>https://twitter.com/dog_rates/status/889531135...</td>\n      <td>13</td>\n      <td>10</td>\n      <td>Stuart</td>\n      <td>None</td>\n      <td>None</td>\n      <td>None</td>\n      <td>puppo</td>\n    </tr>\n    <tr>\n      <th>15</th>\n      <td>889278841981685760</td>\n      <td>NaN</td>\n      <td>NaN</td>\n      <td>2017-07-24 00:19:32 +0000</td>\n      <td>&lt;a href=\"http://twitter.com/download/iphone\" r...</td>\n      <td>This is Oliver. You're witnessing one of his m...</td>\n      <td>NaN</td>\n      <td>NaN</td>\n      <td>NaN</td>\n      <td>https://twitter.com/dog_rates/status/889278841...</td>\n      <td>13</td>\n      <td>10</td>\n      <td>Oliver</td>\n      <td>None</td>\n      <td>None</td>\n      <td>None</td>\n      <td>None</td>\n    </tr>\n    <tr>\n      <th>16</th>\n      <td>888917238123831296</td>\n      <td>NaN</td>\n      <td>NaN</td>\n      <td>2017-07-23 00:22:39 +0000</td>\n      <td>&lt;a href=\"http://twitter.com/download/iphone\" r...</td>\n      <td>This is Jim. He found a fren. Taught him how t...</td>\n      <td>NaN</td>\n      <td>NaN</td>\n      <td>NaN</td>\n      <td>https://twitter.com/dog_rates/status/888917238...</td>\n      <td>12</td>\n      <td>10</td>\n      <td>Jim</td>\n      <td>None</td>\n      <td>None</td>\n      <td>None</td>\n      <td>None</td>\n    </tr>\n    <tr>\n      <th>17</th>\n      <td>888804989199671297</td>\n      <td>NaN</td>\n      <td>NaN</td>\n      <td>2017-07-22 16:56:37 +0000</td>\n      <td>&lt;a href=\"http://twitter.com/download/iphone\" r...</td>\n      <td>This is Zeke. He has a new stick. Very proud o...</td>\n      <td>NaN</td>\n      <td>NaN</td>\n      <td>NaN</td>\n      <td>https://twitter.com/dog_rates/status/888804989...</td>\n      <td>13</td>\n      <td>10</td>\n      <td>Zeke</td>\n      <td>None</td>\n      <td>None</td>\n      <td>None</td>\n      <td>None</td>\n    </tr>\n    <tr>\n      <th>18</th>\n      <td>888554962724278272</td>\n      <td>NaN</td>\n      <td>NaN</td>\n      <td>2017-07-22 00:23:06 +0000</td>\n      <td>&lt;a href=\"http://twitter.com/download/iphone\" r...</td>\n      <td>This is Ralphus. He's powering up. Attempting ...</td>\n      <td>NaN</td>\n      <td>NaN</td>\n      <td>NaN</td>\n      <td>https://twitter.com/dog_rates/status/888554962...</td>\n      <td>13</td>\n      <td>10</td>\n      <td>Ralphus</td>\n      <td>None</td>\n      <td>None</td>\n      <td>None</td>\n      <td>None</td>\n    </tr>\n    <tr>\n      <th>19</th>\n      <td>888202515573088257</td>\n      <td>NaN</td>\n      <td>NaN</td>\n      <td>2017-07-21 01:02:36 +0000</td>\n      <td>&lt;a href=\"http://twitter.com/download/iphone\" r...</td>\n      <td>RT @dog_rates: This is Canela. She attempted s...</td>\n      <td>887473957103951872.00</td>\n      <td>4196983835.00</td>\n      <td>2017-07-19 00:47:34 +0000</td>\n      <td>https://twitter.com/dog_rates/status/887473957...</td>\n      <td>13</td>\n      <td>10</td>\n      <td>Canela</td>\n      <td>None</td>\n      <td>None</td>\n      <td>None</td>\n      <td>None</td>\n    </tr>\n  </tbody>\n</table>\n</div>"
     },
     "execution_count": 28,
     "metadata": {},
     "output_type": "execute_result"
    }
   ],
   "source": [
    "df_arctweets.head(20)"
   ],
   "metadata": {
    "collapsed": false,
    "pycharm": {
     "name": "#%%\n"
    }
   }
  },
  {
   "cell_type": "code",
   "execution_count": 29,
   "outputs": [
    {
     "data": {
      "text/plain": "                tweet_id  in_reply_to_status_id  in_reply_to_user_id  \\\n2336  666273097616637952                    NaN                  NaN   \n2337  666268910803644416                    NaN                  NaN   \n2338  666104133288665088                    NaN                  NaN   \n2339  666102155909144576                    NaN                  NaN   \n2340  666099513787052032                    NaN                  NaN   \n2341  666094000022159362                    NaN                  NaN   \n2342  666082916733198337                    NaN                  NaN   \n2343  666073100786774016                    NaN                  NaN   \n2344  666071193221509120                    NaN                  NaN   \n2345  666063827256086533                    NaN                  NaN   \n2346  666058600524156928                    NaN                  NaN   \n2347  666057090499244032                    NaN                  NaN   \n2348  666055525042405380                    NaN                  NaN   \n2349  666051853826850816                    NaN                  NaN   \n2350  666050758794694657                    NaN                  NaN   \n2351  666049248165822465                    NaN                  NaN   \n2352  666044226329800704                    NaN                  NaN   \n2353  666033412701032449                    NaN                  NaN   \n2354  666029285002620928                    NaN                  NaN   \n2355  666020888022790149                    NaN                  NaN   \n\n                      timestamp  \\\n2336  2015-11-16 15:14:19 +0000   \n2337  2015-11-16 14:57:41 +0000   \n2338  2015-11-16 04:02:55 +0000   \n2339  2015-11-16 03:55:04 +0000   \n2340  2015-11-16 03:44:34 +0000   \n2341  2015-11-16 03:22:39 +0000   \n2342  2015-11-16 02:38:37 +0000   \n2343  2015-11-16 01:59:36 +0000   \n2344  2015-11-16 01:52:02 +0000   \n2345  2015-11-16 01:22:45 +0000   \n2346  2015-11-16 01:01:59 +0000   \n2347  2015-11-16 00:55:59 +0000   \n2348  2015-11-16 00:49:46 +0000   \n2349  2015-11-16 00:35:11 +0000   \n2350  2015-11-16 00:30:50 +0000   \n2351  2015-11-16 00:24:50 +0000   \n2352  2015-11-16 00:04:52 +0000   \n2353  2015-11-15 23:21:54 +0000   \n2354  2015-11-15 23:05:30 +0000   \n2355  2015-11-15 22:32:08 +0000   \n\n                                                 source  \\\n2336  <a href=\"http://twitter.com/download/iphone\" r...   \n2337  <a href=\"http://twitter.com/download/iphone\" r...   \n2338  <a href=\"http://twitter.com/download/iphone\" r...   \n2339  <a href=\"http://twitter.com/download/iphone\" r...   \n2340  <a href=\"http://twitter.com/download/iphone\" r...   \n2341  <a href=\"http://twitter.com/download/iphone\" r...   \n2342  <a href=\"http://twitter.com/download/iphone\" r...   \n2343  <a href=\"http://twitter.com/download/iphone\" r...   \n2344  <a href=\"http://twitter.com/download/iphone\" r...   \n2345  <a href=\"http://twitter.com/download/iphone\" r...   \n2346  <a href=\"http://twitter.com/download/iphone\" r...   \n2347  <a href=\"http://twitter.com/download/iphone\" r...   \n2348  <a href=\"http://twitter.com/download/iphone\" r...   \n2349  <a href=\"http://twitter.com/download/iphone\" r...   \n2350  <a href=\"http://twitter.com/download/iphone\" r...   \n2351  <a href=\"http://twitter.com/download/iphone\" r...   \n2352  <a href=\"http://twitter.com/download/iphone\" r...   \n2353  <a href=\"http://twitter.com/download/iphone\" r...   \n2354  <a href=\"http://twitter.com/download/iphone\" r...   \n2355  <a href=\"http://twitter.com/download/iphone\" r...   \n\n                                                   text  retweeted_status_id  \\\n2336     Can take selfies 11/10 https://t.co/ws2AMaNwPW                  NaN   \n2337  Very concerned about fellow dog trapped in com...                  NaN   \n2338  Not familiar with this breed. No tail (weird)....                  NaN   \n2339  Oh my. Here you are seeing an Adobe Setter giv...                  NaN   \n2340  Can stand on stump for what seems like a while...                  NaN   \n2341  This appears to be a Mongolian Presbyterian mi...                  NaN   \n2342  Here we have a well-established sunblockerspan...                  NaN   \n2343  Let's hope this flight isn't Malaysian (lol). ...                  NaN   \n2344  Here we have a northern speckled Rhododendron....                  NaN   \n2345  This is the happiest dog you will ever see. Ve...                  NaN   \n2346  Here is the Rand Paul of retrievers folks! He'...                  NaN   \n2347  My oh my. This is a rare blond Canadian terrie...                  NaN   \n2348  Here is a Siberian heavily armored polar bear ...                  NaN   \n2349  This is an odd dog. Hard on the outside but lo...                  NaN   \n2350  This is a truly beautiful English Wilson Staff...                  NaN   \n2351  Here we have a 1949 1st generation vulpix. Enj...                  NaN   \n2352  This is a purebred Piers Morgan. Loves to Netf...                  NaN   \n2353  Here is a very happy pup. Big fan of well-main...                  NaN   \n2354  This is a western brown Mitsubishi terrier. Up...                  NaN   \n2355  Here we have a Japanese Irish Setter. Lost eye...                  NaN   \n\n      retweeted_status_user_id retweeted_status_timestamp  \\\n2336                       NaN                        NaN   \n2337                       NaN                        NaN   \n2338                       NaN                        NaN   \n2339                       NaN                        NaN   \n2340                       NaN                        NaN   \n2341                       NaN                        NaN   \n2342                       NaN                        NaN   \n2343                       NaN                        NaN   \n2344                       NaN                        NaN   \n2345                       NaN                        NaN   \n2346                       NaN                        NaN   \n2347                       NaN                        NaN   \n2348                       NaN                        NaN   \n2349                       NaN                        NaN   \n2350                       NaN                        NaN   \n2351                       NaN                        NaN   \n2352                       NaN                        NaN   \n2353                       NaN                        NaN   \n2354                       NaN                        NaN   \n2355                       NaN                        NaN   \n\n                                          expanded_urls  rating_numerator  \\\n2336  https://twitter.com/dog_rates/status/666273097...                11   \n2337  https://twitter.com/dog_rates/status/666268910...                10   \n2338  https://twitter.com/dog_rates/status/666104133...                 1   \n2339  https://twitter.com/dog_rates/status/666102155...                11   \n2340  https://twitter.com/dog_rates/status/666099513...                 8   \n2341  https://twitter.com/dog_rates/status/666094000...                 9   \n2342  https://twitter.com/dog_rates/status/666082916...                 6   \n2343  https://twitter.com/dog_rates/status/666073100...                10   \n2344  https://twitter.com/dog_rates/status/666071193...                 9   \n2345  https://twitter.com/dog_rates/status/666063827...                10   \n2346  https://twitter.com/dog_rates/status/666058600...                 8   \n2347  https://twitter.com/dog_rates/status/666057090...                 9   \n2348  https://twitter.com/dog_rates/status/666055525...                10   \n2349  https://twitter.com/dog_rates/status/666051853...                 2   \n2350  https://twitter.com/dog_rates/status/666050758...                10   \n2351  https://twitter.com/dog_rates/status/666049248...                 5   \n2352  https://twitter.com/dog_rates/status/666044226...                 6   \n2353  https://twitter.com/dog_rates/status/666033412...                 9   \n2354  https://twitter.com/dog_rates/status/666029285...                 7   \n2355  https://twitter.com/dog_rates/status/666020888...                 8   \n\n      rating_denominator  name doggo floofer pupper puppo  \n2336                  10  None  None    None   None  None  \n2337                  10  None  None    None   None  None  \n2338                  10  None  None    None   None  None  \n2339                  10  None  None    None   None  None  \n2340                  10  None  None    None   None  None  \n2341                  10  None  None    None   None  None  \n2342                  10  None  None    None   None  None  \n2343                  10  None  None    None   None  None  \n2344                  10  None  None    None   None  None  \n2345                  10   the  None    None   None  None  \n2346                  10   the  None    None   None  None  \n2347                  10     a  None    None   None  None  \n2348                  10     a  None    None   None  None  \n2349                  10    an  None    None   None  None  \n2350                  10     a  None    None   None  None  \n2351                  10  None  None    None   None  None  \n2352                  10     a  None    None   None  None  \n2353                  10     a  None    None   None  None  \n2354                  10     a  None    None   None  None  \n2355                  10  None  None    None   None  None  ",
      "text/html": "<div>\n<style scoped>\n    .dataframe tbody tr th:only-of-type {\n        vertical-align: middle;\n    }\n\n    .dataframe tbody tr th {\n        vertical-align: top;\n    }\n\n    .dataframe thead th {\n        text-align: right;\n    }\n</style>\n<table border=\"1\" class=\"dataframe\">\n  <thead>\n    <tr style=\"text-align: right;\">\n      <th></th>\n      <th>tweet_id</th>\n      <th>in_reply_to_status_id</th>\n      <th>in_reply_to_user_id</th>\n      <th>timestamp</th>\n      <th>source</th>\n      <th>text</th>\n      <th>retweeted_status_id</th>\n      <th>retweeted_status_user_id</th>\n      <th>retweeted_status_timestamp</th>\n      <th>expanded_urls</th>\n      <th>rating_numerator</th>\n      <th>rating_denominator</th>\n      <th>name</th>\n      <th>doggo</th>\n      <th>floofer</th>\n      <th>pupper</th>\n      <th>puppo</th>\n    </tr>\n  </thead>\n  <tbody>\n    <tr>\n      <th>2336</th>\n      <td>666273097616637952</td>\n      <td>NaN</td>\n      <td>NaN</td>\n      <td>2015-11-16 15:14:19 +0000</td>\n      <td>&lt;a href=\"http://twitter.com/download/iphone\" r...</td>\n      <td>Can take selfies 11/10 https://t.co/ws2AMaNwPW</td>\n      <td>NaN</td>\n      <td>NaN</td>\n      <td>NaN</td>\n      <td>https://twitter.com/dog_rates/status/666273097...</td>\n      <td>11</td>\n      <td>10</td>\n      <td>None</td>\n      <td>None</td>\n      <td>None</td>\n      <td>None</td>\n      <td>None</td>\n    </tr>\n    <tr>\n      <th>2337</th>\n      <td>666268910803644416</td>\n      <td>NaN</td>\n      <td>NaN</td>\n      <td>2015-11-16 14:57:41 +0000</td>\n      <td>&lt;a href=\"http://twitter.com/download/iphone\" r...</td>\n      <td>Very concerned about fellow dog trapped in com...</td>\n      <td>NaN</td>\n      <td>NaN</td>\n      <td>NaN</td>\n      <td>https://twitter.com/dog_rates/status/666268910...</td>\n      <td>10</td>\n      <td>10</td>\n      <td>None</td>\n      <td>None</td>\n      <td>None</td>\n      <td>None</td>\n      <td>None</td>\n    </tr>\n    <tr>\n      <th>2338</th>\n      <td>666104133288665088</td>\n      <td>NaN</td>\n      <td>NaN</td>\n      <td>2015-11-16 04:02:55 +0000</td>\n      <td>&lt;a href=\"http://twitter.com/download/iphone\" r...</td>\n      <td>Not familiar with this breed. No tail (weird)....</td>\n      <td>NaN</td>\n      <td>NaN</td>\n      <td>NaN</td>\n      <td>https://twitter.com/dog_rates/status/666104133...</td>\n      <td>1</td>\n      <td>10</td>\n      <td>None</td>\n      <td>None</td>\n      <td>None</td>\n      <td>None</td>\n      <td>None</td>\n    </tr>\n    <tr>\n      <th>2339</th>\n      <td>666102155909144576</td>\n      <td>NaN</td>\n      <td>NaN</td>\n      <td>2015-11-16 03:55:04 +0000</td>\n      <td>&lt;a href=\"http://twitter.com/download/iphone\" r...</td>\n      <td>Oh my. Here you are seeing an Adobe Setter giv...</td>\n      <td>NaN</td>\n      <td>NaN</td>\n      <td>NaN</td>\n      <td>https://twitter.com/dog_rates/status/666102155...</td>\n      <td>11</td>\n      <td>10</td>\n      <td>None</td>\n      <td>None</td>\n      <td>None</td>\n      <td>None</td>\n      <td>None</td>\n    </tr>\n    <tr>\n      <th>2340</th>\n      <td>666099513787052032</td>\n      <td>NaN</td>\n      <td>NaN</td>\n      <td>2015-11-16 03:44:34 +0000</td>\n      <td>&lt;a href=\"http://twitter.com/download/iphone\" r...</td>\n      <td>Can stand on stump for what seems like a while...</td>\n      <td>NaN</td>\n      <td>NaN</td>\n      <td>NaN</td>\n      <td>https://twitter.com/dog_rates/status/666099513...</td>\n      <td>8</td>\n      <td>10</td>\n      <td>None</td>\n      <td>None</td>\n      <td>None</td>\n      <td>None</td>\n      <td>None</td>\n    </tr>\n    <tr>\n      <th>2341</th>\n      <td>666094000022159362</td>\n      <td>NaN</td>\n      <td>NaN</td>\n      <td>2015-11-16 03:22:39 +0000</td>\n      <td>&lt;a href=\"http://twitter.com/download/iphone\" r...</td>\n      <td>This appears to be a Mongolian Presbyterian mi...</td>\n      <td>NaN</td>\n      <td>NaN</td>\n      <td>NaN</td>\n      <td>https://twitter.com/dog_rates/status/666094000...</td>\n      <td>9</td>\n      <td>10</td>\n      <td>None</td>\n      <td>None</td>\n      <td>None</td>\n      <td>None</td>\n      <td>None</td>\n    </tr>\n    <tr>\n      <th>2342</th>\n      <td>666082916733198337</td>\n      <td>NaN</td>\n      <td>NaN</td>\n      <td>2015-11-16 02:38:37 +0000</td>\n      <td>&lt;a href=\"http://twitter.com/download/iphone\" r...</td>\n      <td>Here we have a well-established sunblockerspan...</td>\n      <td>NaN</td>\n      <td>NaN</td>\n      <td>NaN</td>\n      <td>https://twitter.com/dog_rates/status/666082916...</td>\n      <td>6</td>\n      <td>10</td>\n      <td>None</td>\n      <td>None</td>\n      <td>None</td>\n      <td>None</td>\n      <td>None</td>\n    </tr>\n    <tr>\n      <th>2343</th>\n      <td>666073100786774016</td>\n      <td>NaN</td>\n      <td>NaN</td>\n      <td>2015-11-16 01:59:36 +0000</td>\n      <td>&lt;a href=\"http://twitter.com/download/iphone\" r...</td>\n      <td>Let's hope this flight isn't Malaysian (lol). ...</td>\n      <td>NaN</td>\n      <td>NaN</td>\n      <td>NaN</td>\n      <td>https://twitter.com/dog_rates/status/666073100...</td>\n      <td>10</td>\n      <td>10</td>\n      <td>None</td>\n      <td>None</td>\n      <td>None</td>\n      <td>None</td>\n      <td>None</td>\n    </tr>\n    <tr>\n      <th>2344</th>\n      <td>666071193221509120</td>\n      <td>NaN</td>\n      <td>NaN</td>\n      <td>2015-11-16 01:52:02 +0000</td>\n      <td>&lt;a href=\"http://twitter.com/download/iphone\" r...</td>\n      <td>Here we have a northern speckled Rhododendron....</td>\n      <td>NaN</td>\n      <td>NaN</td>\n      <td>NaN</td>\n      <td>https://twitter.com/dog_rates/status/666071193...</td>\n      <td>9</td>\n      <td>10</td>\n      <td>None</td>\n      <td>None</td>\n      <td>None</td>\n      <td>None</td>\n      <td>None</td>\n    </tr>\n    <tr>\n      <th>2345</th>\n      <td>666063827256086533</td>\n      <td>NaN</td>\n      <td>NaN</td>\n      <td>2015-11-16 01:22:45 +0000</td>\n      <td>&lt;a href=\"http://twitter.com/download/iphone\" r...</td>\n      <td>This is the happiest dog you will ever see. Ve...</td>\n      <td>NaN</td>\n      <td>NaN</td>\n      <td>NaN</td>\n      <td>https://twitter.com/dog_rates/status/666063827...</td>\n      <td>10</td>\n      <td>10</td>\n      <td>the</td>\n      <td>None</td>\n      <td>None</td>\n      <td>None</td>\n      <td>None</td>\n    </tr>\n    <tr>\n      <th>2346</th>\n      <td>666058600524156928</td>\n      <td>NaN</td>\n      <td>NaN</td>\n      <td>2015-11-16 01:01:59 +0000</td>\n      <td>&lt;a href=\"http://twitter.com/download/iphone\" r...</td>\n      <td>Here is the Rand Paul of retrievers folks! He'...</td>\n      <td>NaN</td>\n      <td>NaN</td>\n      <td>NaN</td>\n      <td>https://twitter.com/dog_rates/status/666058600...</td>\n      <td>8</td>\n      <td>10</td>\n      <td>the</td>\n      <td>None</td>\n      <td>None</td>\n      <td>None</td>\n      <td>None</td>\n    </tr>\n    <tr>\n      <th>2347</th>\n      <td>666057090499244032</td>\n      <td>NaN</td>\n      <td>NaN</td>\n      <td>2015-11-16 00:55:59 +0000</td>\n      <td>&lt;a href=\"http://twitter.com/download/iphone\" r...</td>\n      <td>My oh my. This is a rare blond Canadian terrie...</td>\n      <td>NaN</td>\n      <td>NaN</td>\n      <td>NaN</td>\n      <td>https://twitter.com/dog_rates/status/666057090...</td>\n      <td>9</td>\n      <td>10</td>\n      <td>a</td>\n      <td>None</td>\n      <td>None</td>\n      <td>None</td>\n      <td>None</td>\n    </tr>\n    <tr>\n      <th>2348</th>\n      <td>666055525042405380</td>\n      <td>NaN</td>\n      <td>NaN</td>\n      <td>2015-11-16 00:49:46 +0000</td>\n      <td>&lt;a href=\"http://twitter.com/download/iphone\" r...</td>\n      <td>Here is a Siberian heavily armored polar bear ...</td>\n      <td>NaN</td>\n      <td>NaN</td>\n      <td>NaN</td>\n      <td>https://twitter.com/dog_rates/status/666055525...</td>\n      <td>10</td>\n      <td>10</td>\n      <td>a</td>\n      <td>None</td>\n      <td>None</td>\n      <td>None</td>\n      <td>None</td>\n    </tr>\n    <tr>\n      <th>2349</th>\n      <td>666051853826850816</td>\n      <td>NaN</td>\n      <td>NaN</td>\n      <td>2015-11-16 00:35:11 +0000</td>\n      <td>&lt;a href=\"http://twitter.com/download/iphone\" r...</td>\n      <td>This is an odd dog. Hard on the outside but lo...</td>\n      <td>NaN</td>\n      <td>NaN</td>\n      <td>NaN</td>\n      <td>https://twitter.com/dog_rates/status/666051853...</td>\n      <td>2</td>\n      <td>10</td>\n      <td>an</td>\n      <td>None</td>\n      <td>None</td>\n      <td>None</td>\n      <td>None</td>\n    </tr>\n    <tr>\n      <th>2350</th>\n      <td>666050758794694657</td>\n      <td>NaN</td>\n      <td>NaN</td>\n      <td>2015-11-16 00:30:50 +0000</td>\n      <td>&lt;a href=\"http://twitter.com/download/iphone\" r...</td>\n      <td>This is a truly beautiful English Wilson Staff...</td>\n      <td>NaN</td>\n      <td>NaN</td>\n      <td>NaN</td>\n      <td>https://twitter.com/dog_rates/status/666050758...</td>\n      <td>10</td>\n      <td>10</td>\n      <td>a</td>\n      <td>None</td>\n      <td>None</td>\n      <td>None</td>\n      <td>None</td>\n    </tr>\n    <tr>\n      <th>2351</th>\n      <td>666049248165822465</td>\n      <td>NaN</td>\n      <td>NaN</td>\n      <td>2015-11-16 00:24:50 +0000</td>\n      <td>&lt;a href=\"http://twitter.com/download/iphone\" r...</td>\n      <td>Here we have a 1949 1st generation vulpix. Enj...</td>\n      <td>NaN</td>\n      <td>NaN</td>\n      <td>NaN</td>\n      <td>https://twitter.com/dog_rates/status/666049248...</td>\n      <td>5</td>\n      <td>10</td>\n      <td>None</td>\n      <td>None</td>\n      <td>None</td>\n      <td>None</td>\n      <td>None</td>\n    </tr>\n    <tr>\n      <th>2352</th>\n      <td>666044226329800704</td>\n      <td>NaN</td>\n      <td>NaN</td>\n      <td>2015-11-16 00:04:52 +0000</td>\n      <td>&lt;a href=\"http://twitter.com/download/iphone\" r...</td>\n      <td>This is a purebred Piers Morgan. Loves to Netf...</td>\n      <td>NaN</td>\n      <td>NaN</td>\n      <td>NaN</td>\n      <td>https://twitter.com/dog_rates/status/666044226...</td>\n      <td>6</td>\n      <td>10</td>\n      <td>a</td>\n      <td>None</td>\n      <td>None</td>\n      <td>None</td>\n      <td>None</td>\n    </tr>\n    <tr>\n      <th>2353</th>\n      <td>666033412701032449</td>\n      <td>NaN</td>\n      <td>NaN</td>\n      <td>2015-11-15 23:21:54 +0000</td>\n      <td>&lt;a href=\"http://twitter.com/download/iphone\" r...</td>\n      <td>Here is a very happy pup. Big fan of well-main...</td>\n      <td>NaN</td>\n      <td>NaN</td>\n      <td>NaN</td>\n      <td>https://twitter.com/dog_rates/status/666033412...</td>\n      <td>9</td>\n      <td>10</td>\n      <td>a</td>\n      <td>None</td>\n      <td>None</td>\n      <td>None</td>\n      <td>None</td>\n    </tr>\n    <tr>\n      <th>2354</th>\n      <td>666029285002620928</td>\n      <td>NaN</td>\n      <td>NaN</td>\n      <td>2015-11-15 23:05:30 +0000</td>\n      <td>&lt;a href=\"http://twitter.com/download/iphone\" r...</td>\n      <td>This is a western brown Mitsubishi terrier. Up...</td>\n      <td>NaN</td>\n      <td>NaN</td>\n      <td>NaN</td>\n      <td>https://twitter.com/dog_rates/status/666029285...</td>\n      <td>7</td>\n      <td>10</td>\n      <td>a</td>\n      <td>None</td>\n      <td>None</td>\n      <td>None</td>\n      <td>None</td>\n    </tr>\n    <tr>\n      <th>2355</th>\n      <td>666020888022790149</td>\n      <td>NaN</td>\n      <td>NaN</td>\n      <td>2015-11-15 22:32:08 +0000</td>\n      <td>&lt;a href=\"http://twitter.com/download/iphone\" r...</td>\n      <td>Here we have a Japanese Irish Setter. Lost eye...</td>\n      <td>NaN</td>\n      <td>NaN</td>\n      <td>NaN</td>\n      <td>https://twitter.com/dog_rates/status/666020888...</td>\n      <td>8</td>\n      <td>10</td>\n      <td>None</td>\n      <td>None</td>\n      <td>None</td>\n      <td>None</td>\n      <td>None</td>\n    </tr>\n  </tbody>\n</table>\n</div>"
     },
     "execution_count": 29,
     "metadata": {},
     "output_type": "execute_result"
    }
   ],
   "source": [
    "df_arctweets.tail(20)"
   ],
   "metadata": {
    "collapsed": false,
    "pycharm": {
     "name": "#%%\n"
    }
   }
  },
  {
   "cell_type": "markdown",
   "source": [
    "<b>2.3.2 - Visual observations</b>\n",
    "Viewed in Pandas & Excel\n",
    "- Some tweets tweets have 'None' value on all columns (doggo, floofer, pupper, puppo)\n",
    "- Some dogs do not have names, the tweet text did not provide names\n",
    "- Some names are incorrect, for example, if the tweet starts with \"This is a\", then the name is \"a\""
   ],
   "metadata": {
    "collapsed": false,
    "pycharm": {
     "name": "#%% md\n"
    }
   }
  },
  {
   "cell_type": "markdown",
   "source": [
    "<b>2.3.3 - Programmatically assess Twitter Archive dataset</b>\n",
    "We will look at the following characteristics:\n",
    "> 1. Information of the dataframe to identify data types\n",
    "> 2. Missing data - count nulls\n",
    "> 3. Statistics (describe df) to identify mean, min and max. Outliers\n",
    "> 4. Look for potential duplicates\n",
    "> 5. Dog ratings\n",
    "> 6. Personality\n",
    "> 7. Date/time"
   ],
   "metadata": {
    "collapsed": false,
    "pycharm": {
     "name": "#%% md\n"
    }
   }
  },
  {
   "cell_type": "markdown",
   "source": [
    "1. Information of the dataframe to identify data types"
   ],
   "metadata": {
    "collapsed": false,
    "pycharm": {
     "name": "#%% md\n"
    }
   }
  },
  {
   "cell_type": "code",
   "execution_count": 30,
   "outputs": [
    {
     "name": "stdout",
     "output_type": "stream",
     "text": [
      "<class 'pandas.core.frame.DataFrame'>\n",
      "RangeIndex: 2356 entries, 0 to 2355\n",
      "Data columns (total 17 columns):\n",
      " #   Column                      Non-Null Count  Dtype  \n",
      "---  ------                      --------------  -----  \n",
      " 0   tweet_id                    2356 non-null   int64  \n",
      " 1   in_reply_to_status_id       78 non-null     float64\n",
      " 2   in_reply_to_user_id         78 non-null     float64\n",
      " 3   timestamp                   2356 non-null   object \n",
      " 4   source                      2356 non-null   object \n",
      " 5   text                        2356 non-null   object \n",
      " 6   retweeted_status_id         181 non-null    float64\n",
      " 7   retweeted_status_user_id    181 non-null    float64\n",
      " 8   retweeted_status_timestamp  181 non-null    object \n",
      " 9   expanded_urls               2297 non-null   object \n",
      " 10  rating_numerator            2356 non-null   int64  \n",
      " 11  rating_denominator          2356 non-null   int64  \n",
      " 12  name                        2356 non-null   object \n",
      " 13  doggo                       2356 non-null   object \n",
      " 14  floofer                     2356 non-null   object \n",
      " 15  pupper                      2356 non-null   object \n",
      " 16  puppo                       2356 non-null   object \n",
      "dtypes: float64(4), int64(3), object(10)\n",
      "memory usage: 313.0+ KB\n"
     ]
    }
   ],
   "source": [
    "df_arctweets.info()"
   ],
   "metadata": {
    "collapsed": false,
    "pycharm": {
     "name": "#%%\n"
    }
   }
  },
  {
   "cell_type": "markdown",
   "source": [
    "<b>Observations:</b>\n",
    "- Incorrect datatypes for timestamp & retweeted_timestamp columns\n",
    "- Incorrect datatypes for retweet_status_id & *_user_id"
   ],
   "metadata": {
    "collapsed": false,
    "pycharm": {
     "name": "#%% md\n"
    }
   }
  },
  {
   "cell_type": "markdown",
   "source": [
    "2. Missing data - count nulls"
   ],
   "metadata": {
    "collapsed": false,
    "pycharm": {
     "name": "#%% md\n"
    }
   }
  },
  {
   "cell_type": "code",
   "execution_count": 31,
   "outputs": [
    {
     "data": {
      "text/plain": "tweet_id                         0\nin_reply_to_status_id         2278\nin_reply_to_user_id           2278\ntimestamp                        0\nsource                           0\ntext                             0\nretweeted_status_id           2175\nretweeted_status_user_id      2175\nretweeted_status_timestamp    2175\nexpanded_urls                   59\nrating_numerator                 0\nrating_denominator               0\nname                             0\ndoggo                            0\nfloofer                          0\npupper                           0\npuppo                            0\ndtype: int64"
     },
     "execution_count": 31,
     "metadata": {},
     "output_type": "execute_result"
    }
   ],
   "source": [
    "df_arctweets.isna().sum()"
   ],
   "metadata": {
    "collapsed": false,
    "pycharm": {
     "name": "#%%\n"
    }
   }
  },
  {
   "cell_type": "markdown",
   "source": [
    "<b>Observations:</b>\n",
    "- The null values are not an issue, because they don't represent incomplete data\n",
    "- In this instance, it is an indicator that there was no retweet or reply"
   ],
   "metadata": {
    "collapsed": false,
    "pycharm": {
     "name": "#%% md\n"
    }
   }
  },
  {
   "cell_type": "markdown",
   "source": [
    "3. Statistics (describe df) to identify mean, min and max. Outliers"
   ],
   "metadata": {
    "collapsed": false,
    "pycharm": {
     "name": "#%% md\n"
    }
   }
  },
  {
   "cell_type": "code",
   "execution_count": 32,
   "outputs": [
    {
     "data": {
      "text/plain": "                   tweet_id  in_reply_to_status_id   in_reply_to_user_id  \\\ncount               2356.00                  78.00                 78.00   \nmean  742771590321719808.00  745507917855750656.00  20141706360873208.00   \nstd    68567047444761032.00   75824920044192880.00 125279666255236320.00   \nmin   666020888022790144.00  665814696700723200.00           11856342.00   \n25%   678398938214475776.00  675741911993464832.00          308637448.75   \n50%   719627934716235776.00  703870840226598912.00         4196983835.00   \n75%   799337304954252288.00  825780371286566912.00         4196983835.00   \nmax   892420643555336192.00  886266357075128320.00 840547864354918400.00   \n\n        retweeted_status_id  retweeted_status_user_id  rating_numerator  \\\ncount                181.00                    181.00           2356.00   \nmean  772039961038007040.00      12416983653017580.00             13.13   \nstd    62369278105055600.00      95992535331517536.00             45.88   \nmin   666104133288665088.00                 783214.00              0.00   \n25%   718631497683582976.00             4196983835.00             10.00   \n50%   780465709297995776.00             4196983835.00             11.00   \n75%   820314633777061888.00             4196983835.00             12.00   \nmax   887473957103951872.00     787461778435289088.00           1776.00   \n\n       rating_denominator  \ncount             2356.00  \nmean                10.46  \nstd                  6.75  \nmin                  0.00  \n25%                 10.00  \n50%                 10.00  \n75%                 10.00  \nmax                170.00  ",
      "text/html": "<div>\n<style scoped>\n    .dataframe tbody tr th:only-of-type {\n        vertical-align: middle;\n    }\n\n    .dataframe tbody tr th {\n        vertical-align: top;\n    }\n\n    .dataframe thead th {\n        text-align: right;\n    }\n</style>\n<table border=\"1\" class=\"dataframe\">\n  <thead>\n    <tr style=\"text-align: right;\">\n      <th></th>\n      <th>tweet_id</th>\n      <th>in_reply_to_status_id</th>\n      <th>in_reply_to_user_id</th>\n      <th>retweeted_status_id</th>\n      <th>retweeted_status_user_id</th>\n      <th>rating_numerator</th>\n      <th>rating_denominator</th>\n    </tr>\n  </thead>\n  <tbody>\n    <tr>\n      <th>count</th>\n      <td>2356.00</td>\n      <td>78.00</td>\n      <td>78.00</td>\n      <td>181.00</td>\n      <td>181.00</td>\n      <td>2356.00</td>\n      <td>2356.00</td>\n    </tr>\n    <tr>\n      <th>mean</th>\n      <td>742771590321719808.00</td>\n      <td>745507917855750656.00</td>\n      <td>20141706360873208.00</td>\n      <td>772039961038007040.00</td>\n      <td>12416983653017580.00</td>\n      <td>13.13</td>\n      <td>10.46</td>\n    </tr>\n    <tr>\n      <th>std</th>\n      <td>68567047444761032.00</td>\n      <td>75824920044192880.00</td>\n      <td>125279666255236320.00</td>\n      <td>62369278105055600.00</td>\n      <td>95992535331517536.00</td>\n      <td>45.88</td>\n      <td>6.75</td>\n    </tr>\n    <tr>\n      <th>min</th>\n      <td>666020888022790144.00</td>\n      <td>665814696700723200.00</td>\n      <td>11856342.00</td>\n      <td>666104133288665088.00</td>\n      <td>783214.00</td>\n      <td>0.00</td>\n      <td>0.00</td>\n    </tr>\n    <tr>\n      <th>25%</th>\n      <td>678398938214475776.00</td>\n      <td>675741911993464832.00</td>\n      <td>308637448.75</td>\n      <td>718631497683582976.00</td>\n      <td>4196983835.00</td>\n      <td>10.00</td>\n      <td>10.00</td>\n    </tr>\n    <tr>\n      <th>50%</th>\n      <td>719627934716235776.00</td>\n      <td>703870840226598912.00</td>\n      <td>4196983835.00</td>\n      <td>780465709297995776.00</td>\n      <td>4196983835.00</td>\n      <td>11.00</td>\n      <td>10.00</td>\n    </tr>\n    <tr>\n      <th>75%</th>\n      <td>799337304954252288.00</td>\n      <td>825780371286566912.00</td>\n      <td>4196983835.00</td>\n      <td>820314633777061888.00</td>\n      <td>4196983835.00</td>\n      <td>12.00</td>\n      <td>10.00</td>\n    </tr>\n    <tr>\n      <th>max</th>\n      <td>892420643555336192.00</td>\n      <td>886266357075128320.00</td>\n      <td>840547864354918400.00</td>\n      <td>887473957103951872.00</td>\n      <td>787461778435289088.00</td>\n      <td>1776.00</td>\n      <td>170.00</td>\n    </tr>\n  </tbody>\n</table>\n</div>"
     },
     "execution_count": 32,
     "metadata": {},
     "output_type": "execute_result"
    }
   ],
   "source": [
    "df_arctweets.describe()"
   ],
   "metadata": {
    "collapsed": false,
    "pycharm": {
     "name": "#%%\n"
    }
   }
  },
  {
   "cell_type": "markdown",
   "source": [
    "<b>Observations:</b>\n",
    "- Outliers in rating numerator:\n",
    "-- The minimum numerator is 0, which means that there was no rating for some dogs\n",
    "-- The maximum is 1776, which is very high and unusual\n",
    "- Outliers in rating denominator:\n",
    "-- The denominator should be fixed at 10, therefore the mean should be 10 and std deviation should be 0. The mean is 10.46\n",
    "-- The minimum is 0 and the maximum is 170, which is out of range, where 10 was expected for both"
   ],
   "metadata": {
    "collapsed": false,
    "pycharm": {
     "name": "#%% md\n"
    }
   }
  },
  {
   "cell_type": "markdown",
   "source": [
    "4. Look for potential duplicates"
   ],
   "metadata": {
    "collapsed": false,
    "pycharm": {
     "name": "#%% md\n"
    }
   }
  },
  {
   "cell_type": "code",
   "execution_count": 33,
   "outputs": [
    {
     "data": {
      "text/plain": "0"
     },
     "execution_count": 33,
     "metadata": {},
     "output_type": "execute_result"
    }
   ],
   "source": [
    "df_arctweets.duplicated().sum()"
   ],
   "metadata": {
    "collapsed": false,
    "pycharm": {
     "name": "#%%\n"
    }
   }
  },
  {
   "cell_type": "markdown",
   "source": [
    "<b>Observations:</b>\n",
    "- No duplicates"
   ],
   "metadata": {
    "collapsed": false,
    "pycharm": {
     "name": "#%% md\n"
    }
   }
  },
  {
   "cell_type": "markdown",
   "source": [
    "5. Dog ratings (Numerator & Denominator)"
   ],
   "metadata": {
    "collapsed": false,
    "pycharm": {
     "name": "#%% md\n"
    }
   }
  },
  {
   "cell_type": "code",
   "execution_count": 34,
   "outputs": [
    {
     "name": "stdout",
     "output_type": "stream",
     "text": [
      "Number of tweets without a rating (no Numerator & Denominator) : 0\n",
      "Number of tweets without Numerator : 2\n",
      "Number of tweets without Denominator : 1\n",
      "Invalid ratings (denominator not equal to 10) : 23\n"
     ]
    }
   ],
   "source": [
    "print('Number of tweets without a rating (no Numerator & Denominator) :',\n",
    "      df_arctweets[(df_arctweets['rating_numerator'] == 0.00) & (df_arctweets['rating_denominator'] == 0.00) ].tweet_id.count())\n",
    "\n",
    "print('Number of tweets without Numerator :',\n",
    "      df_arctweets[(df_arctweets['rating_numerator'] == 0.00)].tweet_id.count())\n",
    "\n",
    "print('Number of tweets without Denominator :',\n",
    "      df_arctweets[(df_arctweets['rating_denominator'] == 0.00)  ].tweet_id.count())\n",
    "\n",
    "print('Invalid ratings (denominator not equal to 10) :',\n",
    "      df_arctweets[(df_arctweets['rating_denominator'] != 10)  ].tweet_id.count())"
   ],
   "metadata": {
    "collapsed": false,
    "pycharm": {
     "name": "#%%\n"
    }
   }
  },
  {
   "cell_type": "markdown",
   "source": [
    "\n",
    "<b>Observations:</b>\n",
    "- There are issues with the ratings, both on the numerator and denominator"
   ],
   "metadata": {
    "collapsed": false,
    "pycharm": {
     "name": "#%% md\n"
    }
   }
  },
  {
   "cell_type": "markdown",
   "source": [
    "6. Personality (doggo, floofer, pupper, puppo)"
   ],
   "metadata": {
    "collapsed": false,
    "pycharm": {
     "name": "#%% md\n"
    }
   }
  },
  {
   "cell_type": "code",
   "execution_count": 35,
   "outputs": [
    {
     "name": "stdout",
     "output_type": "stream",
     "text": [
      "Number of tweets without a rating (no Numerator & Denominator) : 1976\n",
      "As a percentage of the population:  83.87%\n"
     ]
    }
   ],
   "source": [
    "no_personality =df_arctweets[(df_arctweets['doggo'] == 'None') &\n",
    "                             (df_arctweets['floofer'] == 'None') &\n",
    "                             (df_arctweets['pupper'] == 'None') &\n",
    "                             (df_arctweets['puppo'] == 'None')].tweet_id.count()\n",
    "\n",
    "print('Number of tweets without a rating (no Numerator & Denominator) :', no_personality)\n",
    "print('As a percentage of the population: ', f\"{no_personality/df_arctweets['tweet_id'].count():.2%}\")"
   ],
   "metadata": {
    "collapsed": false,
    "pycharm": {
     "name": "#%%\n"
    }
   }
  },
  {
   "cell_type": "markdown",
   "source": [
    "<b>Observations:</b>\n",
    "- There is a significant number of tweets with dogs that have no personality type indicated\n",
    "- This could have an impact on the ratings of such dogs\n",
    "- 16% of dogs have a personality type"
   ],
   "metadata": {
    "collapsed": false,
    "pycharm": {
     "name": "#%% md\n"
    }
   }
  },
  {
   "cell_type": "markdown",
   "source": [
    "7. Date/time"
   ],
   "metadata": {
    "collapsed": false,
    "pycharm": {
     "name": "#%% md\n"
    }
   }
  },
  {
   "cell_type": "code",
   "execution_count": 36,
   "outputs": [
    {
     "data": {
      "text/plain": "dtype('O')"
     },
     "execution_count": 36,
     "metadata": {},
     "output_type": "execute_result"
    }
   ],
   "source": [
    "df_arctweets['timestamp'].dtypes"
   ],
   "metadata": {
    "collapsed": false,
    "pycharm": {
     "name": "#%%\n"
    }
   }
  },
  {
   "cell_type": "markdown",
   "source": [
    "<b>Observations:</b>\n",
    "- Timestamp is stored as object instead of date/time"
   ],
   "metadata": {
    "collapsed": false,
    "pycharm": {
     "name": "#%% md\n"
    }
   }
  },
  {
   "cell_type": "markdown",
   "source": [
    "### Summary of Observations\n",
    "### Quality issues\n",
    "><b>API Tweets (df_tweets)</b>\n",
    "1. The data is incomplete because some tweets failed to download, at least 14 tweets were unsuccessful\n",
    "\n",
    "><b>Image Predictions (df_images)</b>\n",
    "2. A number of tweets had more than one image, but the dataset does not indicate which image was used for prediction\n",
    "\n",
    "3. There are 66 duplicate image urls, which could indicate that there are some retweets, since all tweet ids are unique\n",
    "\n",
    "4. 324 tweets do not contain any dog images or AI failed to identify the dog\n",
    "\n",
    "\n",
    "><b>Twitter Archive (df_achtweets)</b>\n",
    "5. Incorrect data types. Date/time stored as objects\n",
    "\n",
    "6. 84% of the tweets do not have a personality for the dog\n",
    "\n",
    "7. There are two tweets without a 0 numerator and one tweet with a 0 denominator\n",
    "\n",
    "8. There are 23 tweets with a denominator that is greater than 10, i.e invalid ratings\n",
    "\n",
    "9. There are retweets in the dataset\n",
    ">\n",
    ">\n",
    "### Tidiness\n",
    "><b>API Tweets (df_tweets)</b>\n",
    "1. Columns doggo,floofer, pupper & puppo represent a single variable and should have been in one column\n",
    "><b>Twitter Archive (df_achtweets)</b>\n",
    "2. Incorrect data types. Date/time stored as objects\n",
    "\n"
   ],
   "metadata": {
    "collapsed": false,
    "pycharm": {
     "name": "#%% md\n"
    }
   }
  },
  {
   "cell_type": "markdown",
   "source": [
    "## Step 3: Clean the datasets"
   ],
   "metadata": {
    "collapsed": false,
    "pycharm": {
     "name": "#%% md\n"
    }
   }
  },
  {
   "cell_type": "markdown",
   "source": [
    "#### 3.1 Tweepy API Tweets (df_tweets)\n"
   ],
   "metadata": {
    "collapsed": false,
    "pycharm": {
     "name": "#%% md\n"
    }
   }
  },
  {
   "cell_type": "markdown",
   "source": [
    "<b>Define:</b>\n",
    "- Remove retweets\n",
    "- Remove tweets with no images\n"
   ],
   "metadata": {
    "collapsed": false,
    "pycharm": {
     "name": "#%% md\n"
    }
   }
  },
  {
   "cell_type": "markdown",
   "source": [
    "<b>Code:</b>"
   ],
   "metadata": {
    "collapsed": false,
    "pycharm": {
     "name": "#%% md\n"
    }
   }
  },
  {
   "cell_type": "code",
   "execution_count": 37,
   "outputs": [],
   "source": [
    "df_tweets_clean = df_tweets.copy()"
   ],
   "metadata": {
    "collapsed": false,
    "pycharm": {
     "name": "#%%\n"
    }
   }
  },
  {
   "cell_type": "code",
   "execution_count": 38,
   "outputs": [],
   "source": [
    "\n",
    "df_tweets_clean= df_tweets_clean[df_tweets['extended_entities'].notna()].reset_index()\n",
    "df_tweets_clean= df_tweets_clean[df_tweets_clean['retweeted'] == False]"
   ],
   "metadata": {
    "collapsed": false,
    "pycharm": {
     "name": "#%%\n"
    }
   }
  },
  {
   "cell_type": "markdown",
   "source": [
    "<b>Test:</b>"
   ],
   "metadata": {
    "collapsed": false,
    "pycharm": {
     "name": "#%% md\n"
    }
   }
  },
  {
   "cell_type": "code",
   "execution_count": 39,
   "outputs": [
    {
     "data": {
      "text/plain": "retweeted\nFalse    2073\nName: id, dtype: int64"
     },
     "execution_count": 39,
     "metadata": {},
     "output_type": "execute_result"
    }
   ],
   "source": [
    "df_tweets_clean.groupby(['retweeted'])['id'].count()"
   ],
   "metadata": {
    "collapsed": false,
    "pycharm": {
     "name": "#%%\n"
    }
   }
  },
  {
   "cell_type": "code",
   "execution_count": 40,
   "outputs": [
    {
     "name": "stdout",
     "output_type": "stream",
     "text": [
      "Number of tweets without images:  0\n"
     ]
    }
   ],
   "source": [
    "print('Number of tweets without images: ',df_tweets_clean['extended_entities'].isna().sum())"
   ],
   "metadata": {
    "collapsed": false,
    "pycharm": {
     "name": "#%%\n"
    }
   }
  },
  {
   "cell_type": "markdown",
   "source": [
    "<b>Define:</b>\n",
    "- Remove unnecessary columns and keep the columns that are interesting:\n",
    "-- created_at, id, full_text, retweet count, favourite count\n",
    "- Add day from date time column\n"
   ],
   "metadata": {
    "collapsed": false,
    "pycharm": {
     "name": "#%% md\n"
    }
   }
  },
  {
   "cell_type": "markdown",
   "source": [
    "<b>Code:</b>"
   ],
   "metadata": {
    "collapsed": false,
    "pycharm": {
     "name": "#%% md\n"
    }
   }
  },
  {
   "cell_type": "code",
   "execution_count": 41,
   "outputs": [],
   "source": [
    "#keep specific columns\n",
    "df_tweets_clean=df_tweets_clean[['id','retweet_count','favorite_count','full_text']]\n"
   ],
   "metadata": {
    "collapsed": false,
    "pycharm": {
     "name": "#%%\n"
    }
   }
  },
  {
   "cell_type": "markdown",
   "source": [
    "<b>Test:</b>"
   ],
   "metadata": {
    "collapsed": false,
    "pycharm": {
     "name": "#%% md\n"
    }
   }
  },
  {
   "cell_type": "code",
   "execution_count": 42,
   "outputs": [
    {
     "data": {
      "text/plain": "                   id  retweet_count  favorite_count  \\\n0  892420643555336193           8853           39467   \n1  892177421306343426           6514           33819   \n2  891815181378084864           4328           25461   \n\n                                           full_text  \n0  This is Phineas. He's a mystical boy. Only eve...  \n1  This is Tilly. She's just checking pup on you....  \n2  This is Archie. He is a rare Norwegian Pouncin...  ",
      "text/html": "<div>\n<style scoped>\n    .dataframe tbody tr th:only-of-type {\n        vertical-align: middle;\n    }\n\n    .dataframe tbody tr th {\n        vertical-align: top;\n    }\n\n    .dataframe thead th {\n        text-align: right;\n    }\n</style>\n<table border=\"1\" class=\"dataframe\">\n  <thead>\n    <tr style=\"text-align: right;\">\n      <th></th>\n      <th>id</th>\n      <th>retweet_count</th>\n      <th>favorite_count</th>\n      <th>full_text</th>\n    </tr>\n  </thead>\n  <tbody>\n    <tr>\n      <th>0</th>\n      <td>892420643555336193</td>\n      <td>8853</td>\n      <td>39467</td>\n      <td>This is Phineas. He's a mystical boy. Only eve...</td>\n    </tr>\n    <tr>\n      <th>1</th>\n      <td>892177421306343426</td>\n      <td>6514</td>\n      <td>33819</td>\n      <td>This is Tilly. She's just checking pup on you....</td>\n    </tr>\n    <tr>\n      <th>2</th>\n      <td>891815181378084864</td>\n      <td>4328</td>\n      <td>25461</td>\n      <td>This is Archie. He is a rare Norwegian Pouncin...</td>\n    </tr>\n  </tbody>\n</table>\n</div>"
     },
     "execution_count": 42,
     "metadata": {},
     "output_type": "execute_result"
    }
   ],
   "source": [
    "#Check fields\n",
    "df_tweets_clean.head(3)"
   ],
   "metadata": {
    "collapsed": false,
    "pycharm": {
     "name": "#%%\n"
    }
   }
  },
  {
   "cell_type": "markdown",
   "source": [
    "#### 3.2 Image Prediction (df_images)"
   ],
   "metadata": {
    "collapsed": false,
    "pycharm": {
     "name": "#%% md\n"
    }
   }
  },
  {
   "cell_type": "markdown",
   "source": [
    "<b>Define:</b>\n",
    "- Keep tweets with dog images only\n",
    "- Keep tweet id and the breed identified:\n",
    "-- Test each field where dog is True, and create new column where dog is identified in the p1,2 or 3\n",
    "-- If no dog is identified, drop row\n",
    "- Clean up dog names"
   ],
   "metadata": {
    "collapsed": false,
    "pycharm": {
     "name": "#%% md\n"
    }
   }
  },
  {
   "cell_type": "markdown",
   "source": [
    "<b>Code:</b>"
   ],
   "metadata": {
    "collapsed": false,
    "pycharm": {
     "name": "#%% md\n"
    }
   }
  },
  {
   "cell_type": "code",
   "execution_count": 43,
   "outputs": [],
   "source": [
    "#Create a copy of dataframe\n",
    "df_images_clean = df_images.copy()\n"
   ],
   "metadata": {
    "collapsed": false,
    "pycharm": {
     "name": "#%%\n"
    }
   }
  },
  {
   "cell_type": "code",
   "execution_count": 44,
   "outputs": [],
   "source": [
    "# Create a function that loops each row to check if the prediction is a dog\n",
    "def best_dog(row):\n",
    "    if row['p1_dog']:\n",
    "        return row['p1']\n",
    "    elif row['p2_dog']:\n",
    "        return row['p2']\n",
    "    elif row['p3_dog']:\n",
    "        return row ['p3']\n",
    "    else:\n",
    "        return 'None'\n",
    "\n",
    "# Create breed column for the breed identified, returning 'None' if nothing is found\n",
    "df_images_clean['breed']= df_images_clean.apply(best_dog, axis=1)"
   ],
   "metadata": {
    "collapsed": false,
    "pycharm": {
     "name": "#%%\n"
    }
   }
  },
  {
   "cell_type": "code",
   "execution_count": 45,
   "outputs": [],
   "source": [
    "#Drop rows where no dogs were identified in all 3 predictions\n",
    "df_images_clean = df_images_clean[df_images_clean['breed']!= 'None']"
   ],
   "metadata": {
    "collapsed": false,
    "pycharm": {
     "name": "#%%\n"
    }
   }
  },
  {
   "cell_type": "code",
   "execution_count": 46,
   "outputs": [],
   "source": [
    "#Columns to keep\n",
    "df_images_clean = df_images_clean[['tweet_id','breed', 'jpg_url']]"
   ],
   "metadata": {
    "collapsed": false,
    "pycharm": {
     "name": "#%%\n"
    }
   }
  },
  {
   "cell_type": "code",
   "execution_count": 47,
   "outputs": [],
   "source": [
    "#Correct breed names format by removing '_' and using title sentence case\n",
    "df_images_clean['breed'] = df_images_clean['breed'].str.replace('_', ' ').str.title()"
   ],
   "metadata": {
    "collapsed": false,
    "pycharm": {
     "name": "#%%\n"
    }
   }
  },
  {
   "cell_type": "markdown",
   "source": [
    "<b>Test:</b>"
   ],
   "metadata": {
    "collapsed": false,
    "pycharm": {
     "name": "#%% md\n"
    }
   }
  },
  {
   "cell_type": "code",
   "execution_count": 48,
   "outputs": [
    {
     "name": "stdout",
     "output_type": "stream",
     "text": [
      "Number of tweets with no dogs predicted:  0\n"
     ]
    }
   ],
   "source": [
    "#test if all none dog images were dropped\n",
    "print('Number of tweets with no dogs predicted: ',\n",
    "      df_images_clean.query('breed == \"None\" ')['tweet_id'].count())"
   ],
   "metadata": {
    "collapsed": false,
    "pycharm": {
     "name": "#%%\n"
    }
   }
  },
  {
   "cell_type": "code",
   "execution_count": 49,
   "outputs": [
    {
     "name": "stdout",
     "output_type": "stream",
     "text": [
      "<class 'pandas.core.frame.DataFrame'>\n",
      "Int64Index: 1751 entries, 0 to 2073\n",
      "Data columns (total 3 columns):\n",
      " #   Column    Non-Null Count  Dtype \n",
      "---  ------    --------------  ----- \n",
      " 0   tweet_id  1751 non-null   int64 \n",
      " 1   breed     1751 non-null   object\n",
      " 2   jpg_url   1751 non-null   object\n",
      "dtypes: int64(1), object(2)\n",
      "memory usage: 54.7+ KB\n"
     ]
    }
   ],
   "source": [
    "#Check columns and counts\n",
    "df_images_clean.info()"
   ],
   "metadata": {
    "collapsed": false,
    "pycharm": {
     "name": "#%%\n"
    }
   }
  },
  {
   "cell_type": "code",
   "execution_count": 50,
   "outputs": [
    {
     "data": {
      "text/plain": "             tweet_id                   breed  \\\n0  666020888022790149  Welsh Springer Spaniel   \n1  666029285002620928                 Redbone   \n2  666033412701032449         German Shepherd   \n3  666044226329800704     Rhodesian Ridgeback   \n4  666049248165822465      Miniature Pinscher   \n\n                                           jpg_url  \n0  https://pbs.twimg.com/media/CT4udn0WwAA0aMy.jpg  \n1  https://pbs.twimg.com/media/CT42GRgUYAA5iDo.jpg  \n2  https://pbs.twimg.com/media/CT4521TWwAEvMyu.jpg  \n3  https://pbs.twimg.com/media/CT5Dr8HUEAA-lEu.jpg  \n4  https://pbs.twimg.com/media/CT5IQmsXIAAKY4A.jpg  ",
      "text/html": "<div>\n<style scoped>\n    .dataframe tbody tr th:only-of-type {\n        vertical-align: middle;\n    }\n\n    .dataframe tbody tr th {\n        vertical-align: top;\n    }\n\n    .dataframe thead th {\n        text-align: right;\n    }\n</style>\n<table border=\"1\" class=\"dataframe\">\n  <thead>\n    <tr style=\"text-align: right;\">\n      <th></th>\n      <th>tweet_id</th>\n      <th>breed</th>\n      <th>jpg_url</th>\n    </tr>\n  </thead>\n  <tbody>\n    <tr>\n      <th>0</th>\n      <td>666020888022790149</td>\n      <td>Welsh Springer Spaniel</td>\n      <td>https://pbs.twimg.com/media/CT4udn0WwAA0aMy.jpg</td>\n    </tr>\n    <tr>\n      <th>1</th>\n      <td>666029285002620928</td>\n      <td>Redbone</td>\n      <td>https://pbs.twimg.com/media/CT42GRgUYAA5iDo.jpg</td>\n    </tr>\n    <tr>\n      <th>2</th>\n      <td>666033412701032449</td>\n      <td>German Shepherd</td>\n      <td>https://pbs.twimg.com/media/CT4521TWwAEvMyu.jpg</td>\n    </tr>\n    <tr>\n      <th>3</th>\n      <td>666044226329800704</td>\n      <td>Rhodesian Ridgeback</td>\n      <td>https://pbs.twimg.com/media/CT5Dr8HUEAA-lEu.jpg</td>\n    </tr>\n    <tr>\n      <th>4</th>\n      <td>666049248165822465</td>\n      <td>Miniature Pinscher</td>\n      <td>https://pbs.twimg.com/media/CT5IQmsXIAAKY4A.jpg</td>\n    </tr>\n  </tbody>\n</table>\n</div>"
     },
     "execution_count": 50,
     "metadata": {},
     "output_type": "execute_result"
    }
   ],
   "source": [
    "#Check breed names formatting\n",
    "df_images_clean.head(5)"
   ],
   "metadata": {
    "collapsed": false,
    "pycharm": {
     "name": "#%%\n"
    }
   }
  },
  {
   "cell_type": "markdown",
   "source": [
    "#### 3.3 Twitter Archive (df_arctweets)"
   ],
   "metadata": {
    "collapsed": false,
    "pycharm": {
     "name": "#%% md\n"
    }
   }
  },
  {
   "cell_type": "markdown",
   "source": [
    "<b>Define:</b>\n",
    "- Correct datestamp data type\n",
    "- Remove retweets\n",
    "- Drop incorrect ratings, i.e denominator not equal to 10\n",
    "- Create rating column (numerator/denominator) as float\n",
    "- Keep desired fields"
   ],
   "metadata": {
    "collapsed": false,
    "pycharm": {
     "name": "#%% md\n"
    }
   }
  },
  {
   "cell_type": "code",
   "execution_count": 51,
   "outputs": [],
   "source": [
    "#Create copy of data\n",
    "df_arctweets_clean = df_arctweets.copy()"
   ],
   "metadata": {
    "collapsed": false,
    "pycharm": {
     "name": "#%%\n"
    }
   }
  },
  {
   "cell_type": "markdown",
   "source": [],
   "metadata": {
    "collapsed": false,
    "pycharm": {
     "name": "#%% md\n"
    }
   }
  },
  {
   "cell_type": "markdown",
   "source": [
    "<b>Code:</b>"
   ],
   "metadata": {
    "collapsed": false,
    "pycharm": {
     "name": "#%% md\n"
    }
   }
  },
  {
   "cell_type": "code",
   "execution_count": 52,
   "outputs": [],
   "source": [
    "#Change timestamp from object to date/time type\n",
    "df_arctweets_clean['timestamp'] = pd.to_datetime(df_arctweets_clean['timestamp'], format='%Y-%m-%d')\n",
    "\n",
    "# Add day of week\n",
    "df_arctweets_clean['day']=df_arctweets_clean['timestamp'].dt.day_name()"
   ],
   "metadata": {
    "collapsed": false,
    "pycharm": {
     "name": "#%%\n"
    }
   }
  },
  {
   "cell_type": "code",
   "execution_count": 53,
   "outputs": [],
   "source": [
    "# Drop retweets\n",
    "df_arctweets_clean['retweeted_status_id'].fillna(value=0, inplace= True)\n",
    "df_arctweets_clean = df_arctweets_clean[df_arctweets_clean['retweeted_status_id'] == 0]"
   ],
   "metadata": {
    "collapsed": false,
    "pycharm": {
     "name": "#%%\n"
    }
   }
  },
  {
   "cell_type": "code",
   "execution_count": 54,
   "outputs": [],
   "source": [
    "df_arctweets_clean.reset_index(inplace= True)"
   ],
   "metadata": {
    "collapsed": false,
    "pycharm": {
     "name": "#%%\n"
    }
   }
  },
  {
   "cell_type": "code",
   "execution_count": 55,
   "outputs": [],
   "source": [
    "#Drop items with incorrect denominator, i.e not equal to 10 and outliers\n",
    "df_arctweets_clean=df_arctweets_clean[df_arctweets_clean['rating_denominator'] == 10]\n",
    "df_arctweets_clean=df_arctweets_clean[df_arctweets_clean['rating_numerator'] < 50]"
   ],
   "metadata": {
    "collapsed": false,
    "pycharm": {
     "name": "#%%\n"
    }
   }
  },
  {
   "cell_type": "code",
   "execution_count": 56,
   "outputs": [],
   "source": [
    "#Create rating field\n",
    "df_arctweets_clean['rating']=df_arctweets_clean['rating_numerator']/df_arctweets_clean['rating_denominator']"
   ],
   "metadata": {
    "collapsed": false,
    "pycharm": {
     "name": "#%%\n"
    }
   }
  },
  {
   "cell_type": "code",
   "execution_count": 57,
   "outputs": [],
   "source": [
    "# Create a function that loops each row to check if an personality is available\n",
    "def personality(row):\n",
    "    if row['doggo'] != 'None':\n",
    "        return row['doggo']\n",
    "    elif row['floofer'] != 'None':\n",
    "        return row['floofer']\n",
    "    elif row['pupper'] !='None':\n",
    "        return row ['pupper']\n",
    "    elif row['puppo'] != 'None':\n",
    "        return row ['puppo']\n",
    "    else:\n",
    "        return 'None'\n",
    "\n",
    "# Create personality column for the breed identified, returning 'None' if nothing is found\n",
    "df_arctweets_clean['personality']= df_arctweets_clean.apply(personality, axis=1)"
   ],
   "metadata": {
    "collapsed": false,
    "pycharm": {
     "name": "#%%\n"
    }
   }
  },
  {
   "cell_type": "code",
   "execution_count": 58,
   "outputs": [],
   "source": [
    "df_arctweets_clean= df_arctweets_clean[['tweet_id','timestamp','name','rating', 'day', 'personality']]"
   ],
   "metadata": {
    "collapsed": false,
    "pycharm": {
     "name": "#%%\n"
    }
   }
  },
  {
   "cell_type": "code",
   "execution_count": 59,
   "outputs": [
    {
     "data": {
      "text/plain": "                tweet_id                 timestamp      name  rating  \\\n0     892420643555336193 2017-08-01 16:23:56+00:00   Phineas    1.30   \n1     892177421306343426 2017-08-01 00:17:27+00:00     Tilly    1.30   \n2     891815181378084864 2017-07-31 00:18:03+00:00    Archie    1.20   \n3     891689557279858688 2017-07-30 15:58:51+00:00     Darla    1.30   \n4     891327558926688256 2017-07-29 16:00:24+00:00  Franklin    1.20   \n...                  ...                       ...       ...     ...   \n2170  666049248165822465 2015-11-16 00:24:50+00:00      None    0.50   \n2171  666044226329800704 2015-11-16 00:04:52+00:00         a    0.60   \n2172  666033412701032449 2015-11-15 23:21:54+00:00         a    0.90   \n2173  666029285002620928 2015-11-15 23:05:30+00:00         a    0.70   \n2174  666020888022790149 2015-11-15 22:32:08+00:00      None    0.80   \n\n           day personality  \n0      Tuesday        None  \n1      Tuesday        None  \n2       Monday        None  \n3       Sunday        None  \n4     Saturday        None  \n...        ...         ...  \n2170    Monday        None  \n2171    Monday        None  \n2172    Sunday        None  \n2173    Sunday        None  \n2174    Sunday        None  \n\n[2147 rows x 6 columns]",
      "text/html": "<div>\n<style scoped>\n    .dataframe tbody tr th:only-of-type {\n        vertical-align: middle;\n    }\n\n    .dataframe tbody tr th {\n        vertical-align: top;\n    }\n\n    .dataframe thead th {\n        text-align: right;\n    }\n</style>\n<table border=\"1\" class=\"dataframe\">\n  <thead>\n    <tr style=\"text-align: right;\">\n      <th></th>\n      <th>tweet_id</th>\n      <th>timestamp</th>\n      <th>name</th>\n      <th>rating</th>\n      <th>day</th>\n      <th>personality</th>\n    </tr>\n  </thead>\n  <tbody>\n    <tr>\n      <th>0</th>\n      <td>892420643555336193</td>\n      <td>2017-08-01 16:23:56+00:00</td>\n      <td>Phineas</td>\n      <td>1.30</td>\n      <td>Tuesday</td>\n      <td>None</td>\n    </tr>\n    <tr>\n      <th>1</th>\n      <td>892177421306343426</td>\n      <td>2017-08-01 00:17:27+00:00</td>\n      <td>Tilly</td>\n      <td>1.30</td>\n      <td>Tuesday</td>\n      <td>None</td>\n    </tr>\n    <tr>\n      <th>2</th>\n      <td>891815181378084864</td>\n      <td>2017-07-31 00:18:03+00:00</td>\n      <td>Archie</td>\n      <td>1.20</td>\n      <td>Monday</td>\n      <td>None</td>\n    </tr>\n    <tr>\n      <th>3</th>\n      <td>891689557279858688</td>\n      <td>2017-07-30 15:58:51+00:00</td>\n      <td>Darla</td>\n      <td>1.30</td>\n      <td>Sunday</td>\n      <td>None</td>\n    </tr>\n    <tr>\n      <th>4</th>\n      <td>891327558926688256</td>\n      <td>2017-07-29 16:00:24+00:00</td>\n      <td>Franklin</td>\n      <td>1.20</td>\n      <td>Saturday</td>\n      <td>None</td>\n    </tr>\n    <tr>\n      <th>...</th>\n      <td>...</td>\n      <td>...</td>\n      <td>...</td>\n      <td>...</td>\n      <td>...</td>\n      <td>...</td>\n    </tr>\n    <tr>\n      <th>2170</th>\n      <td>666049248165822465</td>\n      <td>2015-11-16 00:24:50+00:00</td>\n      <td>None</td>\n      <td>0.50</td>\n      <td>Monday</td>\n      <td>None</td>\n    </tr>\n    <tr>\n      <th>2171</th>\n      <td>666044226329800704</td>\n      <td>2015-11-16 00:04:52+00:00</td>\n      <td>a</td>\n      <td>0.60</td>\n      <td>Monday</td>\n      <td>None</td>\n    </tr>\n    <tr>\n      <th>2172</th>\n      <td>666033412701032449</td>\n      <td>2015-11-15 23:21:54+00:00</td>\n      <td>a</td>\n      <td>0.90</td>\n      <td>Sunday</td>\n      <td>None</td>\n    </tr>\n    <tr>\n      <th>2173</th>\n      <td>666029285002620928</td>\n      <td>2015-11-15 23:05:30+00:00</td>\n      <td>a</td>\n      <td>0.70</td>\n      <td>Sunday</td>\n      <td>None</td>\n    </tr>\n    <tr>\n      <th>2174</th>\n      <td>666020888022790149</td>\n      <td>2015-11-15 22:32:08+00:00</td>\n      <td>None</td>\n      <td>0.80</td>\n      <td>Sunday</td>\n      <td>None</td>\n    </tr>\n  </tbody>\n</table>\n<p>2147 rows × 6 columns</p>\n</div>"
     },
     "execution_count": 59,
     "metadata": {},
     "output_type": "execute_result"
    }
   ],
   "source": [
    "df_arctweets_clean"
   ],
   "metadata": {
    "collapsed": false,
    "pycharm": {
     "name": "#%%\n"
    }
   }
  },
  {
   "cell_type": "markdown",
   "source": [
    "<b>Test:</b>"
   ],
   "metadata": {
    "collapsed": false,
    "pycharm": {
     "name": "#%% md\n"
    }
   }
  },
  {
   "cell_type": "code",
   "execution_count": 60,
   "outputs": [
    {
     "name": "stdout",
     "output_type": "stream",
     "text": [
      "<class 'pandas.core.frame.DataFrame'>\n",
      "Int64Index: 2147 entries, 0 to 2174\n",
      "Data columns (total 6 columns):\n",
      " #   Column       Non-Null Count  Dtype              \n",
      "---  ------       --------------  -----              \n",
      " 0   tweet_id     2147 non-null   int64              \n",
      " 1   timestamp    2147 non-null   datetime64[ns, UTC]\n",
      " 2   name         2147 non-null   object             \n",
      " 3   rating       2147 non-null   float64            \n",
      " 4   day          2147 non-null   object             \n",
      " 5   personality  2147 non-null   object             \n",
      "dtypes: datetime64[ns, UTC](1), float64(1), int64(1), object(3)\n",
      "memory usage: 117.4+ KB\n"
     ]
    }
   ],
   "source": [
    "#Check data types and desired fileds\n",
    "df_arctweets_clean.info()"
   ],
   "metadata": {
    "collapsed": false,
    "pycharm": {
     "name": "#%%\n"
    }
   }
  },
  {
   "cell_type": "code",
   "execution_count": 61,
   "outputs": [
    {
     "name": "stdout",
     "output_type": "stream",
     "text": [
      "Before:  (2356, 17)\n",
      "After:  (2147, 6)\n"
     ]
    }
   ],
   "source": [
    "#Check if retweets and invalid denominators were dropped\n",
    "print('Before: ',df_arctweets.shape)\n",
    "print('After: ',df_arctweets_clean.shape)\n"
   ],
   "metadata": {
    "collapsed": false,
    "pycharm": {
     "name": "#%%\n"
    }
   }
  },
  {
   "cell_type": "code",
   "execution_count": 62,
   "outputs": [
    {
     "data": {
      "text/plain": "count   2147.00\nmean       1.06\nstd        0.23\nmin        0.00\n25%        1.00\n50%        1.10\n75%        1.20\nmax        2.70\nName: rating, dtype: float64"
     },
     "execution_count": 62,
     "metadata": {},
     "output_type": "execute_result"
    }
   ],
   "source": [
    "#Check stats on rating field\n",
    "df_arctweets_clean['rating'].describe()"
   ],
   "metadata": {
    "collapsed": false,
    "pycharm": {
     "name": "#%%\n"
    }
   }
  },
  {
   "cell_type": "markdown",
   "source": [
    "#### 3.4 Merge clean data sets to create master"
   ],
   "metadata": {
    "collapsed": false,
    "pycharm": {
     "name": "#%% md\n"
    }
   }
  },
  {
   "cell_type": "markdown",
   "source": [
    "<b>Define:</b>\n",
    "- Merge all three datasets on tweetids"
   ],
   "metadata": {
    "collapsed": false,
    "pycharm": {
     "name": "#%% md\n"
    }
   }
  },
  {
   "cell_type": "markdown",
   "source": [
    "<b>Code:</b>"
   ],
   "metadata": {
    "collapsed": false,
    "pycharm": {
     "name": "#%% md\n"
    }
   }
  },
  {
   "cell_type": "code",
   "execution_count": 63,
   "outputs": [],
   "source": [
    "#Merge archive tweets with image predictions\n",
    "df_merge = df_arctweets_clean.merge(df_images_clean, on='tweet_id')"
   ],
   "metadata": {
    "collapsed": false,
    "pycharm": {
     "name": "#%%\n"
    }
   }
  },
  {
   "cell_type": "code",
   "execution_count": 64,
   "outputs": [],
   "source": [
    "#Merge JSON tweets into the merge above to create a master set\n",
    "df_master_tweets = df_merge.merge(df_tweets_clean,left_on='tweet_id',right_on='id')"
   ],
   "metadata": {
    "collapsed": false,
    "pycharm": {
     "name": "#%%\n"
    }
   }
  },
  {
   "cell_type": "code",
   "execution_count": 65,
   "outputs": [],
   "source": [
    "#Drop duplicate id column\n",
    "df_master_tweets = df_master_tweets.drop('id', axis=1)"
   ],
   "metadata": {
    "collapsed": false,
    "pycharm": {
     "name": "#%%\n"
    }
   }
  },
  {
   "cell_type": "markdown",
   "source": [
    "<b>Test:</b>"
   ],
   "metadata": {
    "collapsed": false,
    "pycharm": {
     "name": "#%% md\n"
    }
   }
  },
  {
   "cell_type": "code",
   "execution_count": 66,
   "outputs": [
    {
     "name": "stdout",
     "output_type": "stream",
     "text": [
      "<class 'pandas.core.frame.DataFrame'>\n",
      "Int64Index: 1668 entries, 0 to 1667\n",
      "Data columns (total 11 columns):\n",
      " #   Column          Non-Null Count  Dtype              \n",
      "---  ------          --------------  -----              \n",
      " 0   tweet_id        1668 non-null   int64              \n",
      " 1   timestamp       1668 non-null   datetime64[ns, UTC]\n",
      " 2   name            1668 non-null   object             \n",
      " 3   rating          1668 non-null   float64            \n",
      " 4   day             1668 non-null   object             \n",
      " 5   personality     1668 non-null   object             \n",
      " 6   breed           1668 non-null   object             \n",
      " 7   jpg_url         1668 non-null   object             \n",
      " 8   retweet_count   1668 non-null   int64              \n",
      " 9   favorite_count  1668 non-null   int64              \n",
      " 10  full_text       1668 non-null   object             \n",
      "dtypes: datetime64[ns, UTC](1), float64(1), int64(3), object(6)\n",
      "memory usage: 156.4+ KB\n"
     ]
    }
   ],
   "source": [
    "df_master_tweets.info()"
   ],
   "metadata": {
    "collapsed": false,
    "pycharm": {
     "name": "#%%\n"
    }
   }
  },
  {
   "cell_type": "code",
   "execution_count": 67,
   "outputs": [
    {
     "data": {
      "text/plain": "              tweet_id                 timestamp      name  rating        day  \\\n0   892177421306343426 2017-08-01 00:17:27+00:00     Tilly    1.30    Tuesday   \n1   891815181378084864 2017-07-31 00:18:03+00:00    Archie    1.20     Monday   \n2   891689557279858688 2017-07-30 15:58:51+00:00     Darla    1.30     Sunday   \n3   891327558926688256 2017-07-29 16:00:24+00:00  Franklin    1.20   Saturday   \n4   891087950875897856 2017-07-29 00:08:17+00:00      None    1.30   Saturday   \n5   890971913173991426 2017-07-28 16:27:12+00:00       Jax    1.30     Friday   \n6   890729181411237888 2017-07-28 00:22:40+00:00      None    1.30     Friday   \n7   890609185150312448 2017-07-27 16:25:51+00:00      Zoey    1.30   Thursday   \n8   890240255349198849 2017-07-26 15:59:51+00:00    Cassie    1.40  Wednesday   \n9   890006608113172480 2017-07-26 00:31:25+00:00      Koda    1.30  Wednesday   \n10  889880896479866881 2017-07-25 16:11:53+00:00     Bruno    1.30    Tuesday   \n11  889665388333682689 2017-07-25 01:55:32+00:00      None    1.30    Tuesday   \n12  889638837579907072 2017-07-25 00:10:02+00:00       Ted    1.20    Tuesday   \n13  889531135344209921 2017-07-24 17:02:04+00:00    Stuart    1.30     Monday   \n14  889278841981685760 2017-07-24 00:19:32+00:00    Oliver    1.30     Monday   \n15  888917238123831296 2017-07-23 00:22:39+00:00       Jim    1.20     Sunday   \n16  888804989199671297 2017-07-22 16:56:37+00:00      Zeke    1.30   Saturday   \n17  888554962724278272 2017-07-22 00:23:06+00:00   Ralphus    1.30   Saturday   \n18  888078434458587136 2017-07-20 16:49:33+00:00    Gerald    1.20   Thursday   \n19  887705289381826560 2017-07-19 16:06:48+00:00   Jeffrey    1.30  Wednesday   \n\n   personality                     breed  \\\n0         None                 Chihuahua   \n1         None                 Chihuahua   \n2         None        Labrador Retriever   \n3         None                    Basset   \n4         None  Chesapeake Bay Retriever   \n5         None               Appenzeller   \n6         None                Pomeranian   \n7         None             Irish Terrier   \n8        doggo                  Pembroke   \n9         None                   Samoyed   \n10        None            French Bulldog   \n11       puppo                  Pembroke   \n12        None            French Bulldog   \n13       puppo          Golden Retriever   \n14        None                   Whippet   \n15        None          Golden Retriever   \n16        None          Golden Retriever   \n17        None            Siberian Husky   \n18        None            French Bulldog   \n19        None                    Basset   \n\n                                              jpg_url  retweet_count  \\\n0     https://pbs.twimg.com/media/DGGmoV4XsAAUL6n.jpg           6514   \n1     https://pbs.twimg.com/media/DGBdLU1WsAANxJ9.jpg           4328   \n2     https://pbs.twimg.com/media/DF_q7IAWsAEuuN8.jpg           8964   \n3     https://pbs.twimg.com/media/DF6hr6BUMAAzZgT.jpg           9774   \n4     https://pbs.twimg.com/media/DF3HwyEWsAABqE6.jpg           3261   \n5     https://pbs.twimg.com/media/DF1eOmZXUAALUcq.jpg           2158   \n6     https://pbs.twimg.com/media/DFyBahAVwAAhUTd.jpg          16716   \n7     https://pbs.twimg.com/media/DFwUU__XcAEpyXI.jpg           4429   \n8     https://pbs.twimg.com/media/DFrEyVuW0AAO3t9.jpg           7711   \n9     https://pbs.twimg.com/media/DFnwSY4WAAAMliS.jpg           7624   \n10    https://pbs.twimg.com/media/DFl99B1WsAITKsg.jpg           5156   \n11    https://pbs.twimg.com/media/DFi579UWsAAatzw.jpg           8538   \n12    https://pbs.twimg.com/media/DFihzFfXsAYGDPR.jpg           4735   \n13    https://pbs.twimg.com/media/DFg_2PVW0AEHN3p.jpg           2321   \n14  https://pbs.twimg.com/ext_tw_video_thumb/88927...           5637   \n15    https://pbs.twimg.com/media/DFYRgsOUQAARGhO.jpg           4709   \n16    https://pbs.twimg.com/media/DFWra-3VYAA2piG.jpg           4559   \n17    https://pbs.twimg.com/media/DFTH_O-UQAACu20.jpg           3732   \n18    https://pbs.twimg.com/media/DFMWn56WsAAkA7B.jpg           3653   \n19    https://pbs.twimg.com/media/DFHDQBbXgAEqY7t.jpg           5609   \n\n    favorite_count                                          full_text  \n0            33819  This is Tilly. She's just checking pup on you....  \n1            25461  This is Archie. He is a rare Norwegian Pouncin...  \n2            42908  This is Darla. She commenced a snooze mid meal...  \n3            41048  This is Franklin. He would like you to stop ca...  \n4            20562  Here we have a majestic great white breaching ...  \n5            12041  Meet Jax. He enjoys ice cream so much he gets ...  \n6            56848  When you watch your owner call another dog a g...  \n7            28226  This is Zoey. She doesn't want to be one of th...  \n8            32467  This is Cassie. She is a college pup. Studying...  \n9            31166  This is Koda. He is a South Australian decksha...  \n10           28268  This is Bruno. He is a service shark. Only get...  \n11           38818  Here's a puppo that seems to be on the fence a...  \n12           27672  This is Ted. He does his best. Sometimes that'...  \n13           15359  This is Stuart. He's sporting his favorite fan...  \n14           25652  This is Oliver. You're witnessing one of his m...  \n15           29611  This is Jim. He found a fren. Taught him how t...  \n16           26080  This is Zeke. He has a new stick. Very proud o...  \n17           20290  This is Ralphus. He's powering up. Attempting ...  \n18           22201  This is Gerald. He was just told he didn't get...  \n19           30779  This is Jeffrey. He has a monopoly on the pool...  ",
      "text/html": "<div>\n<style scoped>\n    .dataframe tbody tr th:only-of-type {\n        vertical-align: middle;\n    }\n\n    .dataframe tbody tr th {\n        vertical-align: top;\n    }\n\n    .dataframe thead th {\n        text-align: right;\n    }\n</style>\n<table border=\"1\" class=\"dataframe\">\n  <thead>\n    <tr style=\"text-align: right;\">\n      <th></th>\n      <th>tweet_id</th>\n      <th>timestamp</th>\n      <th>name</th>\n      <th>rating</th>\n      <th>day</th>\n      <th>personality</th>\n      <th>breed</th>\n      <th>jpg_url</th>\n      <th>retweet_count</th>\n      <th>favorite_count</th>\n      <th>full_text</th>\n    </tr>\n  </thead>\n  <tbody>\n    <tr>\n      <th>0</th>\n      <td>892177421306343426</td>\n      <td>2017-08-01 00:17:27+00:00</td>\n      <td>Tilly</td>\n      <td>1.30</td>\n      <td>Tuesday</td>\n      <td>None</td>\n      <td>Chihuahua</td>\n      <td>https://pbs.twimg.com/media/DGGmoV4XsAAUL6n.jpg</td>\n      <td>6514</td>\n      <td>33819</td>\n      <td>This is Tilly. She's just checking pup on you....</td>\n    </tr>\n    <tr>\n      <th>1</th>\n      <td>891815181378084864</td>\n      <td>2017-07-31 00:18:03+00:00</td>\n      <td>Archie</td>\n      <td>1.20</td>\n      <td>Monday</td>\n      <td>None</td>\n      <td>Chihuahua</td>\n      <td>https://pbs.twimg.com/media/DGBdLU1WsAANxJ9.jpg</td>\n      <td>4328</td>\n      <td>25461</td>\n      <td>This is Archie. He is a rare Norwegian Pouncin...</td>\n    </tr>\n    <tr>\n      <th>2</th>\n      <td>891689557279858688</td>\n      <td>2017-07-30 15:58:51+00:00</td>\n      <td>Darla</td>\n      <td>1.30</td>\n      <td>Sunday</td>\n      <td>None</td>\n      <td>Labrador Retriever</td>\n      <td>https://pbs.twimg.com/media/DF_q7IAWsAEuuN8.jpg</td>\n      <td>8964</td>\n      <td>42908</td>\n      <td>This is Darla. She commenced a snooze mid meal...</td>\n    </tr>\n    <tr>\n      <th>3</th>\n      <td>891327558926688256</td>\n      <td>2017-07-29 16:00:24+00:00</td>\n      <td>Franklin</td>\n      <td>1.20</td>\n      <td>Saturday</td>\n      <td>None</td>\n      <td>Basset</td>\n      <td>https://pbs.twimg.com/media/DF6hr6BUMAAzZgT.jpg</td>\n      <td>9774</td>\n      <td>41048</td>\n      <td>This is Franklin. He would like you to stop ca...</td>\n    </tr>\n    <tr>\n      <th>4</th>\n      <td>891087950875897856</td>\n      <td>2017-07-29 00:08:17+00:00</td>\n      <td>None</td>\n      <td>1.30</td>\n      <td>Saturday</td>\n      <td>None</td>\n      <td>Chesapeake Bay Retriever</td>\n      <td>https://pbs.twimg.com/media/DF3HwyEWsAABqE6.jpg</td>\n      <td>3261</td>\n      <td>20562</td>\n      <td>Here we have a majestic great white breaching ...</td>\n    </tr>\n    <tr>\n      <th>5</th>\n      <td>890971913173991426</td>\n      <td>2017-07-28 16:27:12+00:00</td>\n      <td>Jax</td>\n      <td>1.30</td>\n      <td>Friday</td>\n      <td>None</td>\n      <td>Appenzeller</td>\n      <td>https://pbs.twimg.com/media/DF1eOmZXUAALUcq.jpg</td>\n      <td>2158</td>\n      <td>12041</td>\n      <td>Meet Jax. He enjoys ice cream so much he gets ...</td>\n    </tr>\n    <tr>\n      <th>6</th>\n      <td>890729181411237888</td>\n      <td>2017-07-28 00:22:40+00:00</td>\n      <td>None</td>\n      <td>1.30</td>\n      <td>Friday</td>\n      <td>None</td>\n      <td>Pomeranian</td>\n      <td>https://pbs.twimg.com/media/DFyBahAVwAAhUTd.jpg</td>\n      <td>16716</td>\n      <td>56848</td>\n      <td>When you watch your owner call another dog a g...</td>\n    </tr>\n    <tr>\n      <th>7</th>\n      <td>890609185150312448</td>\n      <td>2017-07-27 16:25:51+00:00</td>\n      <td>Zoey</td>\n      <td>1.30</td>\n      <td>Thursday</td>\n      <td>None</td>\n      <td>Irish Terrier</td>\n      <td>https://pbs.twimg.com/media/DFwUU__XcAEpyXI.jpg</td>\n      <td>4429</td>\n      <td>28226</td>\n      <td>This is Zoey. She doesn't want to be one of th...</td>\n    </tr>\n    <tr>\n      <th>8</th>\n      <td>890240255349198849</td>\n      <td>2017-07-26 15:59:51+00:00</td>\n      <td>Cassie</td>\n      <td>1.40</td>\n      <td>Wednesday</td>\n      <td>doggo</td>\n      <td>Pembroke</td>\n      <td>https://pbs.twimg.com/media/DFrEyVuW0AAO3t9.jpg</td>\n      <td>7711</td>\n      <td>32467</td>\n      <td>This is Cassie. She is a college pup. Studying...</td>\n    </tr>\n    <tr>\n      <th>9</th>\n      <td>890006608113172480</td>\n      <td>2017-07-26 00:31:25+00:00</td>\n      <td>Koda</td>\n      <td>1.30</td>\n      <td>Wednesday</td>\n      <td>None</td>\n      <td>Samoyed</td>\n      <td>https://pbs.twimg.com/media/DFnwSY4WAAAMliS.jpg</td>\n      <td>7624</td>\n      <td>31166</td>\n      <td>This is Koda. He is a South Australian decksha...</td>\n    </tr>\n    <tr>\n      <th>10</th>\n      <td>889880896479866881</td>\n      <td>2017-07-25 16:11:53+00:00</td>\n      <td>Bruno</td>\n      <td>1.30</td>\n      <td>Tuesday</td>\n      <td>None</td>\n      <td>French Bulldog</td>\n      <td>https://pbs.twimg.com/media/DFl99B1WsAITKsg.jpg</td>\n      <td>5156</td>\n      <td>28268</td>\n      <td>This is Bruno. He is a service shark. Only get...</td>\n    </tr>\n    <tr>\n      <th>11</th>\n      <td>889665388333682689</td>\n      <td>2017-07-25 01:55:32+00:00</td>\n      <td>None</td>\n      <td>1.30</td>\n      <td>Tuesday</td>\n      <td>puppo</td>\n      <td>Pembroke</td>\n      <td>https://pbs.twimg.com/media/DFi579UWsAAatzw.jpg</td>\n      <td>8538</td>\n      <td>38818</td>\n      <td>Here's a puppo that seems to be on the fence a...</td>\n    </tr>\n    <tr>\n      <th>12</th>\n      <td>889638837579907072</td>\n      <td>2017-07-25 00:10:02+00:00</td>\n      <td>Ted</td>\n      <td>1.20</td>\n      <td>Tuesday</td>\n      <td>None</td>\n      <td>French Bulldog</td>\n      <td>https://pbs.twimg.com/media/DFihzFfXsAYGDPR.jpg</td>\n      <td>4735</td>\n      <td>27672</td>\n      <td>This is Ted. He does his best. Sometimes that'...</td>\n    </tr>\n    <tr>\n      <th>13</th>\n      <td>889531135344209921</td>\n      <td>2017-07-24 17:02:04+00:00</td>\n      <td>Stuart</td>\n      <td>1.30</td>\n      <td>Monday</td>\n      <td>puppo</td>\n      <td>Golden Retriever</td>\n      <td>https://pbs.twimg.com/media/DFg_2PVW0AEHN3p.jpg</td>\n      <td>2321</td>\n      <td>15359</td>\n      <td>This is Stuart. He's sporting his favorite fan...</td>\n    </tr>\n    <tr>\n      <th>14</th>\n      <td>889278841981685760</td>\n      <td>2017-07-24 00:19:32+00:00</td>\n      <td>Oliver</td>\n      <td>1.30</td>\n      <td>Monday</td>\n      <td>None</td>\n      <td>Whippet</td>\n      <td>https://pbs.twimg.com/ext_tw_video_thumb/88927...</td>\n      <td>5637</td>\n      <td>25652</td>\n      <td>This is Oliver. You're witnessing one of his m...</td>\n    </tr>\n    <tr>\n      <th>15</th>\n      <td>888917238123831296</td>\n      <td>2017-07-23 00:22:39+00:00</td>\n      <td>Jim</td>\n      <td>1.20</td>\n      <td>Sunday</td>\n      <td>None</td>\n      <td>Golden Retriever</td>\n      <td>https://pbs.twimg.com/media/DFYRgsOUQAARGhO.jpg</td>\n      <td>4709</td>\n      <td>29611</td>\n      <td>This is Jim. He found a fren. Taught him how t...</td>\n    </tr>\n    <tr>\n      <th>16</th>\n      <td>888804989199671297</td>\n      <td>2017-07-22 16:56:37+00:00</td>\n      <td>Zeke</td>\n      <td>1.30</td>\n      <td>Saturday</td>\n      <td>None</td>\n      <td>Golden Retriever</td>\n      <td>https://pbs.twimg.com/media/DFWra-3VYAA2piG.jpg</td>\n      <td>4559</td>\n      <td>26080</td>\n      <td>This is Zeke. He has a new stick. Very proud o...</td>\n    </tr>\n    <tr>\n      <th>17</th>\n      <td>888554962724278272</td>\n      <td>2017-07-22 00:23:06+00:00</td>\n      <td>Ralphus</td>\n      <td>1.30</td>\n      <td>Saturday</td>\n      <td>None</td>\n      <td>Siberian Husky</td>\n      <td>https://pbs.twimg.com/media/DFTH_O-UQAACu20.jpg</td>\n      <td>3732</td>\n      <td>20290</td>\n      <td>This is Ralphus. He's powering up. Attempting ...</td>\n    </tr>\n    <tr>\n      <th>18</th>\n      <td>888078434458587136</td>\n      <td>2017-07-20 16:49:33+00:00</td>\n      <td>Gerald</td>\n      <td>1.20</td>\n      <td>Thursday</td>\n      <td>None</td>\n      <td>French Bulldog</td>\n      <td>https://pbs.twimg.com/media/DFMWn56WsAAkA7B.jpg</td>\n      <td>3653</td>\n      <td>22201</td>\n      <td>This is Gerald. He was just told he didn't get...</td>\n    </tr>\n    <tr>\n      <th>19</th>\n      <td>887705289381826560</td>\n      <td>2017-07-19 16:06:48+00:00</td>\n      <td>Jeffrey</td>\n      <td>1.30</td>\n      <td>Wednesday</td>\n      <td>None</td>\n      <td>Basset</td>\n      <td>https://pbs.twimg.com/media/DFHDQBbXgAEqY7t.jpg</td>\n      <td>5609</td>\n      <td>30779</td>\n      <td>This is Jeffrey. He has a monopoly on the pool...</td>\n    </tr>\n  </tbody>\n</table>\n</div>"
     },
     "execution_count": 67,
     "metadata": {},
     "output_type": "execute_result"
    }
   ],
   "source": [
    "df_master_tweets.head(20)"
   ],
   "metadata": {
    "collapsed": false,
    "pycharm": {
     "name": "#%%\n"
    }
   }
  },
  {
   "cell_type": "markdown",
   "source": [
    "## Step 4: Storing data\n",
    "Save the Tweets Master dataset to a csv file named \"twitter_archive_master.csv\""
   ],
   "metadata": {
    "collapsed": false,
    "pycharm": {
     "name": "#%% md\n"
    }
   }
  },
  {
   "cell_type": "code",
   "execution_count": 68,
   "outputs": [],
   "source": [
    "df_master_tweets.to_csv('twitter_archive_master.csv')"
   ],
   "metadata": {
    "collapsed": false,
    "pycharm": {
     "name": "#%%\n"
    }
   }
  },
  {
   "cell_type": "markdown",
   "source": [
    "## Step 5: Analyze and Visualize Data\n",
    "- Three insights and visualizations"
   ],
   "metadata": {
    "collapsed": false,
    "pycharm": {
     "name": "#%% md\n"
    }
   }
  },
  {
   "cell_type": "markdown",
   "source": [
    "#### 5.1 Least popular dog breed (top 5)\n",
    "- Popularity based on:\n",
    "-- Tweet count\n",
    "-- Ratings"
   ],
   "metadata": {
    "collapsed": false,
    "pycharm": {
     "name": "#%% md\n"
    }
   }
  },
  {
   "cell_type": "code",
   "execution_count": 69,
   "outputs": [
    {
     "data": {
      "text/plain": "breed\nGolden Retriever      154\nLabrador Retriever    105\nPembroke               95\nChihuahua              90\nPug                    62\nName: tweet_id, dtype: int64"
     },
     "execution_count": 69,
     "metadata": {},
     "output_type": "execute_result"
    }
   ],
   "source": [
    "#Popularity based on tweet counts\n",
    "df_master_tweets.groupby('breed')['tweet_id'].count().sort_values(ascending=False).head(5)"
   ],
   "metadata": {
    "collapsed": false,
    "pycharm": {
     "name": "#%%\n"
    }
   }
  },
  {
   "cell_type": "code",
   "execution_count": 70,
   "outputs": [
    {
     "data": {
      "text/plain": "<Figure size 720x360 with 1 Axes>",
      "image/png": "[encoded data removed]"
     },
     "metadata": {
      "needs_background": "light"
     },
     "output_type": "display_data"
    }
   ],
   "source": [
    "#Plot of popular breeds based on tweet count\n",
    "df_master_tweets.groupby('breed')['tweet_id'].count().sort_values(ascending=False).head(5)\\\n",
    "    .plot(kind='bar', figsize=(10,5),title='Top 5 popular dog breeds (Tweet Count)',ylabel='Count', color='brown');"
   ],
   "metadata": {
    "collapsed": false,
    "pycharm": {
     "name": "#%%\n"
    }
   }
  },
  {
   "cell_type": "code",
   "execution_count": 71,
   "outputs": [
    {
     "data": {
      "text/plain": "breed\nClumber                2.70\nBouvier Des Flandres   1.30\nSaluki                 1.25\nBriard                 1.23\nTibetan Mastiff        1.23\nName: rating, dtype: float64"
     },
     "execution_count": 71,
     "metadata": {},
     "output_type": "execute_result"
    }
   ],
   "source": [
    "#Popularity based on average ratings\n",
    "df_master_tweets.groupby('breed')['rating'].mean().sort_values(ascending=False).head(5)"
   ],
   "metadata": {
    "collapsed": false,
    "pycharm": {
     "name": "#%%\n"
    }
   }
  },
  {
   "cell_type": "code",
   "execution_count": 72,
   "outputs": [
    {
     "data": {
      "text/plain": "<Figure size 720x360 with 1 Axes>",
      "image/png": "[encoded data removed]"
     },
     "metadata": {
      "needs_background": "light"
     },
     "output_type": "display_data"
    }
   ],
   "source": [
    "#Plot popularity based on average ratings\n",
    "df_master_tweets.groupby('breed')['rating'].mean().sort_values(ascending=False).head(5)\\\n",
    "    .plot(kind='bar', figsize=(10,5),title='Top 5 popular dog breeds (Ratings)',ylabel='Average Rating', color='brown');"
   ],
   "metadata": {
    "collapsed": false,
    "pycharm": {
     "name": "#%%\n"
    }
   }
  },
  {
   "cell_type": "markdown",
   "source": [
    "<b>Insights:</b>\n",
    "- The dog breeds with the most tweets are not in the top 5 ratings\n",
    "- This could be caused by a few outliers\n",
    "- For a full picture, we will explore the relationship between these two variables"
   ],
   "metadata": {
    "collapsed": false,
    "pycharm": {
     "name": "#%% md\n"
    }
   }
  },
  {
   "cell_type": "markdown",
   "source": [
    "#### 5.2 Relationships\n",
    "- Correlations between:\n",
    "-- Ratings and tweet count\n",
    "-- Favourite and Retweets"
   ],
   "metadata": {
    "collapsed": false,
    "pycharm": {
     "name": "#%% md\n"
    }
   }
  },
  {
   "cell_type": "code",
   "execution_count": 73,
   "outputs": [
    {
     "data": {
      "text/plain": "<Figure size 432x288 with 1 Axes>",
      "image/png": "[encoded data removed]"
     },
     "metadata": {
      "needs_background": "light"
     },
     "output_type": "display_data"
    }
   ],
   "source": [
    "# Scatterplot\n",
    "plt.scatter(df_master_tweets['rating'], df_master_tweets['tweet_id']);\n",
    "plt.title('The Relationship between Ratings and Tweet count')\n",
    "plt.xlabel('rating')\n",
    "plt.ylabel('retweet count')\n",
    "plt.show();"
   ],
   "metadata": {
    "collapsed": false,
    "pycharm": {
     "name": "#%%\n"
    }
   }
  },
  {
   "cell_type": "markdown",
   "source": [
    "<b>Insights</b>:\n",
    "- The relationship is not a direct correlation, however, having a higher tweet count does improve chances\n",
    "of obtaining a higher rating\n",
    "- There are a few outliers on the right side, with few tweets but high ratings. These could be rare breeds"
   ],
   "metadata": {
    "collapsed": false,
    "pycharm": {
     "name": "#%% md\n"
    }
   }
  },
  {
   "cell_type": "code",
   "execution_count": 74,
   "outputs": [
    {
     "data": {
      "text/plain": "<Figure size 432x288 with 1 Axes>",
      "image/png": "[encoded data removed]"
     },
     "metadata": {
      "needs_background": "light"
     },
     "output_type": "display_data"
    }
   ],
   "source": [
    "# Scatterplot\n",
    "plt.scatter(df_master_tweets['favorite_count'], df_master_tweets['retweet_count']);\n",
    "plt.title('The Relationship between Favorite and Retweet count')\n",
    "plt.xlabel('Favourite_count')\n",
    "plt.ylabel('Retweet count')\n",
    "plt.show();"
   ],
   "metadata": {
    "collapsed": false,
    "pycharm": {
     "name": "#%%\n"
    }
   }
  },
  {
   "cell_type": "markdown",
   "source": [
    "<b>Insights</b>:\n",
    "- There is a positive correlation between ratings and retweet counts"
   ],
   "metadata": {
    "collapsed": false,
    "pycharm": {
     "name": "#%% md\n"
    }
   }
  },
  {
   "cell_type": "markdown",
   "source": [
    "#### 5.3 Date/time\n",
    "- Days with the largest retweets and favourites (Which days are most busy on twitter)"
   ],
   "metadata": {
    "collapsed": false,
    "pycharm": {
     "name": "#%% md\n"
    }
   }
  },
  {
   "cell_type": "code",
   "execution_count": 75,
   "outputs": [
    {
     "data": {
      "text/plain": "day             Friday  Monday  Saturday  Sunday  Thursday  Tuesday  Wednesday\nfavorite_count 9001.41 9027.46   9243.96 9083.33   8622.19  9623.07   10226.81\nretweet_count  2720.33 2755.75   3050.66 2732.70   2542.81  2846.48    3109.07",
      "text/html": "<div>\n<style scoped>\n    .dataframe tbody tr th:only-of-type {\n        vertical-align: middle;\n    }\n\n    .dataframe tbody tr th {\n        vertical-align: top;\n    }\n\n    .dataframe thead th {\n        text-align: right;\n    }\n</style>\n<table border=\"1\" class=\"dataframe\">\n  <thead>\n    <tr style=\"text-align: right;\">\n      <th>day</th>\n      <th>Friday</th>\n      <th>Monday</th>\n      <th>Saturday</th>\n      <th>Sunday</th>\n      <th>Thursday</th>\n      <th>Tuesday</th>\n      <th>Wednesday</th>\n    </tr>\n  </thead>\n  <tbody>\n    <tr>\n      <th>favorite_count</th>\n      <td>9001.41</td>\n      <td>9027.46</td>\n      <td>9243.96</td>\n      <td>9083.33</td>\n      <td>8622.19</td>\n      <td>9623.07</td>\n      <td>10226.81</td>\n    </tr>\n    <tr>\n      <th>retweet_count</th>\n      <td>2720.33</td>\n      <td>2755.75</td>\n      <td>3050.66</td>\n      <td>2732.70</td>\n      <td>2542.81</td>\n      <td>2846.48</td>\n      <td>3109.07</td>\n    </tr>\n  </tbody>\n</table>\n</div>"
     },
     "execution_count": 75,
     "metadata": {},
     "output_type": "execute_result"
    }
   ],
   "source": [
    "df_master_pivot = df_master_tweets.pivot_table(index=None, columns='day', values=['retweet_count','favorite_count'], aggfunc=np.mean)\n",
    "df_master_pivot"
   ],
   "metadata": {
    "collapsed": false,
    "pycharm": {
     "name": "#%%\n"
    }
   }
  },
  {
   "cell_type": "code",
   "execution_count": 76,
   "outputs": [
    {
     "data": {
      "text/plain": "<Figure size 648x360 with 1 Axes>",
      "image/png": "[encoded data removed]"
     },
     "metadata": {
      "needs_background": "light"
     },
     "output_type": "display_data"
    }
   ],
   "source": [
    "df_master_pivot.T.plot(kind='bar', figsize=(9,5), ylabel='count', title='Tweet Engagement by day of week');"
   ],
   "metadata": {
    "collapsed": false,
    "pycharm": {
     "name": "#%%\n"
    }
   }
  },
  {
   "cell_type": "markdown",
   "source": [
    "<b>Insights:</b>\n",
    "- Twitter engagement appears to be consistent regardless of day of week"
   ],
   "metadata": {
    "collapsed": false,
    "pycharm": {
     "name": "#%% md\n"
    }
   }
  },
  {
   "cell_type": "markdown",
   "source": [
    "#### 5.4 Personalities\n",
    "- Which personalities have the most engagement (favorite & retweets)"
   ],
   "metadata": {
    "collapsed": false,
    "pycharm": {
     "name": "#%% md\n"
    }
   }
  },
  {
   "cell_type": "code",
   "execution_count": 77,
   "outputs": [],
   "source": [
    "df_master_pivot = df_master_tweets.pivot_table(index=None, columns='personality', values=['favorite_count','retweet_count'], aggfunc=np.mean)"
   ],
   "metadata": {
    "collapsed": false,
    "pycharm": {
     "name": "#%%\n"
    }
   }
  },
  {
   "cell_type": "code",
   "execution_count": 78,
   "outputs": [
    {
     "data": {
      "text/plain": "personality       None    doggo  floofer  pupper    puppo\nfavorite_count 8819.64 19014.14 13206.00 7516.82 21457.81\nretweet_count  2618.21  6844.56  4968.71 2416.92  6375.76",
      "text/html": "<div>\n<style scoped>\n    .dataframe tbody tr th:only-of-type {\n        vertical-align: middle;\n    }\n\n    .dataframe tbody tr th {\n        vertical-align: top;\n    }\n\n    .dataframe thead th {\n        text-align: right;\n    }\n</style>\n<table border=\"1\" class=\"dataframe\">\n  <thead>\n    <tr style=\"text-align: right;\">\n      <th>personality</th>\n      <th>None</th>\n      <th>doggo</th>\n      <th>floofer</th>\n      <th>pupper</th>\n      <th>puppo</th>\n    </tr>\n  </thead>\n  <tbody>\n    <tr>\n      <th>favorite_count</th>\n      <td>8819.64</td>\n      <td>19014.14</td>\n      <td>13206.00</td>\n      <td>7516.82</td>\n      <td>21457.81</td>\n    </tr>\n    <tr>\n      <th>retweet_count</th>\n      <td>2618.21</td>\n      <td>6844.56</td>\n      <td>4968.71</td>\n      <td>2416.92</td>\n      <td>6375.76</td>\n    </tr>\n  </tbody>\n</table>\n</div>"
     },
     "execution_count": 78,
     "metadata": {},
     "output_type": "execute_result"
    }
   ],
   "source": [
    "df_master_pivot"
   ],
   "metadata": {
    "collapsed": false,
    "pycharm": {
     "name": "#%%\n"
    }
   }
  },
  {
   "cell_type": "code",
   "execution_count": 79,
   "outputs": [
    {
     "data": {
      "text/plain": "<Figure size 648x360 with 1 Axes>",
      "image/png": "[encoded data removed]"
     },
     "metadata": {
      "needs_background": "light"
     },
     "output_type": "display_data"
    }
   ],
   "source": [
    "df_master_pivot.T.plot(kind='bar', figsize=(9,5), ylabel='count', title='Tweet Engagement by day of week');"
   ],
   "metadata": {
    "collapsed": false,
    "pycharm": {
     "name": "#%%\n"
    }
   }
  },
  {
   "cell_type": "markdown",
   "source": [
    "<b>Insights:</b>\n",
    "- Dog tweets without a personality appear to have the lowest engagement as expected\n",
    "- Puppos are leading in favorites"
   ],
   "metadata": {
    "collapsed": false,
    "pycharm": {
     "name": "#%% md\n"
    }
   }
  }
 ],
 "metadata": {
  "kernelspec": {
   "display_name": "Python 3 (ipykernel)",
   "language": "python",
   "name": "python3"
  },
  "language_info": {
   "codemirror_mode": {
    "name": "ipython",
    "version": 3
   },
   "file_extension": ".py",
   "mimetype": "text/x-python",
   "name": "python",
   "nbconvert_exporter": "python",
   "pygments_lexer": "ipython3",
   "version": "3.9.12"
  }
 },
 "nbformat": 4,
 "nbformat_minor": 1
}